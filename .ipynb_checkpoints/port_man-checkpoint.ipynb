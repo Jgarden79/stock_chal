{
 "cells": [
  {
   "cell_type": "code",
   "execution_count": 106,
   "metadata": {
    "collapsed": true
   },
   "outputs": [],
   "source": [
    "import pandas as pd\n",
    "import warnings\n",
    "from pandas.core.common import SettingWithCopyWarning\n",
    "from yahoo_fin import stock_info as si\n",
    "import datetime\n",
    "import pickle\n",
    "import tqdm\n",
    "import numpy as np\n",
    "import pandas_market_calendars as mcal\n",
    "import os\n",
    "import emoji\n"
   ]
  },
  {
   "cell_type": "code",
   "execution_count": 29,
   "outputs": [],
   "source": [
    "warnings.simplefilter(action=\"ignore\", category=SettingWithCopyWarning)\n",
    "warnings.simplefilter(action='ignore', category=FutureWarning)"
   ],
   "metadata": {
    "collapsed": false,
    "pycharm": {
     "name": "#%%\n"
    }
   }
  },
  {
   "cell_type": "code",
   "execution_count": 3,
   "metadata": {},
   "outputs": [],
   "source": [
    "today = datetime.datetime.today().date()\n",
    "s_date = '2021-12-31'\n",
    "nyse = mcal.get_calendar('NYSE') # set up calendar\n",
    "market_days = nyse.valid_days(start_date=s_date, end_date=today).date # get valid market days"
   ]
  },
  {
   "cell_type": "code",
   "execution_count": 4,
   "metadata": {
    "collapsed": false,
    "pycharm": {
     "name": "#%%\n"
    }
   },
   "outputs": [],
   "source": [
    "def create_initials():\n",
    "    \"\"\"\n",
    "    creates the initial allocations using the provided CSV\n",
    "    :return: a pandas df of initial allocations\n",
    "    \"\"\"\n",
    "    inital_allocs = pd.read_csv('assets/init_alloc.csv', index_col='stocks') # read in initial allc csv\n",
    "    inital_allocs = inital_allocs*1000000 # convert to $ value\n",
    "    stocks = list(inital_allocs.index) # put all stocks in list\n",
    "    px_dat = [] # px data for day 0\n",
    "    for stock in stocks:# loop through all stocks\n",
    "        k = si.get_data(stock, start_date='2021-12-31', end_date='2022-01-01', interval='1d') # request relevant info\n",
    "        px = k['close'].iloc[0] # take only the closing px on the day\n",
    "        px_dat.append(px) # append to the list\n",
    "    inital_allocs['px_dat'] = px_dat # add px data to alloc df\n",
    "    init_shares = inital_allocs.floordiv(inital_allocs['px_dat'].to_numpy(), axis=0) # ensures\n",
    "    init_shares['px_dat'] = px_dat\n",
    "    init_shares.to_csv(\"assets/shares.csv\", index = True)\n",
    "    return init_shares"
   ]
  },
  {
   "cell_type": "code",
   "execution_count": 5,
   "outputs": [
    {
     "data": {
      "text/plain": "        Anish  Emily  Paul  Kirby  Hosegood  Leong  Olivia  Brokaw  Eric H  \\\nstocks                                                                       \nRIVN      0.0    0.0   0.0    0.0       0.0    0.0     0.0   964.0     0.0   \nLCID      0.0    0.0   0.0    0.0       0.0    0.0     0.0  2628.0     0.0   \nAPPS      0.0    0.0   0.0    0.0       0.0    0.0     0.0  1639.0     0.0   \nBUR       0.0    0.0   0.0    0.0       0.0    0.0     0.0  9469.0     0.0   \nFIGS      0.0    0.0   0.0    0.0       0.0    0.0     0.0  3628.0     0.0   \n...       ...    ...   ...    ...       ...    ...     ...     ...     ...   \nBIDU      0.0    0.0   0.0    0.0       0.0    0.0     0.0     0.0     0.0   \nBABA      0.0    0.0   0.0    0.0       0.0    0.0     0.0     0.0     0.0   \nDIDI      0.0    0.0   0.0    0.0       0.0    0.0     0.0     0.0     0.0   \nVZIO      0.0    0.0   0.0    0.0       0.0    0.0     0.0     0.0     0.0   \nNIO       0.0    0.0   0.0    0.0       0.0    0.0     0.0     0.0     0.0   \n\n        Kyle Cross  ...  Farrah  Baldridge   Rubyann  Mac  Madison  Karsa  \\\nstocks              ...                                                     \nRIVN           0.0  ...     0.0         0.0      0.0  0.0      0.0    0.0   \nLCID           0.0  ...     0.0         0.0      0.0  0.0      0.0    0.0   \nAPPS        4099.0  ...     0.0         0.0      0.0  0.0      0.0    0.0   \nBUR         4734.0  ...     0.0         0.0      0.0  0.0      0.0    0.0   \nFIGS           0.0  ...     0.0         0.0      0.0  0.0      0.0    0.0   \n...            ...  ...     ...         ...      ...  ...      ...    ...   \nBIDU           0.0  ...     0.0         0.0      0.0  0.0      0.0    0.0   \nBABA           0.0  ...     0.0         0.0      0.0  0.0      0.0    0.0   \nDIDI           0.0  ...     0.0         0.0      0.0  0.0      0.0    0.0   \nVZIO           0.0  ...     0.0         0.0      0.0  0.0      0.0    0.0   \nNIO            0.0  ...     0.0         0.0      0.0  0.0      0.0    0.0   \n\n        Sergio  Daniel K  Candice      px_dat  \nstocks                                         \nRIVN       0.0       0.0      0.0  103.690002  \nLCID       0.0       0.0      0.0   38.049999  \nAPPS       0.0       0.0      0.0   60.990002  \nBUR        0.0       0.0      0.0   10.560000  \nFIGS       0.0       0.0      0.0   27.559999  \n...        ...       ...      ...         ...  \nBIDU       0.0       0.0    672.0  148.789993  \nBABA       0.0       0.0    841.0  118.790001  \nDIDI       0.0       0.0  20080.0    4.980000  \nVZIO       0.0       0.0   5146.0   19.430000  \nNIO        0.0       0.0   3156.0   31.680000  \n\n[146 rows x 27 columns]",
      "text/html": "<div>\n<style scoped>\n    .dataframe tbody tr th:only-of-type {\n        vertical-align: middle;\n    }\n\n    .dataframe tbody tr th {\n        vertical-align: top;\n    }\n\n    .dataframe thead th {\n        text-align: right;\n    }\n</style>\n<table border=\"1\" class=\"dataframe\">\n  <thead>\n    <tr style=\"text-align: right;\">\n      <th></th>\n      <th>Anish</th>\n      <th>Emily</th>\n      <th>Paul</th>\n      <th>Kirby</th>\n      <th>Hosegood</th>\n      <th>Leong</th>\n      <th>Olivia</th>\n      <th>Brokaw</th>\n      <th>Eric H</th>\n      <th>Kyle Cross</th>\n      <th>...</th>\n      <th>Farrah</th>\n      <th>Baldridge</th>\n      <th>Rubyann</th>\n      <th>Mac</th>\n      <th>Madison</th>\n      <th>Karsa</th>\n      <th>Sergio</th>\n      <th>Daniel K</th>\n      <th>Candice</th>\n      <th>px_dat</th>\n    </tr>\n    <tr>\n      <th>stocks</th>\n      <th></th>\n      <th></th>\n      <th></th>\n      <th></th>\n      <th></th>\n      <th></th>\n      <th></th>\n      <th></th>\n      <th></th>\n      <th></th>\n      <th></th>\n      <th></th>\n      <th></th>\n      <th></th>\n      <th></th>\n      <th></th>\n      <th></th>\n      <th></th>\n      <th></th>\n      <th></th>\n      <th></th>\n    </tr>\n  </thead>\n  <tbody>\n    <tr>\n      <th>RIVN</th>\n      <td>0.0</td>\n      <td>0.0</td>\n      <td>0.0</td>\n      <td>0.0</td>\n      <td>0.0</td>\n      <td>0.0</td>\n      <td>0.0</td>\n      <td>964.0</td>\n      <td>0.0</td>\n      <td>0.0</td>\n      <td>...</td>\n      <td>0.0</td>\n      <td>0.0</td>\n      <td>0.0</td>\n      <td>0.0</td>\n      <td>0.0</td>\n      <td>0.0</td>\n      <td>0.0</td>\n      <td>0.0</td>\n      <td>0.0</td>\n      <td>103.690002</td>\n    </tr>\n    <tr>\n      <th>LCID</th>\n      <td>0.0</td>\n      <td>0.0</td>\n      <td>0.0</td>\n      <td>0.0</td>\n      <td>0.0</td>\n      <td>0.0</td>\n      <td>0.0</td>\n      <td>2628.0</td>\n      <td>0.0</td>\n      <td>0.0</td>\n      <td>...</td>\n      <td>0.0</td>\n      <td>0.0</td>\n      <td>0.0</td>\n      <td>0.0</td>\n      <td>0.0</td>\n      <td>0.0</td>\n      <td>0.0</td>\n      <td>0.0</td>\n      <td>0.0</td>\n      <td>38.049999</td>\n    </tr>\n    <tr>\n      <th>APPS</th>\n      <td>0.0</td>\n      <td>0.0</td>\n      <td>0.0</td>\n      <td>0.0</td>\n      <td>0.0</td>\n      <td>0.0</td>\n      <td>0.0</td>\n      <td>1639.0</td>\n      <td>0.0</td>\n      <td>4099.0</td>\n      <td>...</td>\n      <td>0.0</td>\n      <td>0.0</td>\n      <td>0.0</td>\n      <td>0.0</td>\n      <td>0.0</td>\n      <td>0.0</td>\n      <td>0.0</td>\n      <td>0.0</td>\n      <td>0.0</td>\n      <td>60.990002</td>\n    </tr>\n    <tr>\n      <th>BUR</th>\n      <td>0.0</td>\n      <td>0.0</td>\n      <td>0.0</td>\n      <td>0.0</td>\n      <td>0.0</td>\n      <td>0.0</td>\n      <td>0.0</td>\n      <td>9469.0</td>\n      <td>0.0</td>\n      <td>4734.0</td>\n      <td>...</td>\n      <td>0.0</td>\n      <td>0.0</td>\n      <td>0.0</td>\n      <td>0.0</td>\n      <td>0.0</td>\n      <td>0.0</td>\n      <td>0.0</td>\n      <td>0.0</td>\n      <td>0.0</td>\n      <td>10.560000</td>\n    </tr>\n    <tr>\n      <th>FIGS</th>\n      <td>0.0</td>\n      <td>0.0</td>\n      <td>0.0</td>\n      <td>0.0</td>\n      <td>0.0</td>\n      <td>0.0</td>\n      <td>0.0</td>\n      <td>3628.0</td>\n      <td>0.0</td>\n      <td>0.0</td>\n      <td>...</td>\n      <td>0.0</td>\n      <td>0.0</td>\n      <td>0.0</td>\n      <td>0.0</td>\n      <td>0.0</td>\n      <td>0.0</td>\n      <td>0.0</td>\n      <td>0.0</td>\n      <td>0.0</td>\n      <td>27.559999</td>\n    </tr>\n    <tr>\n      <th>...</th>\n      <td>...</td>\n      <td>...</td>\n      <td>...</td>\n      <td>...</td>\n      <td>...</td>\n      <td>...</td>\n      <td>...</td>\n      <td>...</td>\n      <td>...</td>\n      <td>...</td>\n      <td>...</td>\n      <td>...</td>\n      <td>...</td>\n      <td>...</td>\n      <td>...</td>\n      <td>...</td>\n      <td>...</td>\n      <td>...</td>\n      <td>...</td>\n      <td>...</td>\n      <td>...</td>\n    </tr>\n    <tr>\n      <th>BIDU</th>\n      <td>0.0</td>\n      <td>0.0</td>\n      <td>0.0</td>\n      <td>0.0</td>\n      <td>0.0</td>\n      <td>0.0</td>\n      <td>0.0</td>\n      <td>0.0</td>\n      <td>0.0</td>\n      <td>0.0</td>\n      <td>...</td>\n      <td>0.0</td>\n      <td>0.0</td>\n      <td>0.0</td>\n      <td>0.0</td>\n      <td>0.0</td>\n      <td>0.0</td>\n      <td>0.0</td>\n      <td>0.0</td>\n      <td>672.0</td>\n      <td>148.789993</td>\n    </tr>\n    <tr>\n      <th>BABA</th>\n      <td>0.0</td>\n      <td>0.0</td>\n      <td>0.0</td>\n      <td>0.0</td>\n      <td>0.0</td>\n      <td>0.0</td>\n      <td>0.0</td>\n      <td>0.0</td>\n      <td>0.0</td>\n      <td>0.0</td>\n      <td>...</td>\n      <td>0.0</td>\n      <td>0.0</td>\n      <td>0.0</td>\n      <td>0.0</td>\n      <td>0.0</td>\n      <td>0.0</td>\n      <td>0.0</td>\n      <td>0.0</td>\n      <td>841.0</td>\n      <td>118.790001</td>\n    </tr>\n    <tr>\n      <th>DIDI</th>\n      <td>0.0</td>\n      <td>0.0</td>\n      <td>0.0</td>\n      <td>0.0</td>\n      <td>0.0</td>\n      <td>0.0</td>\n      <td>0.0</td>\n      <td>0.0</td>\n      <td>0.0</td>\n      <td>0.0</td>\n      <td>...</td>\n      <td>0.0</td>\n      <td>0.0</td>\n      <td>0.0</td>\n      <td>0.0</td>\n      <td>0.0</td>\n      <td>0.0</td>\n      <td>0.0</td>\n      <td>0.0</td>\n      <td>20080.0</td>\n      <td>4.980000</td>\n    </tr>\n    <tr>\n      <th>VZIO</th>\n      <td>0.0</td>\n      <td>0.0</td>\n      <td>0.0</td>\n      <td>0.0</td>\n      <td>0.0</td>\n      <td>0.0</td>\n      <td>0.0</td>\n      <td>0.0</td>\n      <td>0.0</td>\n      <td>0.0</td>\n      <td>...</td>\n      <td>0.0</td>\n      <td>0.0</td>\n      <td>0.0</td>\n      <td>0.0</td>\n      <td>0.0</td>\n      <td>0.0</td>\n      <td>0.0</td>\n      <td>0.0</td>\n      <td>5146.0</td>\n      <td>19.430000</td>\n    </tr>\n    <tr>\n      <th>NIO</th>\n      <td>0.0</td>\n      <td>0.0</td>\n      <td>0.0</td>\n      <td>0.0</td>\n      <td>0.0</td>\n      <td>0.0</td>\n      <td>0.0</td>\n      <td>0.0</td>\n      <td>0.0</td>\n      <td>0.0</td>\n      <td>...</td>\n      <td>0.0</td>\n      <td>0.0</td>\n      <td>0.0</td>\n      <td>0.0</td>\n      <td>0.0</td>\n      <td>0.0</td>\n      <td>0.0</td>\n      <td>0.0</td>\n      <td>3156.0</td>\n      <td>31.680000</td>\n    </tr>\n  </tbody>\n</table>\n<p>146 rows × 27 columns</p>\n</div>"
     },
     "execution_count": 5,
     "metadata": {},
     "output_type": "execute_result"
    }
   ],
   "source": [
    "create_initials()"
   ],
   "metadata": {
    "collapsed": false,
    "pycharm": {
     "name": "#%%\n"
    }
   }
  },
  {
   "cell_type": "code",
   "execution_count": 6,
   "metadata": {},
   "outputs": [],
   "source": [
    "def update_stocklist(stocks_in=[], stocks_out=[]):\n",
    "    \"\"\"\n",
    "    create a security master file\n",
    "    :param stocks_in: stocks that are going into portfolios.\n",
    "    :param stocks_out: Stocks comming out of portfolios\n",
    "    :return:\n",
    "    \"\"\"\n",
    "    try: #try to do the following\n",
    "        with open('assets/stock_list.pkl', 'rb') as f: # open the stock list pickle file\n",
    "            stock_list = pickle.load(f) # load the file\n",
    "        new = [] # this is a new list of stocks\n",
    "        for s in stock_list: # for every stock in the list of existing stocks\n",
    "            if s not in stocks_out: # if the stock is not in the out list\n",
    "                new.append(s) # keep the stock in the master stock list\n",
    "        for t in stocks_in: # for every stock in the list of new stocks\n",
    "            if t not in new: # if the stock is NOT in the master already\n",
    "                new.append(t) # add it\n",
    "        with open('assets/stock_list.pkl', 'wb') as f: # re-open the pickle file\n",
    "            pickle.dump(new, f) # save it\n",
    "    except: #otherwise\n",
    "        with open('assets/stock_list.pkl', 'wb') as f: # just create a new master using the new assets\n",
    "            pickle.dump(stocks_in, f) # save it\n",
    "    return\n",
    "\n",
    "\n",
    "\n"
   ]
  },
  {
   "cell_type": "code",
   "execution_count": 6,
   "outputs": [],
   "source": [],
   "metadata": {
    "collapsed": false,
    "pycharm": {
     "name": "#%%\n"
    }
   }
  },
  {
   "cell_type": "code",
   "execution_count": 7,
   "metadata": {},
   "outputs": [],
   "source": [
    "def update_px():\n",
    "    \"\"\"\n",
    "    update the prices of the stocks in the system\n",
    "    :return:\n",
    "    \"\"\"\n",
    "    with open('assets/stock_list.pkl', 'rb') as f: # open tha master stock list\n",
    "        stock_list = pickle.load(f) # load into the system\n",
    "    today = datetime.datetime.today().date().strftime('%Y-%m-%d') # set the date\n",
    "    # for every stock in the system get stock price data and save to a csv\n",
    "    for stock in tqdm.tqdm(stock_list):\n",
    "        k = si.get_data(stock, start_date='2021-12-31', end_date=today, interval='1d') # request relevant info\n",
    "        k.to_csv('assets/px_dat/{}_px.csv'.format(stock))\n",
    "    return"
   ]
  },
  {
   "cell_type": "code",
   "execution_count": 7,
   "outputs": [],
   "source": [],
   "metadata": {
    "collapsed": false,
    "pycharm": {
     "name": "#%%\n"
    }
   }
  },
  {
   "cell_type": "code",
   "execution_count": 8,
   "metadata": {},
   "outputs": [],
   "source": [
    "def update_bm():\n",
    "    \"\"\"\n",
    "    update the benchmark data\n",
    "    :return:\n",
    "    \"\"\"\n",
    "    with open('assets/bm_list.pkl', 'rb') as f: # open the BM master list\n",
    "        stock_list = pickle.load(f) # load into the system\n",
    "    today = datetime.datetime.today().date().strftime('%Y-%m-%d') # today's date\n",
    "    #for every stock in the system get stock price data and save to a csv\n",
    "    for stock in tqdm.tqdm(stock_list):\n",
    "        k = si.get_data(stock, start_date='2021-12-31', end_date=today, interval='1d') # request relevant info\n",
    "        k.to_csv('assets/bm_dat/{}_px.csv'.format(stock))\n",
    "    return"
   ]
  },
  {
   "cell_type": "code",
   "execution_count": 9,
   "metadata": {},
   "outputs": [],
   "source": [
    "def update_divs():\n",
    "    \"\"\"\n",
    "    update dividend data for all stocks\n",
    "    :return:\n",
    "    \"\"\"\n",
    "    with open('assets/stock_list.pkl', 'rb') as f: # open tha master stock list\n",
    "        stock_list = pickle.load(f) # load into the system\n",
    "    today = datetime.datetime.today().date().strftime('%Y-%m-%d') # set the date\n",
    "   # for every stock in the system get stock dividend data and save to a csv\n",
    "    for stock in tqdm.tqdm(stock_list):\n",
    "        k = si.get_dividends(stock, start_date='2021-12-31', end_date=today) # request relevant info\n",
    "        k.to_csv('assets/dividends/{}_div.csv'.format(stock))\n",
    "    return"
   ]
  },
  {
   "cell_type": "code",
   "execution_count": 10,
   "metadata": {},
   "outputs": [
    {
     "name": "stderr",
     "output_type": "stream",
     "text": [
      "100%|██████████| 146/146 [00:17<00:00,  8.27it/s]\n"
     ]
    }
   ],
   "source": [
    "update_divs()"
   ]
  },
  {
   "cell_type": "code",
   "execution_count": 11,
   "metadata": {},
   "outputs": [
    {
     "name": "stderr",
     "output_type": "stream",
     "text": [
      "100%|██████████| 8/8 [00:00<00:00,  8.02it/s]\n"
     ]
    }
   ],
   "source": [
    "update_bm()\n"
   ]
  },
  {
   "cell_type": "code",
   "execution_count": 31,
   "outputs": [],
   "source": [
    "def generate_snap(name, date, trades = {}, cash = 1000000):\n",
    "    \"\"\"\n",
    "    creates a portfolio appraisal\n",
    "    :param name: <str> name of the player\n",
    "    :param date: <str> the date in question format is YYYY-MM-DD\n",
    "    :param trades: <dict> list of trades to execute\n",
    "    :return: <df> appraisal\n",
    "    \"\"\"\n",
    "    # initial trade\n",
    "    if date == '2021-12-31': # assuming its the initial trade day:\n",
    "        position = pd.DataFrame(trades, index=[\"Shares\"]).T # Create the initial positions\n",
    "        px = [pd.read_csv('assets\\px_dat\\{}_px.csv'.format(i), index_col=0).loc[date]['close'] for i in position.index] # read the price data\n",
    "        position['Cost Per Share'] = px # add price data to the initial positions df\n",
    "        position['Cost Basis'] = position['Cost Per Share'] * position['Shares'] # calculate cost basis\n",
    "        position['Current Price'] = px # current px is also the close in this case\n",
    "        position['As of {}'.format(date)] = position['Current Price'] * position['Shares'] # calculate currenc vlaue\n",
    "        position['Return'] = (position['As of {}'.format(date)]/position['Cost Basis'])-1 # calculate position returns\n",
    "        divs = [] # set up dividend list\n",
    "        # get dividends\n",
    "        for stock in position.index: # loop through stocks\n",
    "            d_dat = pd.read_csv('assets\\dividends\\{}_div.csv'.format(stock), index_col=0) # get div data\n",
    "            d_dat.index = pd.to_datetime(d_dat.index) # set dates as datetime\n",
    "            d_dat = d_dat[d_dat.index==pd.to_datetime(date)] # isolate today's date\n",
    "            if len(d_dat)>0: # if dividend data exists\n",
    "                divs.append(d_dat['dividend'].loc[pd.to_datetime(date)]) # add it to the divs list\n",
    "            else:\n",
    "                divs.append(0) # otherwise just add 0\n",
    "        div_pay = np.dot(position['Shares'], np.array(divs))\n",
    "        new_cash = cash - np.sum(position['As of {}'.format(date)]) + div_pay #  calculate the new cash position\n",
    "        cash_pos = pd.DataFrame({\"Shares\":new_cash, \"Cost Per Share\": 1, \"Cost Basis\" : new_cash,\n",
    "                                 \"Current Price\": 1, 'As of {}'.format(date): new_cash, \"Return\":0}, index = [\"Cash\"]) # create cash line\n",
    "        position = pd.concat([position, cash_pos]) # combine cash line with positions\n",
    "        total_line = pd.DataFrame({'Cost Basis': position['Cost Basis'].sum(),\n",
    "                                   'As of {}'.format(date): position['As of {}'.format(date)].sum()}, index = [\"Total\"])# create total line\n",
    "        total_line['Return'] = (total_line['As of {}'.format(date)]/total_line['Cost Basis'])-1 # calculate portfolio total return (like this for day one only)\n",
    "        position = pd.concat([position, total_line]) # combine total with positions\n",
    "        position = position.fillna(\"\") # fill all nas with white space\n",
    "        position.to_csv('assets/port_apps/{}_apr_{}.csv'.format(name, date)) # create csv\n",
    "    else:\n",
    "        loc = np.where(market_days== pd.to_datetime(date))[0][0] # finde the location of todays date in the market days calendar\n",
    "        previous_loc = loc-1 # go back one day\n",
    "        prev_date = market_days[previous_loc].strftime(\"%Y-%m-%d\") # get yesterday's date\n",
    "        position = pd.read_csv(\"assets/port_apps/{}_apr_{}.csv\".format(name, prev_date),index_col = 0) # get the previous apraisal\n",
    "        previous_cash = position.loc['Cash']['As of {}'.format(prev_date)] # store the cash value\n",
    "        previous_port_val = position['As of {}'.format(prev_date)].iloc[:-1].sum()\n",
    "        px = [pd.read_csv('assets\\px_dat\\{}_px.csv'.format(i), index_col=0).loc[date]['close'] for i in position.index[:-2]] # read the price data\n",
    "        px.append(1) #append for cash\n",
    "        px.append('') # append for total\n",
    "        position['Current Price'] = px # current px\n",
    "        position['As of {}'.format(date)] = position['Current Price'] * position['Shares'] # calculate currenc vlaue\n",
    "        position['Return'] = (position['As of {}'.format(date)]/position['Cost Basis'])-1 # calculate position returns\n",
    "        divs = [] # set up dividend list\n",
    "        # get dividends\n",
    "        for stock in position.index[:-2]: # loop through stocks\n",
    "            d_dat = pd.read_csv('assets\\dividends\\{}_div.csv'.format(stock), index_col=0) # get div data\n",
    "            d_dat.index = pd.to_datetime(d_dat.index) # set dates as datetime\n",
    "            d_dat = d_dat[d_dat.index==pd.to_datetime(date)] # isolate today's date\n",
    "            if len(d_dat)>0: # if dividend data exists\n",
    "                divs.append(d_dat['dividend'].loc[pd.to_datetime(date)]) # add it to the divs list\n",
    "            else:\n",
    "                divs.append(0) # otherwise just add 0\n",
    "        div_pay = np.dot(position['Shares'].iloc[:-2], np.array(divs))\n",
    "        new_cash = previous_cash+div_pay\n",
    "        if len(trades.keys())>0:\n",
    "            new_position = pd.DataFrame(trades, index=[\"Shares\"]).T # Create the initial positions\n",
    "            px_new = [pd.read_csv('assets\\px_dat\\{}_px.csv'.format(i), index_col=0).loc[date]['close'] for i in new_position.index] # read the price data\n",
    "            new_position['Cost Per Share'] = px_new # add price data to the initial positions df\n",
    "            new_position['Cost Basis'] = new_position['Cost Per Share'] * new_position['Shares'] # calculate cost basis\n",
    "            new_position['Current Price'] = px_new # current px is also the close in this case\n",
    "            new_position['As of {}'.format(date)] = new_position['Current Price'] * new_position['Shares'] # calculate currenc vlaue\n",
    "            if new_cash - new_position['As of {}'.format(date)].sum() > 0: # make sure new cash is greater than 0\n",
    "                new_cash = new_cash - new_position['As of {}'.format(date)].sum() # adjust cash for new positions\n",
    "                new_apr = pd.concat([position.iloc[:-2], new_position]) # combine old positions with new\n",
    "                new_apr = new_apr.drop(['As of {}'.format(prev_date)], axis = 1) # remove old value\n",
    "                updated_apr = pd.DataFrame() # this is the new appraisal df\n",
    "                for stock in new_apr.index.unique(): # loop through the stocks\n",
    "                    df = new_apr[new_apr.index==stock] # isolate stock lines\n",
    "                    if len(df)<2: # if there is only one line just send that to the new df\n",
    "                        updated_apr = pd.concat([updated_apr, df])\n",
    "                    else:\n",
    "                        post_ex_shares = df['Shares'].sum() # add shares\n",
    "                        post_ex_cost_basis = df['Cost Basis'].sum() # combine cost basis\n",
    "                        post_ex_as_of = df['As of {}'.format(date)].sum() # combine values\n",
    "                        post_ex_cost_per = post_ex_cost_basis/post_ex_shares # back out per share cost\n",
    "                        post_ex_cur = post_ex_as_of/post_ex_shares # share value\n",
    "                        to_apr = pd.DataFrame({\"Shares\":post_ex_shares, \"Cost Per Share\":post_ex_cost_per,\n",
    "                                               \"Cost Basis\": post_ex_cost_basis, \"Current Price\": post_ex_cur,\n",
    "                                               'As of {}'.format(date): post_ex_as_of}, index=[stock]) # create the df line\n",
    "                        updated_apr = pd.concat([updated_apr, to_apr]) # add the new position to the apr\n",
    "                position = updated_apr.copy(deep = True) # this is now the new position\n",
    "            else:\n",
    "                pass\n",
    "        else:\n",
    "            position = position.iloc[:-2]\n",
    "            position = position.drop(['As of {}'.format(prev_date)], axis = 1)\n",
    "        position['Return'] = (position['As of {}'.format(date)]/position['Cost Basis'])-1 # calculate position returns\n",
    "        cash_pos = pd.DataFrame({\"Shares\":new_cash, \"Cost Per Share\": 1, \"Cost Basis\" : new_cash,\n",
    "                                 \"Current Price\": 1, 'As of {}'.format(date): new_cash, \"Return\":0}, index = [\"Cash\"]) # create cash line\n",
    "        position = pd.concat([position, cash_pos]) # combine cash line with positions\n",
    "        total_line = pd.DataFrame({'Cost Basis': position['Cost Basis'].sum(),\n",
    "                                   'As of {}'.format(date): position['As of {}'.format(date)].sum()}, index = [\"Total\"])# create total line\n",
    "        total_line['Return'] = (total_line['As of {}'.format(date)]/previous_port_val)-1 # calculate portfolio total return (like this for day one only)\n",
    "        position = pd.concat([position, total_line]) # combine total with positions\n",
    "        position = position.fillna(\"\") # fill all nas with white space\n",
    "        position.to_csv('assets/port_apps/{}_apr_{}.csv'.format(name, date)) # create csv\n",
    "\n",
    "\n",
    "    return position\n",
    "\n"
   ],
   "metadata": {
    "collapsed": false,
    "pycharm": {
     "name": "#%%\n"
    }
   }
  },
  {
   "cell_type": "code",
   "execution_count": 99,
   "outputs": [],
   "source": [
    "# update performance\n",
    "def update_perf(name):\n",
    "    apr_path = \"assets/port_apps\" # path to appraisal file\n",
    "    apr_list = os.listdir(apr_path) # create list of apraisals\n",
    "    relev_files = [i for i in apr_list if i.split(\"_\")[0]==name]\n",
    "    dates = []\n",
    "    values = []\n",
    "    for file in relev_files:\n",
    "        df = pd.read_csv('{}/{}'.format(apr_path,file), index_col=0)\n",
    "        date = file.split(\"_\")[-1]\n",
    "        date = date.split(\".\")[0]\n",
    "        dates.append(date)\n",
    "        val = df[\"As of {}\".format(date)].loc['Total']\n",
    "        values.append(val)\n",
    "    perf_file = pd.DataFrame({\"Date\":dates, \"Value\": values})\n",
    "    perf_file['Daily Return']=perf_file['Value'].pct_change().fillna(0)\n",
    "    perf_file['Total Return'] = (perf_file['Value']/perf_file['Value'].iloc[0])-1\n",
    "    bm_key = pd.read_csv(\"assets/Player_bm.csv\", index_col=0)\n",
    "    bm = bm_key[bm_key[\"Name\"]==name][\"Benchmark\"].iloc[0]\n",
    "    bm_px = pd.read_csv(\"assets/bm_dat/{}_px.csv\".format(bm), index_col=0)\n",
    "    bm_px = bm_px.filter(['adjclose'])\n",
    "    bm_px['{} Daily Return'.format(bm)] = bm_px['adjclose'].pct_change().fillna(0)\n",
    "    bm_px['{} Total Return'.format(bm)] = (bm_px['adjclose']/bm_px['adjclose'].iloc[0])-1\n",
    "    perf_file=perf_file.set_index('Date').join(bm_px)\n",
    "    perf_file.to_csv(\"assets/performance/{}_perf.csv\".format(name))\n",
    "\n",
    "\n",
    "\n",
    "    return perf_file\n"
   ],
   "metadata": {
    "collapsed": false,
    "pycharm": {
     "name": "#%%\n"
    }
   }
  },
  {
   "cell_type": "code",
   "execution_count": 120,
   "outputs": [
    {
     "data": {
      "text/plain": "        Player     1-Day     5-Day  One Month  One Quarter  Since Inception  \\\n0      Melinda -0.003390  0.019121   0.051940     0.033520         0.033520   \n1        Westy -0.011490  0.050121   0.049081    -0.016122        -0.016122   \n2       Eric H  0.000679  0.003895   0.101914    -0.055491        -0.055491   \n3       Olivia -0.020106  0.045374   0.019209    -0.066563        -0.066563   \n4        Kirby -0.011395  0.067551   0.097007    -0.082392        -0.082392   \n5        Karsa -0.017723  0.016184  -0.051946    -0.082460        -0.082460   \n6         Nour -0.014522  0.017185   0.044951    -0.083940        -0.083940   \n7           AK -0.023706  0.012200   0.045550    -0.087531        -0.087531   \n8      Rubyann -0.022435 -0.005042  -0.011868    -0.100527        -0.100527   \n9   Baldridge  -0.018437  0.044385   0.036560    -0.109252        -0.109252   \n10         Mac  0.001807  0.071921   0.021088    -0.122665        -0.122665   \n11    Daniel K -0.025499  0.017253   0.028393    -0.129320        -0.129320   \n12      Sergio -0.007410  0.058475   0.109226    -0.130310        -0.130310   \n13       Anish -0.021827  0.030055   0.015302    -0.145740        -0.145740   \n14       Jon T -0.016339  0.047471   0.067938    -0.149401        -0.149401   \n15        Paul -0.021319  0.028347  -0.036016    -0.167536        -0.167536   \n16     Candice  0.024883  0.155855  -0.021665    -0.174953        -0.174953   \n17   Weinstein -0.016133  0.061036   0.048417    -0.175773        -0.175773   \n18     Madison -0.013120  0.068929   0.086173    -0.191971        -0.191971   \n19       Emily -0.022153  0.025515  -0.020241    -0.204336        -0.204336   \n20       Leong -0.022179  0.025934   0.016079    -0.216156        -0.216156   \n21      Brokaw -0.009399  0.070315   0.041505    -0.217461        -0.217461   \n22      Farrah -0.013224  0.059214   0.038688    -0.237908        -0.237908   \n23         Bob -0.009386  0.071890   0.066881    -0.264598        -0.264598   \n24    Hosegood -0.028196  0.100385   0.022571    -0.282814        -0.282814   \n25  Kyle Cross -0.021852  0.060982   0.013299    -0.321767        -0.321767   \n\n   Benchmark Ticker  Benchmark Return      Status  \n0              VLUE         -0.042569           💸  \n1               IVW         -0.104219           💸  \n2               IVV         -0.062056           💸  \n3               IVW         -0.104219           💸  \n4               IVW         -0.104219           💸  \n5               IYC         -0.119286  :unamused:  \n6               IVW         -0.104219  :unamused:  \n7              MTUM         -0.088054  :unamused:  \n8               IVW         -0.104219  :unamused:  \n9               IWM         -0.083390  :unamused:  \n10             VLUE         -0.042569  :unamused:  \n11             QUAL         -0.094188  :unamused:  \n12              IVW         -0.104219  :unamused:  \n13              IVW         -0.104219  :unamused:  \n14              IVW         -0.104219  :unamused:  \n15              IVW         -0.104219  :unamused:  \n16              IVV         -0.062056  :unamused:  \n17              IYC         -0.119286  :unamused:  \n18              IVW         -0.104219  :unamused:  \n19              IYW         -0.124543  :unamused:  \n20              IYC         -0.119286  :unamused:  \n21              IVW         -0.104219      :poop:  \n22              IVW         -0.104219      :poop:  \n23              IYW         -0.124543      :poop:  \n24              IWM         -0.083390      :poop:  \n25              IWM         -0.083390      :poop:  ",
      "text/html": "<div>\n<style scoped>\n    .dataframe tbody tr th:only-of-type {\n        vertical-align: middle;\n    }\n\n    .dataframe tbody tr th {\n        vertical-align: top;\n    }\n\n    .dataframe thead th {\n        text-align: right;\n    }\n</style>\n<table border=\"1\" class=\"dataframe\">\n  <thead>\n    <tr style=\"text-align: right;\">\n      <th></th>\n      <th>Player</th>\n      <th>1-Day</th>\n      <th>5-Day</th>\n      <th>One Month</th>\n      <th>One Quarter</th>\n      <th>Since Inception</th>\n      <th>Benchmark Ticker</th>\n      <th>Benchmark Return</th>\n      <th>Status</th>\n    </tr>\n  </thead>\n  <tbody>\n    <tr>\n      <th>0</th>\n      <td>Melinda</td>\n      <td>-0.003390</td>\n      <td>0.019121</td>\n      <td>0.051940</td>\n      <td>0.033520</td>\n      <td>0.033520</td>\n      <td>VLUE</td>\n      <td>-0.042569</td>\n      <td>💸</td>\n    </tr>\n    <tr>\n      <th>1</th>\n      <td>Westy</td>\n      <td>-0.011490</td>\n      <td>0.050121</td>\n      <td>0.049081</td>\n      <td>-0.016122</td>\n      <td>-0.016122</td>\n      <td>IVW</td>\n      <td>-0.104219</td>\n      <td>💸</td>\n    </tr>\n    <tr>\n      <th>2</th>\n      <td>Eric H</td>\n      <td>0.000679</td>\n      <td>0.003895</td>\n      <td>0.101914</td>\n      <td>-0.055491</td>\n      <td>-0.055491</td>\n      <td>IVV</td>\n      <td>-0.062056</td>\n      <td>💸</td>\n    </tr>\n    <tr>\n      <th>3</th>\n      <td>Olivia</td>\n      <td>-0.020106</td>\n      <td>0.045374</td>\n      <td>0.019209</td>\n      <td>-0.066563</td>\n      <td>-0.066563</td>\n      <td>IVW</td>\n      <td>-0.104219</td>\n      <td>💸</td>\n    </tr>\n    <tr>\n      <th>4</th>\n      <td>Kirby</td>\n      <td>-0.011395</td>\n      <td>0.067551</td>\n      <td>0.097007</td>\n      <td>-0.082392</td>\n      <td>-0.082392</td>\n      <td>IVW</td>\n      <td>-0.104219</td>\n      <td>💸</td>\n    </tr>\n    <tr>\n      <th>5</th>\n      <td>Karsa</td>\n      <td>-0.017723</td>\n      <td>0.016184</td>\n      <td>-0.051946</td>\n      <td>-0.082460</td>\n      <td>-0.082460</td>\n      <td>IYC</td>\n      <td>-0.119286</td>\n      <td>:unamused:</td>\n    </tr>\n    <tr>\n      <th>6</th>\n      <td>Nour</td>\n      <td>-0.014522</td>\n      <td>0.017185</td>\n      <td>0.044951</td>\n      <td>-0.083940</td>\n      <td>-0.083940</td>\n      <td>IVW</td>\n      <td>-0.104219</td>\n      <td>:unamused:</td>\n    </tr>\n    <tr>\n      <th>7</th>\n      <td>AK</td>\n      <td>-0.023706</td>\n      <td>0.012200</td>\n      <td>0.045550</td>\n      <td>-0.087531</td>\n      <td>-0.087531</td>\n      <td>MTUM</td>\n      <td>-0.088054</td>\n      <td>:unamused:</td>\n    </tr>\n    <tr>\n      <th>8</th>\n      <td>Rubyann</td>\n      <td>-0.022435</td>\n      <td>-0.005042</td>\n      <td>-0.011868</td>\n      <td>-0.100527</td>\n      <td>-0.100527</td>\n      <td>IVW</td>\n      <td>-0.104219</td>\n      <td>:unamused:</td>\n    </tr>\n    <tr>\n      <th>9</th>\n      <td>Baldridge</td>\n      <td>-0.018437</td>\n      <td>0.044385</td>\n      <td>0.036560</td>\n      <td>-0.109252</td>\n      <td>-0.109252</td>\n      <td>IWM</td>\n      <td>-0.083390</td>\n      <td>:unamused:</td>\n    </tr>\n    <tr>\n      <th>10</th>\n      <td>Mac</td>\n      <td>0.001807</td>\n      <td>0.071921</td>\n      <td>0.021088</td>\n      <td>-0.122665</td>\n      <td>-0.122665</td>\n      <td>VLUE</td>\n      <td>-0.042569</td>\n      <td>:unamused:</td>\n    </tr>\n    <tr>\n      <th>11</th>\n      <td>Daniel K</td>\n      <td>-0.025499</td>\n      <td>0.017253</td>\n      <td>0.028393</td>\n      <td>-0.129320</td>\n      <td>-0.129320</td>\n      <td>QUAL</td>\n      <td>-0.094188</td>\n      <td>:unamused:</td>\n    </tr>\n    <tr>\n      <th>12</th>\n      <td>Sergio</td>\n      <td>-0.007410</td>\n      <td>0.058475</td>\n      <td>0.109226</td>\n      <td>-0.130310</td>\n      <td>-0.130310</td>\n      <td>IVW</td>\n      <td>-0.104219</td>\n      <td>:unamused:</td>\n    </tr>\n    <tr>\n      <th>13</th>\n      <td>Anish</td>\n      <td>-0.021827</td>\n      <td>0.030055</td>\n      <td>0.015302</td>\n      <td>-0.145740</td>\n      <td>-0.145740</td>\n      <td>IVW</td>\n      <td>-0.104219</td>\n      <td>:unamused:</td>\n    </tr>\n    <tr>\n      <th>14</th>\n      <td>Jon T</td>\n      <td>-0.016339</td>\n      <td>0.047471</td>\n      <td>0.067938</td>\n      <td>-0.149401</td>\n      <td>-0.149401</td>\n      <td>IVW</td>\n      <td>-0.104219</td>\n      <td>:unamused:</td>\n    </tr>\n    <tr>\n      <th>15</th>\n      <td>Paul</td>\n      <td>-0.021319</td>\n      <td>0.028347</td>\n      <td>-0.036016</td>\n      <td>-0.167536</td>\n      <td>-0.167536</td>\n      <td>IVW</td>\n      <td>-0.104219</td>\n      <td>:unamused:</td>\n    </tr>\n    <tr>\n      <th>16</th>\n      <td>Candice</td>\n      <td>0.024883</td>\n      <td>0.155855</td>\n      <td>-0.021665</td>\n      <td>-0.174953</td>\n      <td>-0.174953</td>\n      <td>IVV</td>\n      <td>-0.062056</td>\n      <td>:unamused:</td>\n    </tr>\n    <tr>\n      <th>17</th>\n      <td>Weinstein</td>\n      <td>-0.016133</td>\n      <td>0.061036</td>\n      <td>0.048417</td>\n      <td>-0.175773</td>\n      <td>-0.175773</td>\n      <td>IYC</td>\n      <td>-0.119286</td>\n      <td>:unamused:</td>\n    </tr>\n    <tr>\n      <th>18</th>\n      <td>Madison</td>\n      <td>-0.013120</td>\n      <td>0.068929</td>\n      <td>0.086173</td>\n      <td>-0.191971</td>\n      <td>-0.191971</td>\n      <td>IVW</td>\n      <td>-0.104219</td>\n      <td>:unamused:</td>\n    </tr>\n    <tr>\n      <th>19</th>\n      <td>Emily</td>\n      <td>-0.022153</td>\n      <td>0.025515</td>\n      <td>-0.020241</td>\n      <td>-0.204336</td>\n      <td>-0.204336</td>\n      <td>IYW</td>\n      <td>-0.124543</td>\n      <td>:unamused:</td>\n    </tr>\n    <tr>\n      <th>20</th>\n      <td>Leong</td>\n      <td>-0.022179</td>\n      <td>0.025934</td>\n      <td>0.016079</td>\n      <td>-0.216156</td>\n      <td>-0.216156</td>\n      <td>IYC</td>\n      <td>-0.119286</td>\n      <td>:unamused:</td>\n    </tr>\n    <tr>\n      <th>21</th>\n      <td>Brokaw</td>\n      <td>-0.009399</td>\n      <td>0.070315</td>\n      <td>0.041505</td>\n      <td>-0.217461</td>\n      <td>-0.217461</td>\n      <td>IVW</td>\n      <td>-0.104219</td>\n      <td>:poop:</td>\n    </tr>\n    <tr>\n      <th>22</th>\n      <td>Farrah</td>\n      <td>-0.013224</td>\n      <td>0.059214</td>\n      <td>0.038688</td>\n      <td>-0.237908</td>\n      <td>-0.237908</td>\n      <td>IVW</td>\n      <td>-0.104219</td>\n      <td>:poop:</td>\n    </tr>\n    <tr>\n      <th>23</th>\n      <td>Bob</td>\n      <td>-0.009386</td>\n      <td>0.071890</td>\n      <td>0.066881</td>\n      <td>-0.264598</td>\n      <td>-0.264598</td>\n      <td>IYW</td>\n      <td>-0.124543</td>\n      <td>:poop:</td>\n    </tr>\n    <tr>\n      <th>24</th>\n      <td>Hosegood</td>\n      <td>-0.028196</td>\n      <td>0.100385</td>\n      <td>0.022571</td>\n      <td>-0.282814</td>\n      <td>-0.282814</td>\n      <td>IWM</td>\n      <td>-0.083390</td>\n      <td>:poop:</td>\n    </tr>\n    <tr>\n      <th>25</th>\n      <td>Kyle Cross</td>\n      <td>-0.021852</td>\n      <td>0.060982</td>\n      <td>0.013299</td>\n      <td>-0.321767</td>\n      <td>-0.321767</td>\n      <td>IWM</td>\n      <td>-0.083390</td>\n      <td>:poop:</td>\n    </tr>\n  </tbody>\n</table>\n</div>"
     },
     "execution_count": 120,
     "metadata": {},
     "output_type": "execute_result"
    }
   ],
   "source": [
    "def update_league_tab():\n",
    "    path = \"assets/performance\"\n",
    "    perf_list = os.listdir(path)\n",
    "    names = []\n",
    "    one_day = []\n",
    "    five_day = []\n",
    "    one_month = []\n",
    "    qtr = []\n",
    "    s_inc = []\n",
    "    bm_names = []\n",
    "    bm = []\n",
    "    for doc in perf_list:\n",
    "        names.append(doc.split('_')[0])\n",
    "        rets = pd.read_csv(\"{}/{}\".format(path,doc))\n",
    "        bm_name= rets.columns[-1].split(\" \")[0]\n",
    "        bm_names.append(bm_name)\n",
    "        one_day.append(rets['Daily Return'].iloc[-1])\n",
    "        try:\n",
    "            fiv = np.prod(rets['Daily Return'].iloc[-5:] + 1)-1\n",
    "        except:\n",
    "            fiv = np.prod(rets['Daily Return'] + 1)-1\n",
    "        try:\n",
    "            mth = np.prod(rets['Daily Return'].iloc[-21:] + 1)-1\n",
    "        except:\n",
    "            mth = np.prod(rets['Daily Return'] + 1)-1\n",
    "        try:\n",
    "            qt = np.prod(rets['Daily Return'].iloc[-63:] + 1)-1\n",
    "        except:\n",
    "            qt = np.prod(rets['Daily Return'] + 1)-1\n",
    "        si = np.prod(rets['Daily Return'] + 1)-1\n",
    "        bms = rets['{} Total Return'.format(bm_name)].iloc[-1]\n",
    "        five_day.append(fiv)\n",
    "        one_month.append(mth)\n",
    "        qtr.append(qt)\n",
    "        s_inc.append(si)\n",
    "        bm.append(bms)\n",
    "    league = pd.DataFrame({\"Player\":names, \"1-Day\":one_day, \"5-Day\":five_day, \"One Month\":one_month,\n",
    "                          \"One Quarter\":qtr, \"Since Inception\":s_inc, \"Benchmark Ticker\":bm_names,\"Benchmark Return\":bm})\n",
    "    league = league.sort_values(['Since Inception'], ascending=False)\n",
    "    stars = [emoji.emojize(\":money_with_wings:\") for i in range(0,5)]\n",
    "    poop = [emoji.emojize(\":poop:\") for i in range(0,5)]\n",
    "    unam = [emoji.emojize(\":unamused:\") for i in range(0,16)]\n",
    "    status = stars+unam+poop\n",
    "    league['Status'] = status\n",
    "    league = league.reset_index(drop=True)\n",
    "\n",
    "\n",
    "    return league\n",
    "\n",
    "update_league_tab()\n"
   ],
   "metadata": {
    "collapsed": false,
    "pycharm": {
     "name": "#%%\n"
    }
   }
  },
  {
   "cell_type": "code",
   "execution_count": 100,
   "outputs": [],
   "source": [
    "# create_updates\n",
    "#port_shares = pd.read_csv('assets/shares.csv',index_col=0) # read the shares csv into the system\n",
    "#date = market_days[-2]\n",
    "#date = date.strftime(\"%Y-%m-%d\")\n",
    "#for name in port_shares.columns[:-1]:\n",
    "#    generate_snap(name=name, date=date, cash=0)\n",
    "\n",
    "for name in port_shares.columns[:-1]:\n",
    "    update_perf(name)\n"
   ],
   "metadata": {
    "collapsed": false,
    "pycharm": {
     "name": "#%%\n"
    }
   }
  },
  {
   "cell_type": "code",
   "execution_count": 66,
   "outputs": [],
   "source": [
    "#id_bms for all\n",
    "#names = [name for name in port_shares.columns[:-1]]\n",
    "#bms = [id_bm(name) for name in port_shares.columns[:-1]]\n",
    "#bm_df = pd.DataFrame({\"Name\": names, \"Benchmark\":bms})\n",
    "#bm_df.to_csv(\"assets/Player_bm.csv\")\n"
   ],
   "metadata": {
    "collapsed": false,
    "pycharm": {
     "name": "#%%\n"
    }
   }
  },
  {
   "cell_type": "markdown",
   "source": [],
   "metadata": {
    "collapsed": false
   }
  },
  {
   "cell_type": "code",
   "execution_count": 58,
   "outputs": [],
   "source": [
    "def id_bm(name):\n",
    "    \"\"\"\n",
    "    gets benchmark for port\n",
    "    \"\"\"\n",
    "    port_shares = pd.read_csv('assets/shares.csv',index_col=0)  # read in portfolio data\n",
    "    bm_dat = pd.read_csv('assets/bm_dat.csv', index_col = 0) # read bm_data\n",
    "    port = port_shares[name].to_frame() # isolate the portfolio in question\n",
    "    port = port[port[name]!=0] # eliminate every row that equals 0\n",
    "    holdings = set(port.index) # create a set of holdings\n",
    "    overlap = [] # overlaping list\n",
    "    for b in bm_dat.columns[:-1]: # go through the benchmarks and look for overlaps\n",
    "        stk = bm_dat[b].to_frame()\n",
    "        stk = stk[stk[b]!=0]\n",
    "        b_hold = set(stk.index)\n",
    "        over = holdings & b_hold\n",
    "        overlap.append((b, len(over)))\n",
    "    overlap.sort(key=lambda x: x[1], reverse = True) # sort the overlap list by most to least overlap\n",
    "    finalists = overlap[0:1] # chose finalists\n",
    "    # chose the etf in question as a bm.\n",
    "    if finalists[0][1]== 0:\n",
    "        bm = bm_dat.columns[-1]\n",
    "    else:\n",
    "        bm = finalists[0][0]\n",
    "\n",
    "\n",
    "\n",
    "    return bm"
   ],
   "metadata": {
    "collapsed": false,
    "pycharm": {
     "name": "#%%\n"
    }
   }
  },
  {
   "cell_type": "code",
   "execution_count": 59,
   "outputs": [
    {
     "data": {
      "text/plain": "'IVW'"
     },
     "execution_count": 59,
     "metadata": {},
     "output_type": "execute_result"
    }
   ],
   "source": [
    "id_bm(\"Anish\")"
   ],
   "metadata": {
    "collapsed": false,
    "pycharm": {
     "name": "#%%\n"
    }
   }
  },
  {
   "cell_type": "code",
   "execution_count": 61,
   "outputs": [
    {
     "data": {
      "text/plain": "['QUAL', 'MTUM', 'VLUE', 'IWM', 'IVW', 'IYW', 'IYC', 'IVV']"
     },
     "execution_count": 61,
     "metadata": {},
     "output_type": "execute_result"
    }
   ],
   "source": [],
   "metadata": {
    "collapsed": false,
    "pycharm": {
     "name": "#%%\n"
    }
   }
  },
  {
   "cell_type": "code",
   "execution_count": 67,
   "outputs": [
    {
     "data": {
      "text/plain": "     stock     QUAL     MTUM     VLUE      IWM      IVW      IYW      IYC  \\\n0        T  0.00000  0.00000  7.19575  0.00000  0.00000  0.00000  0.00000   \n1     INTC  1.18210  0.00000  5.64419  0.00000  0.00000  1.93978  0.00000   \n2       MU  0.00000  0.00000  4.03235  0.00000  0.00000  1.08384  0.00000   \n3     CSCO  1.66228  0.00000  3.68796  0.00000  0.59213  0.00000  0.00000   \n4        F  0.00000  1.00559  3.04572  0.00000  0.00000  0.00000  1.33617   \n...    ...      ...      ...      ...      ...      ...      ...      ...   \n3010  CHWY  0.00000  0.00000  0.00000  0.00000  0.00000  0.00000  0.00000   \n3011   USD  0.00000  0.00000  0.00000  0.05323  0.04958  0.05267  0.02993   \n3012  SOFI  0.00000  0.00000  0.00000  0.00000  0.00000  0.00000  0.00000   \n3013  LCID  0.00000  0.00000  0.00000  0.00000  0.00000  0.00000  0.00000   \n3014  HOOD  0.00000  0.00000  0.00000  0.00000  0.00000  0.00000  0.00000   \n\n          IVV  \n0     0.46190  \n1     0.49526  \n2     0.27464  \n3     0.65348  \n4     0.19237  \n...       ...  \n3010  0.00000  \n3011  0.11133  \n3012  0.00000  \n3013  0.00000  \n3014  0.00000  \n\n[3015 rows x 9 columns]",
      "text/html": "<div>\n<style scoped>\n    .dataframe tbody tr th:only-of-type {\n        vertical-align: middle;\n    }\n\n    .dataframe tbody tr th {\n        vertical-align: top;\n    }\n\n    .dataframe thead th {\n        text-align: right;\n    }\n</style>\n<table border=\"1\" class=\"dataframe\">\n  <thead>\n    <tr style=\"text-align: right;\">\n      <th></th>\n      <th>stock</th>\n      <th>QUAL</th>\n      <th>MTUM</th>\n      <th>VLUE</th>\n      <th>IWM</th>\n      <th>IVW</th>\n      <th>IYW</th>\n      <th>IYC</th>\n      <th>IVV</th>\n    </tr>\n  </thead>\n  <tbody>\n    <tr>\n      <th>0</th>\n      <td>T</td>\n      <td>0.00000</td>\n      <td>0.00000</td>\n      <td>7.19575</td>\n      <td>0.00000</td>\n      <td>0.00000</td>\n      <td>0.00000</td>\n      <td>0.00000</td>\n      <td>0.46190</td>\n    </tr>\n    <tr>\n      <th>1</th>\n      <td>INTC</td>\n      <td>1.18210</td>\n      <td>0.00000</td>\n      <td>5.64419</td>\n      <td>0.00000</td>\n      <td>0.00000</td>\n      <td>1.93978</td>\n      <td>0.00000</td>\n      <td>0.49526</td>\n    </tr>\n    <tr>\n      <th>2</th>\n      <td>MU</td>\n      <td>0.00000</td>\n      <td>0.00000</td>\n      <td>4.03235</td>\n      <td>0.00000</td>\n      <td>0.00000</td>\n      <td>1.08384</td>\n      <td>0.00000</td>\n      <td>0.27464</td>\n    </tr>\n    <tr>\n      <th>3</th>\n      <td>CSCO</td>\n      <td>1.66228</td>\n      <td>0.00000</td>\n      <td>3.68796</td>\n      <td>0.00000</td>\n      <td>0.59213</td>\n      <td>0.00000</td>\n      <td>0.00000</td>\n      <td>0.65348</td>\n    </tr>\n    <tr>\n      <th>4</th>\n      <td>F</td>\n      <td>0.00000</td>\n      <td>1.00559</td>\n      <td>3.04572</td>\n      <td>0.00000</td>\n      <td>0.00000</td>\n      <td>0.00000</td>\n      <td>1.33617</td>\n      <td>0.19237</td>\n    </tr>\n    <tr>\n      <th>...</th>\n      <td>...</td>\n      <td>...</td>\n      <td>...</td>\n      <td>...</td>\n      <td>...</td>\n      <td>...</td>\n      <td>...</td>\n      <td>...</td>\n      <td>...</td>\n    </tr>\n    <tr>\n      <th>3010</th>\n      <td>CHWY</td>\n      <td>0.00000</td>\n      <td>0.00000</td>\n      <td>0.00000</td>\n      <td>0.00000</td>\n      <td>0.00000</td>\n      <td>0.00000</td>\n      <td>0.00000</td>\n      <td>0.00000</td>\n    </tr>\n    <tr>\n      <th>3011</th>\n      <td>USD</td>\n      <td>0.00000</td>\n      <td>0.00000</td>\n      <td>0.00000</td>\n      <td>0.05323</td>\n      <td>0.04958</td>\n      <td>0.05267</td>\n      <td>0.02993</td>\n      <td>0.11133</td>\n    </tr>\n    <tr>\n      <th>3012</th>\n      <td>SOFI</td>\n      <td>0.00000</td>\n      <td>0.00000</td>\n      <td>0.00000</td>\n      <td>0.00000</td>\n      <td>0.00000</td>\n      <td>0.00000</td>\n      <td>0.00000</td>\n      <td>0.00000</td>\n    </tr>\n    <tr>\n      <th>3013</th>\n      <td>LCID</td>\n      <td>0.00000</td>\n      <td>0.00000</td>\n      <td>0.00000</td>\n      <td>0.00000</td>\n      <td>0.00000</td>\n      <td>0.00000</td>\n      <td>0.00000</td>\n      <td>0.00000</td>\n    </tr>\n    <tr>\n      <th>3014</th>\n      <td>HOOD</td>\n      <td>0.00000</td>\n      <td>0.00000</td>\n      <td>0.00000</td>\n      <td>0.00000</td>\n      <td>0.00000</td>\n      <td>0.00000</td>\n      <td>0.00000</td>\n      <td>0.00000</td>\n    </tr>\n  </tbody>\n</table>\n<p>3015 rows × 9 columns</p>\n</div>"
     },
     "execution_count": 67,
     "metadata": {},
     "output_type": "execute_result"
    }
   ],
   "source": [],
   "metadata": {
    "collapsed": false,
    "pycharm": {
     "name": "#%%\n"
    }
   }
  },
  {
   "cell_type": "code",
   "execution_count": 70,
   "outputs": [
    {
     "data": {
      "text/plain": "          Name Benchmark\n0        Anish       IVW\n1        Emily       IYW\n2         Paul       IVW\n3        Kirby       IVW\n4     Hosegood       IWM\n5        Leong       IYC\n6       Olivia       IVW\n7       Brokaw       IVW\n8       Eric H       IVV\n9   Kyle Cross       IWM\n10         Bob       IYW\n11   Weinstein       IYC\n12          AK      MTUM\n13        Nour       IVW\n14       Jon T       IVW\n15     Melinda      VLUE\n16       Westy       IVW\n17      Farrah       IVW\n18  Baldridge        IWM\n19     Rubyann       IVW\n20         Mac      VLUE\n21     Madison       IVW\n22       Karsa       IYC\n23      Sergio       IVW\n24    Daniel K      QUAL\n25     Candice       IVV",
      "text/html": "<div>\n<style scoped>\n    .dataframe tbody tr th:only-of-type {\n        vertical-align: middle;\n    }\n\n    .dataframe tbody tr th {\n        vertical-align: top;\n    }\n\n    .dataframe thead th {\n        text-align: right;\n    }\n</style>\n<table border=\"1\" class=\"dataframe\">\n  <thead>\n    <tr style=\"text-align: right;\">\n      <th></th>\n      <th>Name</th>\n      <th>Benchmark</th>\n    </tr>\n  </thead>\n  <tbody>\n    <tr>\n      <th>0</th>\n      <td>Anish</td>\n      <td>IVW</td>\n    </tr>\n    <tr>\n      <th>1</th>\n      <td>Emily</td>\n      <td>IYW</td>\n    </tr>\n    <tr>\n      <th>2</th>\n      <td>Paul</td>\n      <td>IVW</td>\n    </tr>\n    <tr>\n      <th>3</th>\n      <td>Kirby</td>\n      <td>IVW</td>\n    </tr>\n    <tr>\n      <th>4</th>\n      <td>Hosegood</td>\n      <td>IWM</td>\n    </tr>\n    <tr>\n      <th>5</th>\n      <td>Leong</td>\n      <td>IYC</td>\n    </tr>\n    <tr>\n      <th>6</th>\n      <td>Olivia</td>\n      <td>IVW</td>\n    </tr>\n    <tr>\n      <th>7</th>\n      <td>Brokaw</td>\n      <td>IVW</td>\n    </tr>\n    <tr>\n      <th>8</th>\n      <td>Eric H</td>\n      <td>IVV</td>\n    </tr>\n    <tr>\n      <th>9</th>\n      <td>Kyle Cross</td>\n      <td>IWM</td>\n    </tr>\n    <tr>\n      <th>10</th>\n      <td>Bob</td>\n      <td>IYW</td>\n    </tr>\n    <tr>\n      <th>11</th>\n      <td>Weinstein</td>\n      <td>IYC</td>\n    </tr>\n    <tr>\n      <th>12</th>\n      <td>AK</td>\n      <td>MTUM</td>\n    </tr>\n    <tr>\n      <th>13</th>\n      <td>Nour</td>\n      <td>IVW</td>\n    </tr>\n    <tr>\n      <th>14</th>\n      <td>Jon T</td>\n      <td>IVW</td>\n    </tr>\n    <tr>\n      <th>15</th>\n      <td>Melinda</td>\n      <td>VLUE</td>\n    </tr>\n    <tr>\n      <th>16</th>\n      <td>Westy</td>\n      <td>IVW</td>\n    </tr>\n    <tr>\n      <th>17</th>\n      <td>Farrah</td>\n      <td>IVW</td>\n    </tr>\n    <tr>\n      <th>18</th>\n      <td>Baldridge</td>\n      <td>IWM</td>\n    </tr>\n    <tr>\n      <th>19</th>\n      <td>Rubyann</td>\n      <td>IVW</td>\n    </tr>\n    <tr>\n      <th>20</th>\n      <td>Mac</td>\n      <td>VLUE</td>\n    </tr>\n    <tr>\n      <th>21</th>\n      <td>Madison</td>\n      <td>IVW</td>\n    </tr>\n    <tr>\n      <th>22</th>\n      <td>Karsa</td>\n      <td>IYC</td>\n    </tr>\n    <tr>\n      <th>23</th>\n      <td>Sergio</td>\n      <td>IVW</td>\n    </tr>\n    <tr>\n      <th>24</th>\n      <td>Daniel K</td>\n      <td>QUAL</td>\n    </tr>\n    <tr>\n      <th>25</th>\n      <td>Candice</td>\n      <td>IVV</td>\n    </tr>\n  </tbody>\n</table>\n</div>"
     },
     "execution_count": 70,
     "metadata": {},
     "output_type": "execute_result"
    }
   ],
   "source": [
    "\n",
    "bm_key"
   ],
   "metadata": {
    "collapsed": false,
    "pycharm": {
     "name": "#%%\n"
    }
   }
  },
  {
   "cell_type": "code",
   "execution_count": 113,
   "outputs": [
    {
     "name": "stdout",
     "output_type": "stream",
     "text": [
      ":shit:\n"
     ]
    }
   ],
   "source": [
    "print(emoji.emojize(':poop:'))"
   ],
   "metadata": {
    "collapsed": false,
    "pycharm": {
     "name": "#%%\n"
    }
   }
  },
  {
   "cell_type": "code",
   "execution_count": 78,
   "outputs": [
    {
     "data": {
      "text/plain": "                  open        high         low       close    adjclose  \\\n2021-12-31  477.660004  478.929993  476.750000  476.989990  476.989990   \n2022-01-03  478.380005  479.899994  475.910004  479.839996  479.839996   \n2022-01-04  481.369995  482.070007  477.660004  479.679993  479.679993   \n2022-01-05  479.269989  480.029999  470.290009  470.329987  470.329987   \n2022-01-06  469.950012  472.850006  467.480011  469.980011  469.980011   \n2022-01-07  470.019989  471.250000  466.670013  468.100006  468.100006   \n2022-01-10  464.690002  467.779999  458.589996  467.220001  467.220001   \n2022-01-11  467.260010  471.899994  464.049988  471.829987  471.829987   \n2022-01-12  473.730011  475.260010  470.970001  473.079987  473.079987   \n2022-01-13  474.220001  474.920013  465.489990  466.589996  466.589996   \n2022-01-14  463.140015  467.079987  461.899994  466.750000  466.750000   \n2022-01-18  461.700012  461.940002  457.329987  458.500000  458.500000   \n2022-01-19  460.000000  461.600006  453.429993  453.760010  453.760010   \n2022-01-20  455.739990  460.750000  448.209991  448.720001  448.720001   \n2022-01-21  447.579987  450.010010  439.869995  439.980011  439.980011   \n2022-01-24  433.950012  442.320007  422.559998  441.519989  441.519989   \n2022-01-25  434.989990  441.630005  429.010010  436.440002  436.440002   \n2022-01-26  442.709991  446.070007  430.760010  435.429993  435.429993   \n2022-01-27  440.190002  443.500000  431.329987  433.160004  433.160004   \n2022-01-28  434.640015  443.880005  429.679993  443.750000  443.750000   \n2022-01-31  443.109985  452.239990  441.769989  451.769989  451.769989   \n2022-02-01  452.690002  455.589996  448.890015  454.890015  454.890015   \n2022-02-02  457.570007  460.140015  455.040009  459.260010  459.260010   \n2022-02-03  452.920013  454.950012  447.679993  448.600006  448.600006   \n2022-02-04  448.239990  454.769989  445.799988  450.850006  450.850006   \n2022-02-07  451.510010  452.970001  447.820007  449.250000  449.250000   \n2022-02-08  448.709991  453.880005  447.179993  452.820007  452.820007   \n2022-02-09  457.260010  459.809998  457.029999  459.500000  459.500000   \n2022-02-10  453.390015  459.720001  449.200012  451.380005  451.380005   \n2022-02-11  451.339996  453.570007  440.880005  442.350006  442.350006   \n2022-02-14  441.880005  443.529999  437.260010  440.910004  440.910004   \n2022-02-15  445.640015  448.239990  445.130005  448.000000  448.000000   \n2022-02-16  445.760010  450.010010  443.890015  448.510010  448.510010   \n2022-02-17  445.179993  445.720001  438.350006  439.100006  439.100006   \n2022-02-18  439.339996  440.589996  433.720001  436.070007  436.070007   \n2022-02-22  433.750000  437.399994  427.709991  431.339996  431.339996   \n2022-02-23  434.480011  435.149994  423.170013  423.480011  423.480011   \n2022-02-24  412.799988  430.609985  412.399994  430.140015  430.140015   \n2022-02-25  431.440002  439.769989  429.760010  439.609985  439.609985   \n2022-02-28  433.929993  440.119995  432.600006  438.720001  438.720001   \n2022-03-01  437.000000  439.089996  429.089996  431.920013  431.920013   \n2022-03-02  434.309998  441.470001  433.470001  439.799988  439.799988   \n2022-03-03  442.440002  443.029999  435.760010  437.690002  437.690002   \n2022-03-04  433.750000  435.260010  429.739990  433.950012  433.950012   \n2022-03-07  433.440002  433.690002  421.190002  421.200012  421.200012   \n2022-03-08  421.429993  429.000000  416.910004  418.059998  418.059998   \n2022-03-09  427.040009  431.369995  424.660004  429.309998  429.309998   \n2022-03-10  424.369995  428.260010  422.260010  427.339996  427.339996   \n2022-03-11  430.049988  430.630005  421.359985  422.010010  422.010010   \n2022-03-14  422.899994  426.359985  417.600006  418.820007  418.820007   \n2022-03-15  421.540009  428.679993  420.239990  428.040009  428.040009   \n2022-03-16  431.929993  437.589996  426.670013  437.519989  437.519989   \n2022-03-17  435.440002  443.079987  435.140015  442.959991  442.959991   \n2022-03-18  441.359985  448.239990  440.559998  447.700012  447.700012   \n2022-03-21  447.720001  449.829987  444.019989  447.609985  447.609985   \n2022-03-22  449.220001  453.959991  449.220001  453.070007  453.070007   \n2022-03-23  450.359985  451.869995  447.119995  447.390015  447.390015   \n\n              volume ticker  \n2021-12-31   3980100    IVV  \n2022-01-03   5560300    IVV  \n2022-01-04   5452000    IVV  \n2022-01-05   7211400    IVV  \n2022-01-06   5959100    IVV  \n2022-01-07   7673600    IVV  \n2022-01-10   8975900    IVV  \n2022-01-11   7552000    IVV  \n2022-01-12   8938600    IVV  \n2022-01-13   5351100    IVV  \n2022-01-14   9652900    IVV  \n2022-01-18   9681700    IVV  \n2022-01-19   6260800    IVV  \n2022-01-20   8907300    IVV  \n2022-01-21  13981000    IVV  \n2022-01-24  18241000    IVV  \n2022-01-25  14720000    IVV  \n2022-01-26  14881700    IVV  \n2022-01-27  17529800    IVV  \n2022-01-28  13069600    IVV  \n2022-01-31   8537700    IVV  \n2022-02-01   8777800    IVV  \n2022-02-02   8744100    IVV  \n2022-02-03   7835200    IVV  \n2022-02-04   7108900    IVV  \n2022-02-07   6353200    IVV  \n2022-02-08   4955500    IVV  \n2022-02-09   7144600    IVV  \n2022-02-10   7476000    IVV  \n2022-02-11   9436900    IVV  \n2022-02-14   8249000    IVV  \n2022-02-15   6722700    IVV  \n2022-02-16   6315600    IVV  \n2022-02-17   6435600    IVV  \n2022-02-18   8059100    IVV  \n2022-02-22   9939000    IVV  \n2022-02-23  11345100    IVV  \n2022-02-24  19259900    IVV  \n2022-02-25   9651300    IVV  \n2022-02-28  11167900    IVV  \n2022-03-01  14288700    IVV  \n2022-03-02   8947200    IVV  \n2022-03-03   9927000    IVV  \n2022-03-04   8081100    IVV  \n2022-03-07   8790100    IVV  \n2022-03-08  14798500    IVV  \n2022-03-09   7703000    IVV  \n2022-03-10   8046600    IVV  \n2022-03-11  11299100    IVV  \n2022-03-14   8925100    IVV  \n2022-03-15   7882600    IVV  \n2022-03-16   7961700    IVV  \n2022-03-17   6514500    IVV  \n2022-03-18   5275700    IVV  \n2022-03-21   5679100    IVV  \n2022-03-22   5356400    IVV  \n2022-03-23   5550700    IVV  ",
      "text/html": "<div>\n<style scoped>\n    .dataframe tbody tr th:only-of-type {\n        vertical-align: middle;\n    }\n\n    .dataframe tbody tr th {\n        vertical-align: top;\n    }\n\n    .dataframe thead th {\n        text-align: right;\n    }\n</style>\n<table border=\"1\" class=\"dataframe\">\n  <thead>\n    <tr style=\"text-align: right;\">\n      <th></th>\n      <th>open</th>\n      <th>high</th>\n      <th>low</th>\n      <th>close</th>\n      <th>adjclose</th>\n      <th>volume</th>\n      <th>ticker</th>\n    </tr>\n  </thead>\n  <tbody>\n    <tr>\n      <th>2021-12-31</th>\n      <td>477.660004</td>\n      <td>478.929993</td>\n      <td>476.750000</td>\n      <td>476.989990</td>\n      <td>476.989990</td>\n      <td>3980100</td>\n      <td>IVV</td>\n    </tr>\n    <tr>\n      <th>2022-01-03</th>\n      <td>478.380005</td>\n      <td>479.899994</td>\n      <td>475.910004</td>\n      <td>479.839996</td>\n      <td>479.839996</td>\n      <td>5560300</td>\n      <td>IVV</td>\n    </tr>\n    <tr>\n      <th>2022-01-04</th>\n      <td>481.369995</td>\n      <td>482.070007</td>\n      <td>477.660004</td>\n      <td>479.679993</td>\n      <td>479.679993</td>\n      <td>5452000</td>\n      <td>IVV</td>\n    </tr>\n    <tr>\n      <th>2022-01-05</th>\n      <td>479.269989</td>\n      <td>480.029999</td>\n      <td>470.290009</td>\n      <td>470.329987</td>\n      <td>470.329987</td>\n      <td>7211400</td>\n      <td>IVV</td>\n    </tr>\n    <tr>\n      <th>2022-01-06</th>\n      <td>469.950012</td>\n      <td>472.850006</td>\n      <td>467.480011</td>\n      <td>469.980011</td>\n      <td>469.980011</td>\n      <td>5959100</td>\n      <td>IVV</td>\n    </tr>\n    <tr>\n      <th>2022-01-07</th>\n      <td>470.019989</td>\n      <td>471.250000</td>\n      <td>466.670013</td>\n      <td>468.100006</td>\n      <td>468.100006</td>\n      <td>7673600</td>\n      <td>IVV</td>\n    </tr>\n    <tr>\n      <th>2022-01-10</th>\n      <td>464.690002</td>\n      <td>467.779999</td>\n      <td>458.589996</td>\n      <td>467.220001</td>\n      <td>467.220001</td>\n      <td>8975900</td>\n      <td>IVV</td>\n    </tr>\n    <tr>\n      <th>2022-01-11</th>\n      <td>467.260010</td>\n      <td>471.899994</td>\n      <td>464.049988</td>\n      <td>471.829987</td>\n      <td>471.829987</td>\n      <td>7552000</td>\n      <td>IVV</td>\n    </tr>\n    <tr>\n      <th>2022-01-12</th>\n      <td>473.730011</td>\n      <td>475.260010</td>\n      <td>470.970001</td>\n      <td>473.079987</td>\n      <td>473.079987</td>\n      <td>8938600</td>\n      <td>IVV</td>\n    </tr>\n    <tr>\n      <th>2022-01-13</th>\n      <td>474.220001</td>\n      <td>474.920013</td>\n      <td>465.489990</td>\n      <td>466.589996</td>\n      <td>466.589996</td>\n      <td>5351100</td>\n      <td>IVV</td>\n    </tr>\n    <tr>\n      <th>2022-01-14</th>\n      <td>463.140015</td>\n      <td>467.079987</td>\n      <td>461.899994</td>\n      <td>466.750000</td>\n      <td>466.750000</td>\n      <td>9652900</td>\n      <td>IVV</td>\n    </tr>\n    <tr>\n      <th>2022-01-18</th>\n      <td>461.700012</td>\n      <td>461.940002</td>\n      <td>457.329987</td>\n      <td>458.500000</td>\n      <td>458.500000</td>\n      <td>9681700</td>\n      <td>IVV</td>\n    </tr>\n    <tr>\n      <th>2022-01-19</th>\n      <td>460.000000</td>\n      <td>461.600006</td>\n      <td>453.429993</td>\n      <td>453.760010</td>\n      <td>453.760010</td>\n      <td>6260800</td>\n      <td>IVV</td>\n    </tr>\n    <tr>\n      <th>2022-01-20</th>\n      <td>455.739990</td>\n      <td>460.750000</td>\n      <td>448.209991</td>\n      <td>448.720001</td>\n      <td>448.720001</td>\n      <td>8907300</td>\n      <td>IVV</td>\n    </tr>\n    <tr>\n      <th>2022-01-21</th>\n      <td>447.579987</td>\n      <td>450.010010</td>\n      <td>439.869995</td>\n      <td>439.980011</td>\n      <td>439.980011</td>\n      <td>13981000</td>\n      <td>IVV</td>\n    </tr>\n    <tr>\n      <th>2022-01-24</th>\n      <td>433.950012</td>\n      <td>442.320007</td>\n      <td>422.559998</td>\n      <td>441.519989</td>\n      <td>441.519989</td>\n      <td>18241000</td>\n      <td>IVV</td>\n    </tr>\n    <tr>\n      <th>2022-01-25</th>\n      <td>434.989990</td>\n      <td>441.630005</td>\n      <td>429.010010</td>\n      <td>436.440002</td>\n      <td>436.440002</td>\n      <td>14720000</td>\n      <td>IVV</td>\n    </tr>\n    <tr>\n      <th>2022-01-26</th>\n      <td>442.709991</td>\n      <td>446.070007</td>\n      <td>430.760010</td>\n      <td>435.429993</td>\n      <td>435.429993</td>\n      <td>14881700</td>\n      <td>IVV</td>\n    </tr>\n    <tr>\n      <th>2022-01-27</th>\n      <td>440.190002</td>\n      <td>443.500000</td>\n      <td>431.329987</td>\n      <td>433.160004</td>\n      <td>433.160004</td>\n      <td>17529800</td>\n      <td>IVV</td>\n    </tr>\n    <tr>\n      <th>2022-01-28</th>\n      <td>434.640015</td>\n      <td>443.880005</td>\n      <td>429.679993</td>\n      <td>443.750000</td>\n      <td>443.750000</td>\n      <td>13069600</td>\n      <td>IVV</td>\n    </tr>\n    <tr>\n      <th>2022-01-31</th>\n      <td>443.109985</td>\n      <td>452.239990</td>\n      <td>441.769989</td>\n      <td>451.769989</td>\n      <td>451.769989</td>\n      <td>8537700</td>\n      <td>IVV</td>\n    </tr>\n    <tr>\n      <th>2022-02-01</th>\n      <td>452.690002</td>\n      <td>455.589996</td>\n      <td>448.890015</td>\n      <td>454.890015</td>\n      <td>454.890015</td>\n      <td>8777800</td>\n      <td>IVV</td>\n    </tr>\n    <tr>\n      <th>2022-02-02</th>\n      <td>457.570007</td>\n      <td>460.140015</td>\n      <td>455.040009</td>\n      <td>459.260010</td>\n      <td>459.260010</td>\n      <td>8744100</td>\n      <td>IVV</td>\n    </tr>\n    <tr>\n      <th>2022-02-03</th>\n      <td>452.920013</td>\n      <td>454.950012</td>\n      <td>447.679993</td>\n      <td>448.600006</td>\n      <td>448.600006</td>\n      <td>7835200</td>\n      <td>IVV</td>\n    </tr>\n    <tr>\n      <th>2022-02-04</th>\n      <td>448.239990</td>\n      <td>454.769989</td>\n      <td>445.799988</td>\n      <td>450.850006</td>\n      <td>450.850006</td>\n      <td>7108900</td>\n      <td>IVV</td>\n    </tr>\n    <tr>\n      <th>2022-02-07</th>\n      <td>451.510010</td>\n      <td>452.970001</td>\n      <td>447.820007</td>\n      <td>449.250000</td>\n      <td>449.250000</td>\n      <td>6353200</td>\n      <td>IVV</td>\n    </tr>\n    <tr>\n      <th>2022-02-08</th>\n      <td>448.709991</td>\n      <td>453.880005</td>\n      <td>447.179993</td>\n      <td>452.820007</td>\n      <td>452.820007</td>\n      <td>4955500</td>\n      <td>IVV</td>\n    </tr>\n    <tr>\n      <th>2022-02-09</th>\n      <td>457.260010</td>\n      <td>459.809998</td>\n      <td>457.029999</td>\n      <td>459.500000</td>\n      <td>459.500000</td>\n      <td>7144600</td>\n      <td>IVV</td>\n    </tr>\n    <tr>\n      <th>2022-02-10</th>\n      <td>453.390015</td>\n      <td>459.720001</td>\n      <td>449.200012</td>\n      <td>451.380005</td>\n      <td>451.380005</td>\n      <td>7476000</td>\n      <td>IVV</td>\n    </tr>\n    <tr>\n      <th>2022-02-11</th>\n      <td>451.339996</td>\n      <td>453.570007</td>\n      <td>440.880005</td>\n      <td>442.350006</td>\n      <td>442.350006</td>\n      <td>9436900</td>\n      <td>IVV</td>\n    </tr>\n    <tr>\n      <th>2022-02-14</th>\n      <td>441.880005</td>\n      <td>443.529999</td>\n      <td>437.260010</td>\n      <td>440.910004</td>\n      <td>440.910004</td>\n      <td>8249000</td>\n      <td>IVV</td>\n    </tr>\n    <tr>\n      <th>2022-02-15</th>\n      <td>445.640015</td>\n      <td>448.239990</td>\n      <td>445.130005</td>\n      <td>448.000000</td>\n      <td>448.000000</td>\n      <td>6722700</td>\n      <td>IVV</td>\n    </tr>\n    <tr>\n      <th>2022-02-16</th>\n      <td>445.760010</td>\n      <td>450.010010</td>\n      <td>443.890015</td>\n      <td>448.510010</td>\n      <td>448.510010</td>\n      <td>6315600</td>\n      <td>IVV</td>\n    </tr>\n    <tr>\n      <th>2022-02-17</th>\n      <td>445.179993</td>\n      <td>445.720001</td>\n      <td>438.350006</td>\n      <td>439.100006</td>\n      <td>439.100006</td>\n      <td>6435600</td>\n      <td>IVV</td>\n    </tr>\n    <tr>\n      <th>2022-02-18</th>\n      <td>439.339996</td>\n      <td>440.589996</td>\n      <td>433.720001</td>\n      <td>436.070007</td>\n      <td>436.070007</td>\n      <td>8059100</td>\n      <td>IVV</td>\n    </tr>\n    <tr>\n      <th>2022-02-22</th>\n      <td>433.750000</td>\n      <td>437.399994</td>\n      <td>427.709991</td>\n      <td>431.339996</td>\n      <td>431.339996</td>\n      <td>9939000</td>\n      <td>IVV</td>\n    </tr>\n    <tr>\n      <th>2022-02-23</th>\n      <td>434.480011</td>\n      <td>435.149994</td>\n      <td>423.170013</td>\n      <td>423.480011</td>\n      <td>423.480011</td>\n      <td>11345100</td>\n      <td>IVV</td>\n    </tr>\n    <tr>\n      <th>2022-02-24</th>\n      <td>412.799988</td>\n      <td>430.609985</td>\n      <td>412.399994</td>\n      <td>430.140015</td>\n      <td>430.140015</td>\n      <td>19259900</td>\n      <td>IVV</td>\n    </tr>\n    <tr>\n      <th>2022-02-25</th>\n      <td>431.440002</td>\n      <td>439.769989</td>\n      <td>429.760010</td>\n      <td>439.609985</td>\n      <td>439.609985</td>\n      <td>9651300</td>\n      <td>IVV</td>\n    </tr>\n    <tr>\n      <th>2022-02-28</th>\n      <td>433.929993</td>\n      <td>440.119995</td>\n      <td>432.600006</td>\n      <td>438.720001</td>\n      <td>438.720001</td>\n      <td>11167900</td>\n      <td>IVV</td>\n    </tr>\n    <tr>\n      <th>2022-03-01</th>\n      <td>437.000000</td>\n      <td>439.089996</td>\n      <td>429.089996</td>\n      <td>431.920013</td>\n      <td>431.920013</td>\n      <td>14288700</td>\n      <td>IVV</td>\n    </tr>\n    <tr>\n      <th>2022-03-02</th>\n      <td>434.309998</td>\n      <td>441.470001</td>\n      <td>433.470001</td>\n      <td>439.799988</td>\n      <td>439.799988</td>\n      <td>8947200</td>\n      <td>IVV</td>\n    </tr>\n    <tr>\n      <th>2022-03-03</th>\n      <td>442.440002</td>\n      <td>443.029999</td>\n      <td>435.760010</td>\n      <td>437.690002</td>\n      <td>437.690002</td>\n      <td>9927000</td>\n      <td>IVV</td>\n    </tr>\n    <tr>\n      <th>2022-03-04</th>\n      <td>433.750000</td>\n      <td>435.260010</td>\n      <td>429.739990</td>\n      <td>433.950012</td>\n      <td>433.950012</td>\n      <td>8081100</td>\n      <td>IVV</td>\n    </tr>\n    <tr>\n      <th>2022-03-07</th>\n      <td>433.440002</td>\n      <td>433.690002</td>\n      <td>421.190002</td>\n      <td>421.200012</td>\n      <td>421.200012</td>\n      <td>8790100</td>\n      <td>IVV</td>\n    </tr>\n    <tr>\n      <th>2022-03-08</th>\n      <td>421.429993</td>\n      <td>429.000000</td>\n      <td>416.910004</td>\n      <td>418.059998</td>\n      <td>418.059998</td>\n      <td>14798500</td>\n      <td>IVV</td>\n    </tr>\n    <tr>\n      <th>2022-03-09</th>\n      <td>427.040009</td>\n      <td>431.369995</td>\n      <td>424.660004</td>\n      <td>429.309998</td>\n      <td>429.309998</td>\n      <td>7703000</td>\n      <td>IVV</td>\n    </tr>\n    <tr>\n      <th>2022-03-10</th>\n      <td>424.369995</td>\n      <td>428.260010</td>\n      <td>422.260010</td>\n      <td>427.339996</td>\n      <td>427.339996</td>\n      <td>8046600</td>\n      <td>IVV</td>\n    </tr>\n    <tr>\n      <th>2022-03-11</th>\n      <td>430.049988</td>\n      <td>430.630005</td>\n      <td>421.359985</td>\n      <td>422.010010</td>\n      <td>422.010010</td>\n      <td>11299100</td>\n      <td>IVV</td>\n    </tr>\n    <tr>\n      <th>2022-03-14</th>\n      <td>422.899994</td>\n      <td>426.359985</td>\n      <td>417.600006</td>\n      <td>418.820007</td>\n      <td>418.820007</td>\n      <td>8925100</td>\n      <td>IVV</td>\n    </tr>\n    <tr>\n      <th>2022-03-15</th>\n      <td>421.540009</td>\n      <td>428.679993</td>\n      <td>420.239990</td>\n      <td>428.040009</td>\n      <td>428.040009</td>\n      <td>7882600</td>\n      <td>IVV</td>\n    </tr>\n    <tr>\n      <th>2022-03-16</th>\n      <td>431.929993</td>\n      <td>437.589996</td>\n      <td>426.670013</td>\n      <td>437.519989</td>\n      <td>437.519989</td>\n      <td>7961700</td>\n      <td>IVV</td>\n    </tr>\n    <tr>\n      <th>2022-03-17</th>\n      <td>435.440002</td>\n      <td>443.079987</td>\n      <td>435.140015</td>\n      <td>442.959991</td>\n      <td>442.959991</td>\n      <td>6514500</td>\n      <td>IVV</td>\n    </tr>\n    <tr>\n      <th>2022-03-18</th>\n      <td>441.359985</td>\n      <td>448.239990</td>\n      <td>440.559998</td>\n      <td>447.700012</td>\n      <td>447.700012</td>\n      <td>5275700</td>\n      <td>IVV</td>\n    </tr>\n    <tr>\n      <th>2022-03-21</th>\n      <td>447.720001</td>\n      <td>449.829987</td>\n      <td>444.019989</td>\n      <td>447.609985</td>\n      <td>447.609985</td>\n      <td>5679100</td>\n      <td>IVV</td>\n    </tr>\n    <tr>\n      <th>2022-03-22</th>\n      <td>449.220001</td>\n      <td>453.959991</td>\n      <td>449.220001</td>\n      <td>453.070007</td>\n      <td>453.070007</td>\n      <td>5356400</td>\n      <td>IVV</td>\n    </tr>\n    <tr>\n      <th>2022-03-23</th>\n      <td>450.359985</td>\n      <td>451.869995</td>\n      <td>447.119995</td>\n      <td>447.390015</td>\n      <td>447.390015</td>\n      <td>5550700</td>\n      <td>IVV</td>\n    </tr>\n  </tbody>\n</table>\n</div>"
     },
     "execution_count": 78,
     "metadata": {},
     "output_type": "execute_result"
    }
   ],
   "source": [
    "bm_px"
   ],
   "metadata": {
    "collapsed": false,
    "pycharm": {
     "name": "#%%\n"
    }
   }
  },
  {
   "cell_type": "markdown",
   "source": [],
   "metadata": {
    "collapsed": false,
    "pycharm": {
     "name": "#%% md\n"
    }
   }
  }
 ],
 "metadata": {
  "kernelspec": {
   "display_name": "Python 3",
   "language": "python",
   "name": "python3"
  },
  "language_info": {
   "codemirror_mode": {
    "name": "ipython",
    "version": 3
   },
   "file_extension": ".py",
   "mimetype": "text/x-python",
   "name": "python",
   "nbconvert_exporter": "python",
   "pygments_lexer": "ipython3",
   "version": "3.9.7"
  }
 },
 "nbformat": 4,
 "nbformat_minor": 0
}