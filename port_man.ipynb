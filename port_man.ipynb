{
 "cells": [
  {
   "cell_type": "code",
   "execution_count": 13,
   "metadata": {
    "collapsed": true
   },
   "outputs": [],
   "source": [
    "import pandas as pd\n",
    "from pandas.core.common import SettingWithCopyWarning\n",
    "from yahoo_fin import stock_info as si"
   ]
  },
  {
   "cell_type": "code",
   "execution_count": 30,
   "outputs": [],
   "source": [
    "def create_initials():\n",
    "    inital_allocs = pd.read_csv('assets/init_alloc.csv', index_col='stocks') # read in initial allc csv\n",
    "    inital_allocs = inital_allocs*1000000 # convert to $ value\n",
    "    stocks = list(inital_allocs.index) # put all stocks in list\n",
    "    px_dat = [] # px data for day 0\n",
    "    for stock in stocks:# loop through all stocks\n",
    "        k = si.get_data(stock, start_date='2021-12-31', end_date='2022-01-01', interval='1d') # request relevant info\n",
    "        px = k['close'].iloc[0] # take only the closing px on the day\n",
    "        px_dat.append(px) # append to the list\n",
    "    inital_allocs['px_dat'] = px_dat # add px data to alloc df\n",
    "    init_shares = inital_allocs.floordiv(inital_allocs['px_dat'].to_numpy(), axis=0)\n",
    "\n",
    "    return init_shares"
   ],
   "metadata": {
    "collapsed": false,
    "pycharm": {
     "name": "#%%\n"
    }
   }
  },
  {
   "cell_type": "code",
   "execution_count": 31,
   "outputs": [
    {
     "data": {
      "text/plain": "        Anish  Emily  Paul  Kirby  Hosegood  Leong  Olivia  Brokaw  Eric H  \\\nstocks                                                                       \nRIVN      0.0    0.0   0.0    0.0       0.0    0.0     0.0   964.0     0.0   \nLCID      0.0    0.0   0.0    0.0       0.0    0.0     0.0  2628.0     0.0   \nAPPS      0.0    0.0   0.0    0.0       0.0    0.0     0.0  1639.0     0.0   \nBUR       0.0    0.0   0.0    0.0       0.0    0.0     0.0  9469.0     0.0   \nFIGS      0.0    0.0   0.0    0.0       0.0    0.0     0.0  3628.0     0.0   \n...       ...    ...   ...    ...       ...    ...     ...     ...     ...   \nBIDU      0.0    0.0   0.0    0.0       0.0    0.0     0.0     0.0     0.0   \nBABA      0.0    0.0   0.0    0.0       0.0    0.0     0.0     0.0     0.0   \nDIDI      0.0    0.0   0.0    0.0       0.0    0.0     0.0     0.0     0.0   \nVZIO      0.0    0.0   0.0    0.0       0.0    0.0     0.0     0.0     0.0   \nNIO       0.0    0.0   0.0    0.0       0.0    0.0     0.0     0.0     0.0   \n\n        Kyle Cross  ...  Farrah  Baldridge   Rubyann  Mac  Madison  Karsa  \\\nstocks              ...                                                     \nRIVN           0.0  ...     0.0         0.0      0.0  0.0      0.0    0.0   \nLCID           0.0  ...     0.0         0.0      0.0  0.0      0.0    0.0   \nAPPS        4099.0  ...     0.0         0.0      0.0  0.0      0.0    0.0   \nBUR         4734.0  ...     0.0         0.0      0.0  0.0      0.0    0.0   \nFIGS           0.0  ...     0.0         0.0      0.0  0.0      0.0    0.0   \n...            ...  ...     ...         ...      ...  ...      ...    ...   \nBIDU           0.0  ...     0.0         0.0      0.0  0.0      0.0    0.0   \nBABA           0.0  ...     0.0         0.0      0.0  0.0      0.0    0.0   \nDIDI           0.0  ...     0.0         0.0      0.0  0.0      0.0    0.0   \nVZIO           0.0  ...     0.0         0.0      0.0  0.0      0.0    0.0   \nNIO            0.0  ...     0.0         0.0      0.0  0.0      0.0    0.0   \n\n        Sergio  Daniel K  Candice  px_dat  \nstocks                                     \nRIVN       0.0       0.0      0.0     1.0  \nLCID       0.0       0.0      0.0     1.0  \nAPPS       0.0       0.0      0.0     1.0  \nBUR        0.0       0.0      0.0     1.0  \nFIGS       0.0       0.0      0.0     1.0  \n...        ...       ...      ...     ...  \nBIDU       0.0       0.0    672.0     1.0  \nBABA       0.0       0.0    841.0     1.0  \nDIDI       0.0       0.0  20080.0     1.0  \nVZIO       0.0       0.0   5146.0     1.0  \nNIO        0.0       0.0   3156.0     1.0  \n\n[146 rows x 27 columns]",
      "text/html": "<div>\n<style scoped>\n    .dataframe tbody tr th:only-of-type {\n        vertical-align: middle;\n    }\n\n    .dataframe tbody tr th {\n        vertical-align: top;\n    }\n\n    .dataframe thead th {\n        text-align: right;\n    }\n</style>\n<table border=\"1\" class=\"dataframe\">\n  <thead>\n    <tr style=\"text-align: right;\">\n      <th></th>\n      <th>Anish</th>\n      <th>Emily</th>\n      <th>Paul</th>\n      <th>Kirby</th>\n      <th>Hosegood</th>\n      <th>Leong</th>\n      <th>Olivia</th>\n      <th>Brokaw</th>\n      <th>Eric H</th>\n      <th>Kyle Cross</th>\n      <th>...</th>\n      <th>Farrah</th>\n      <th>Baldridge</th>\n      <th>Rubyann</th>\n      <th>Mac</th>\n      <th>Madison</th>\n      <th>Karsa</th>\n      <th>Sergio</th>\n      <th>Daniel K</th>\n      <th>Candice</th>\n      <th>px_dat</th>\n    </tr>\n    <tr>\n      <th>stocks</th>\n      <th></th>\n      <th></th>\n      <th></th>\n      <th></th>\n      <th></th>\n      <th></th>\n      <th></th>\n      <th></th>\n      <th></th>\n      <th></th>\n      <th></th>\n      <th></th>\n      <th></th>\n      <th></th>\n      <th></th>\n      <th></th>\n      <th></th>\n      <th></th>\n      <th></th>\n      <th></th>\n      <th></th>\n    </tr>\n  </thead>\n  <tbody>\n    <tr>\n      <th>RIVN</th>\n      <td>0.0</td>\n      <td>0.0</td>\n      <td>0.0</td>\n      <td>0.0</td>\n      <td>0.0</td>\n      <td>0.0</td>\n      <td>0.0</td>\n      <td>964.0</td>\n      <td>0.0</td>\n      <td>0.0</td>\n      <td>...</td>\n      <td>0.0</td>\n      <td>0.0</td>\n      <td>0.0</td>\n      <td>0.0</td>\n      <td>0.0</td>\n      <td>0.0</td>\n      <td>0.0</td>\n      <td>0.0</td>\n      <td>0.0</td>\n      <td>1.0</td>\n    </tr>\n    <tr>\n      <th>LCID</th>\n      <td>0.0</td>\n      <td>0.0</td>\n      <td>0.0</td>\n      <td>0.0</td>\n      <td>0.0</td>\n      <td>0.0</td>\n      <td>0.0</td>\n      <td>2628.0</td>\n      <td>0.0</td>\n      <td>0.0</td>\n      <td>...</td>\n      <td>0.0</td>\n      <td>0.0</td>\n      <td>0.0</td>\n      <td>0.0</td>\n      <td>0.0</td>\n      <td>0.0</td>\n      <td>0.0</td>\n      <td>0.0</td>\n      <td>0.0</td>\n      <td>1.0</td>\n    </tr>\n    <tr>\n      <th>APPS</th>\n      <td>0.0</td>\n      <td>0.0</td>\n      <td>0.0</td>\n      <td>0.0</td>\n      <td>0.0</td>\n      <td>0.0</td>\n      <td>0.0</td>\n      <td>1639.0</td>\n      <td>0.0</td>\n      <td>4099.0</td>\n      <td>...</td>\n      <td>0.0</td>\n      <td>0.0</td>\n      <td>0.0</td>\n      <td>0.0</td>\n      <td>0.0</td>\n      <td>0.0</td>\n      <td>0.0</td>\n      <td>0.0</td>\n      <td>0.0</td>\n      <td>1.0</td>\n    </tr>\n    <tr>\n      <th>BUR</th>\n      <td>0.0</td>\n      <td>0.0</td>\n      <td>0.0</td>\n      <td>0.0</td>\n      <td>0.0</td>\n      <td>0.0</td>\n      <td>0.0</td>\n      <td>9469.0</td>\n      <td>0.0</td>\n      <td>4734.0</td>\n      <td>...</td>\n      <td>0.0</td>\n      <td>0.0</td>\n      <td>0.0</td>\n      <td>0.0</td>\n      <td>0.0</td>\n      <td>0.0</td>\n      <td>0.0</td>\n      <td>0.0</td>\n      <td>0.0</td>\n      <td>1.0</td>\n    </tr>\n    <tr>\n      <th>FIGS</th>\n      <td>0.0</td>\n      <td>0.0</td>\n      <td>0.0</td>\n      <td>0.0</td>\n      <td>0.0</td>\n      <td>0.0</td>\n      <td>0.0</td>\n      <td>3628.0</td>\n      <td>0.0</td>\n      <td>0.0</td>\n      <td>...</td>\n      <td>0.0</td>\n      <td>0.0</td>\n      <td>0.0</td>\n      <td>0.0</td>\n      <td>0.0</td>\n      <td>0.0</td>\n      <td>0.0</td>\n      <td>0.0</td>\n      <td>0.0</td>\n      <td>1.0</td>\n    </tr>\n    <tr>\n      <th>...</th>\n      <td>...</td>\n      <td>...</td>\n      <td>...</td>\n      <td>...</td>\n      <td>...</td>\n      <td>...</td>\n      <td>...</td>\n      <td>...</td>\n      <td>...</td>\n      <td>...</td>\n      <td>...</td>\n      <td>...</td>\n      <td>...</td>\n      <td>...</td>\n      <td>...</td>\n      <td>...</td>\n      <td>...</td>\n      <td>...</td>\n      <td>...</td>\n      <td>...</td>\n      <td>...</td>\n    </tr>\n    <tr>\n      <th>BIDU</th>\n      <td>0.0</td>\n      <td>0.0</td>\n      <td>0.0</td>\n      <td>0.0</td>\n      <td>0.0</td>\n      <td>0.0</td>\n      <td>0.0</td>\n      <td>0.0</td>\n      <td>0.0</td>\n      <td>0.0</td>\n      <td>...</td>\n      <td>0.0</td>\n      <td>0.0</td>\n      <td>0.0</td>\n      <td>0.0</td>\n      <td>0.0</td>\n      <td>0.0</td>\n      <td>0.0</td>\n      <td>0.0</td>\n      <td>672.0</td>\n      <td>1.0</td>\n    </tr>\n    <tr>\n      <th>BABA</th>\n      <td>0.0</td>\n      <td>0.0</td>\n      <td>0.0</td>\n      <td>0.0</td>\n      <td>0.0</td>\n      <td>0.0</td>\n      <td>0.0</td>\n      <td>0.0</td>\n      <td>0.0</td>\n      <td>0.0</td>\n      <td>...</td>\n      <td>0.0</td>\n      <td>0.0</td>\n      <td>0.0</td>\n      <td>0.0</td>\n      <td>0.0</td>\n      <td>0.0</td>\n      <td>0.0</td>\n      <td>0.0</td>\n      <td>841.0</td>\n      <td>1.0</td>\n    </tr>\n    <tr>\n      <th>DIDI</th>\n      <td>0.0</td>\n      <td>0.0</td>\n      <td>0.0</td>\n      <td>0.0</td>\n      <td>0.0</td>\n      <td>0.0</td>\n      <td>0.0</td>\n      <td>0.0</td>\n      <td>0.0</td>\n      <td>0.0</td>\n      <td>...</td>\n      <td>0.0</td>\n      <td>0.0</td>\n      <td>0.0</td>\n      <td>0.0</td>\n      <td>0.0</td>\n      <td>0.0</td>\n      <td>0.0</td>\n      <td>0.0</td>\n      <td>20080.0</td>\n      <td>1.0</td>\n    </tr>\n    <tr>\n      <th>VZIO</th>\n      <td>0.0</td>\n      <td>0.0</td>\n      <td>0.0</td>\n      <td>0.0</td>\n      <td>0.0</td>\n      <td>0.0</td>\n      <td>0.0</td>\n      <td>0.0</td>\n      <td>0.0</td>\n      <td>0.0</td>\n      <td>...</td>\n      <td>0.0</td>\n      <td>0.0</td>\n      <td>0.0</td>\n      <td>0.0</td>\n      <td>0.0</td>\n      <td>0.0</td>\n      <td>0.0</td>\n      <td>0.0</td>\n      <td>5146.0</td>\n      <td>1.0</td>\n    </tr>\n    <tr>\n      <th>NIO</th>\n      <td>0.0</td>\n      <td>0.0</td>\n      <td>0.0</td>\n      <td>0.0</td>\n      <td>0.0</td>\n      <td>0.0</td>\n      <td>0.0</td>\n      <td>0.0</td>\n      <td>0.0</td>\n      <td>0.0</td>\n      <td>...</td>\n      <td>0.0</td>\n      <td>0.0</td>\n      <td>0.0</td>\n      <td>0.0</td>\n      <td>0.0</td>\n      <td>0.0</td>\n      <td>0.0</td>\n      <td>0.0</td>\n      <td>3156.0</td>\n      <td>1.0</td>\n    </tr>\n  </tbody>\n</table>\n<p>146 rows × 27 columns</p>\n</div>"
     },
     "execution_count": 31,
     "metadata": {},
     "output_type": "execute_result"
    }
   ],
   "source": [
    "create_initials()\n"
   ],
   "metadata": {
    "collapsed": false,
    "pycharm": {
     "name": "#%%\n"
    }
   }
  },
  {
   "cell_type": "code",
   "execution_count": 43,
   "outputs": [
    {
     "data": {
      "text/plain": "                  open        high         low       close    adjclose  \\\n2021-12-31  178.089996  179.229996  177.259995  177.570007  177.344055   \n\n              volume ticker  \n2021-12-31  64062300   AAPL  ",
      "text/html": "<div>\n<style scoped>\n    .dataframe tbody tr th:only-of-type {\n        vertical-align: middle;\n    }\n\n    .dataframe tbody tr th {\n        vertical-align: top;\n    }\n\n    .dataframe thead th {\n        text-align: right;\n    }\n</style>\n<table border=\"1\" class=\"dataframe\">\n  <thead>\n    <tr style=\"text-align: right;\">\n      <th></th>\n      <th>open</th>\n      <th>high</th>\n      <th>low</th>\n      <th>close</th>\n      <th>adjclose</th>\n      <th>volume</th>\n      <th>ticker</th>\n    </tr>\n  </thead>\n  <tbody>\n    <tr>\n      <th>2021-12-31</th>\n      <td>178.089996</td>\n      <td>179.229996</td>\n      <td>177.259995</td>\n      <td>177.570007</td>\n      <td>177.344055</td>\n      <td>64062300</td>\n      <td>AAPL</td>\n    </tr>\n  </tbody>\n</table>\n</div>"
     },
     "execution_count": 43,
     "metadata": {},
     "output_type": "execute_result"
    }
   ],
   "source": [
    "si.get_data('AAPL', start_date='2021-12-31', end_date='2022-01-03', interval='1d')"
   ],
   "metadata": {
    "collapsed": false,
    "pycharm": {
     "name": "#%%\n"
    }
   }
  },
  {
   "cell_type": "code",
   "execution_count": 6,
   "outputs": [],
   "source": [
    "inital_allocs = pd.read_csv('assets/init_alloc.csv', index_col='stocks')\n",
    "inital_allocs = inital_allocs*1000000"
   ],
   "metadata": {
    "collapsed": false,
    "pycharm": {
     "name": "#%%\n"
    }
   }
  },
  {
   "cell_type": "code",
   "execution_count": 7,
   "outputs": [
    {
     "data": {
      "text/plain": "        Anish  Emily  Paul  Kirby  Hosegood  Leong  Olivia    Brokaw  Eric H  \\\nstocks                                                                         \nRIVN      0.0    0.0   0.0    0.0       0.0    0.0     0.0  100000.0     0.0   \nLCID      0.0    0.0   0.0    0.0       0.0    0.0     0.0  100000.0     0.0   \nAPPS      0.0    0.0   0.0    0.0       0.0    0.0     0.0  100000.0     0.0   \nBUR       0.0    0.0   0.0    0.0       0.0    0.0     0.0  100000.0     0.0   \nFIGS      0.0    0.0   0.0    0.0       0.0    0.0     0.0  100000.0     0.0   \n...       ...    ...   ...    ...       ...    ...     ...       ...     ...   \nBIDU      0.0    0.0   0.0    0.0       0.0    0.0     0.0       0.0     0.0   \nBABA      0.0    0.0   0.0    0.0       0.0    0.0     0.0       0.0     0.0   \nDIDI      0.0    0.0   0.0    0.0       0.0    0.0     0.0       0.0     0.0   \nVZIO      0.0    0.0   0.0    0.0       0.0    0.0     0.0       0.0     0.0   \nNIO       0.0    0.0   0.0    0.0       0.0    0.0     0.0       0.0     0.0   \n\n        Kyle Cross  ...  Westy  Farrah  Baldridge   Rubyann  Mac  Madison  \\\nstocks              ...                                                     \nRIVN           0.0  ...    0.0     0.0         0.0      0.0  0.0      0.0   \nLCID           0.0  ...    0.0     0.0         0.0      0.0  0.0      0.0   \nAPPS      250000.0  ...    0.0     0.0         0.0      0.0  0.0      0.0   \nBUR        50000.0  ...    0.0     0.0         0.0      0.0  0.0      0.0   \nFIGS           0.0  ...    0.0     0.0         0.0      0.0  0.0      0.0   \n...            ...  ...    ...     ...         ...      ...  ...      ...   \nBIDU           0.0  ...    0.0     0.0         0.0      0.0  0.0      0.0   \nBABA           0.0  ...    0.0     0.0         0.0      0.0  0.0      0.0   \nDIDI           0.0  ...    0.0     0.0         0.0      0.0  0.0      0.0   \nVZIO           0.0  ...    0.0     0.0         0.0      0.0  0.0      0.0   \nNIO            0.0  ...    0.0     0.0         0.0      0.0  0.0      0.0   \n\n        Karsa  Sergio  Daniel K   Candice  \nstocks                                     \nRIVN      0.0     0.0       0.0       0.0  \nLCID      0.0     0.0       0.0       0.0  \nAPPS      0.0     0.0       0.0       0.0  \nBUR       0.0     0.0       0.0       0.0  \nFIGS      0.0     0.0       0.0       0.0  \n...       ...     ...       ...       ...  \nBIDU      0.0     0.0       0.0  100000.0  \nBABA      0.0     0.0       0.0  100000.0  \nDIDI      0.0     0.0       0.0  100000.0  \nVZIO      0.0     0.0       0.0  100000.0  \nNIO       0.0     0.0       0.0  100000.0  \n\n[147 rows x 26 columns]",
      "text/html": "<div>\n<style scoped>\n    .dataframe tbody tr th:only-of-type {\n        vertical-align: middle;\n    }\n\n    .dataframe tbody tr th {\n        vertical-align: top;\n    }\n\n    .dataframe thead th {\n        text-align: right;\n    }\n</style>\n<table border=\"1\" class=\"dataframe\">\n  <thead>\n    <tr style=\"text-align: right;\">\n      <th></th>\n      <th>Anish</th>\n      <th>Emily</th>\n      <th>Paul</th>\n      <th>Kirby</th>\n      <th>Hosegood</th>\n      <th>Leong</th>\n      <th>Olivia</th>\n      <th>Brokaw</th>\n      <th>Eric H</th>\n      <th>Kyle Cross</th>\n      <th>...</th>\n      <th>Westy</th>\n      <th>Farrah</th>\n      <th>Baldridge</th>\n      <th>Rubyann</th>\n      <th>Mac</th>\n      <th>Madison</th>\n      <th>Karsa</th>\n      <th>Sergio</th>\n      <th>Daniel K</th>\n      <th>Candice</th>\n    </tr>\n    <tr>\n      <th>stocks</th>\n      <th></th>\n      <th></th>\n      <th></th>\n      <th></th>\n      <th></th>\n      <th></th>\n      <th></th>\n      <th></th>\n      <th></th>\n      <th></th>\n      <th></th>\n      <th></th>\n      <th></th>\n      <th></th>\n      <th></th>\n      <th></th>\n      <th></th>\n      <th></th>\n      <th></th>\n      <th></th>\n      <th></th>\n    </tr>\n  </thead>\n  <tbody>\n    <tr>\n      <th>RIVN</th>\n      <td>0.0</td>\n      <td>0.0</td>\n      <td>0.0</td>\n      <td>0.0</td>\n      <td>0.0</td>\n      <td>0.0</td>\n      <td>0.0</td>\n      <td>100000.0</td>\n      <td>0.0</td>\n      <td>0.0</td>\n      <td>...</td>\n      <td>0.0</td>\n      <td>0.0</td>\n      <td>0.0</td>\n      <td>0.0</td>\n      <td>0.0</td>\n      <td>0.0</td>\n      <td>0.0</td>\n      <td>0.0</td>\n      <td>0.0</td>\n      <td>0.0</td>\n    </tr>\n    <tr>\n      <th>LCID</th>\n      <td>0.0</td>\n      <td>0.0</td>\n      <td>0.0</td>\n      <td>0.0</td>\n      <td>0.0</td>\n      <td>0.0</td>\n      <td>0.0</td>\n      <td>100000.0</td>\n      <td>0.0</td>\n      <td>0.0</td>\n      <td>...</td>\n      <td>0.0</td>\n      <td>0.0</td>\n      <td>0.0</td>\n      <td>0.0</td>\n      <td>0.0</td>\n      <td>0.0</td>\n      <td>0.0</td>\n      <td>0.0</td>\n      <td>0.0</td>\n      <td>0.0</td>\n    </tr>\n    <tr>\n      <th>APPS</th>\n      <td>0.0</td>\n      <td>0.0</td>\n      <td>0.0</td>\n      <td>0.0</td>\n      <td>0.0</td>\n      <td>0.0</td>\n      <td>0.0</td>\n      <td>100000.0</td>\n      <td>0.0</td>\n      <td>250000.0</td>\n      <td>...</td>\n      <td>0.0</td>\n      <td>0.0</td>\n      <td>0.0</td>\n      <td>0.0</td>\n      <td>0.0</td>\n      <td>0.0</td>\n      <td>0.0</td>\n      <td>0.0</td>\n      <td>0.0</td>\n      <td>0.0</td>\n    </tr>\n    <tr>\n      <th>BUR</th>\n      <td>0.0</td>\n      <td>0.0</td>\n      <td>0.0</td>\n      <td>0.0</td>\n      <td>0.0</td>\n      <td>0.0</td>\n      <td>0.0</td>\n      <td>100000.0</td>\n      <td>0.0</td>\n      <td>50000.0</td>\n      <td>...</td>\n      <td>0.0</td>\n      <td>0.0</td>\n      <td>0.0</td>\n      <td>0.0</td>\n      <td>0.0</td>\n      <td>0.0</td>\n      <td>0.0</td>\n      <td>0.0</td>\n      <td>0.0</td>\n      <td>0.0</td>\n    </tr>\n    <tr>\n      <th>FIGS</th>\n      <td>0.0</td>\n      <td>0.0</td>\n      <td>0.0</td>\n      <td>0.0</td>\n      <td>0.0</td>\n      <td>0.0</td>\n      <td>0.0</td>\n      <td>100000.0</td>\n      <td>0.0</td>\n      <td>0.0</td>\n      <td>...</td>\n      <td>0.0</td>\n      <td>0.0</td>\n      <td>0.0</td>\n      <td>0.0</td>\n      <td>0.0</td>\n      <td>0.0</td>\n      <td>0.0</td>\n      <td>0.0</td>\n      <td>0.0</td>\n      <td>0.0</td>\n    </tr>\n    <tr>\n      <th>...</th>\n      <td>...</td>\n      <td>...</td>\n      <td>...</td>\n      <td>...</td>\n      <td>...</td>\n      <td>...</td>\n      <td>...</td>\n      <td>...</td>\n      <td>...</td>\n      <td>...</td>\n      <td>...</td>\n      <td>...</td>\n      <td>...</td>\n      <td>...</td>\n      <td>...</td>\n      <td>...</td>\n      <td>...</td>\n      <td>...</td>\n      <td>...</td>\n      <td>...</td>\n      <td>...</td>\n    </tr>\n    <tr>\n      <th>BIDU</th>\n      <td>0.0</td>\n      <td>0.0</td>\n      <td>0.0</td>\n      <td>0.0</td>\n      <td>0.0</td>\n      <td>0.0</td>\n      <td>0.0</td>\n      <td>0.0</td>\n      <td>0.0</td>\n      <td>0.0</td>\n      <td>...</td>\n      <td>0.0</td>\n      <td>0.0</td>\n      <td>0.0</td>\n      <td>0.0</td>\n      <td>0.0</td>\n      <td>0.0</td>\n      <td>0.0</td>\n      <td>0.0</td>\n      <td>0.0</td>\n      <td>100000.0</td>\n    </tr>\n    <tr>\n      <th>BABA</th>\n      <td>0.0</td>\n      <td>0.0</td>\n      <td>0.0</td>\n      <td>0.0</td>\n      <td>0.0</td>\n      <td>0.0</td>\n      <td>0.0</td>\n      <td>0.0</td>\n      <td>0.0</td>\n      <td>0.0</td>\n      <td>...</td>\n      <td>0.0</td>\n      <td>0.0</td>\n      <td>0.0</td>\n      <td>0.0</td>\n      <td>0.0</td>\n      <td>0.0</td>\n      <td>0.0</td>\n      <td>0.0</td>\n      <td>0.0</td>\n      <td>100000.0</td>\n    </tr>\n    <tr>\n      <th>DIDI</th>\n      <td>0.0</td>\n      <td>0.0</td>\n      <td>0.0</td>\n      <td>0.0</td>\n      <td>0.0</td>\n      <td>0.0</td>\n      <td>0.0</td>\n      <td>0.0</td>\n      <td>0.0</td>\n      <td>0.0</td>\n      <td>...</td>\n      <td>0.0</td>\n      <td>0.0</td>\n      <td>0.0</td>\n      <td>0.0</td>\n      <td>0.0</td>\n      <td>0.0</td>\n      <td>0.0</td>\n      <td>0.0</td>\n      <td>0.0</td>\n      <td>100000.0</td>\n    </tr>\n    <tr>\n      <th>VZIO</th>\n      <td>0.0</td>\n      <td>0.0</td>\n      <td>0.0</td>\n      <td>0.0</td>\n      <td>0.0</td>\n      <td>0.0</td>\n      <td>0.0</td>\n      <td>0.0</td>\n      <td>0.0</td>\n      <td>0.0</td>\n      <td>...</td>\n      <td>0.0</td>\n      <td>0.0</td>\n      <td>0.0</td>\n      <td>0.0</td>\n      <td>0.0</td>\n      <td>0.0</td>\n      <td>0.0</td>\n      <td>0.0</td>\n      <td>0.0</td>\n      <td>100000.0</td>\n    </tr>\n    <tr>\n      <th>NIO</th>\n      <td>0.0</td>\n      <td>0.0</td>\n      <td>0.0</td>\n      <td>0.0</td>\n      <td>0.0</td>\n      <td>0.0</td>\n      <td>0.0</td>\n      <td>0.0</td>\n      <td>0.0</td>\n      <td>0.0</td>\n      <td>...</td>\n      <td>0.0</td>\n      <td>0.0</td>\n      <td>0.0</td>\n      <td>0.0</td>\n      <td>0.0</td>\n      <td>0.0</td>\n      <td>0.0</td>\n      <td>0.0</td>\n      <td>0.0</td>\n      <td>100000.0</td>\n    </tr>\n  </tbody>\n</table>\n<p>147 rows × 26 columns</p>\n</div>"
     },
     "execution_count": 7,
     "metadata": {},
     "output_type": "execute_result"
    }
   ],
   "source": [
    "inital_allocs"
   ],
   "metadata": {
    "collapsed": false,
    "pycharm": {
     "name": "#%%\n"
    }
   }
  },
  {
   "cell_type": "code",
   "execution_count": null,
   "outputs": [],
   "source": [],
   "metadata": {
    "collapsed": false,
    "pycharm": {
     "name": "#%%\n"
    }
   }
  }
 ],
 "metadata": {
  "kernelspec": {
   "display_name": "Python 3",
   "language": "python",
   "name": "python3"
  },
  "language_info": {
   "codemirror_mode": {
    "name": "ipython",
    "version": 2
   },
   "file_extension": ".py",
   "mimetype": "text/x-python",
   "name": "python",
   "nbconvert_exporter": "python",
   "pygments_lexer": "ipython2",
   "version": "2.7.6"
  }
 },
 "nbformat": 4,
 "nbformat_minor": 0
}