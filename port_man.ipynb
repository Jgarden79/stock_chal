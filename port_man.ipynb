{
 "cells": [
  {
   "cell_type": "code",
   "execution_count": 27,
   "metadata": {
    "tags": []
   },
   "outputs": [],
   "source": [
    "import time\n",
    "\n",
    "import pandas as pd\n",
    "import warnings\n",
    "from pandas.core.common import SettingWithCopyWarning\n",
    "from yahoo_fin import stock_info as si\n",
    "import datetime\n",
    "import pickle\n",
    "import tqdm\n",
    "import numpy as np\n",
    "import pandas_market_calendars as mcal\n",
    "import os\n",
    "import emoji\n",
    "import gspread\n",
    "import df2gspread as d2g"
   ]
  },
  {
   "cell_type": "code",
   "execution_count": 2,
   "outputs": [],
   "source": [
    "\n",
    "gc = gspread.oauth(credentials_filename=\"client_secret_279764153689-2rq7k9683jqc57dh9o6lf30jvatdec7m.apps.googleusercontent.com.json\",)\n"
   ],
   "metadata": {
    "collapsed": false,
    "pycharm": {
     "name": "#%%\n"
    }
   }
  },
  {
   "cell_type": "code",
   "execution_count": 3,
   "metadata": {
    "collapsed": false,
    "jupyter": {
     "outputs_hidden": false
    },
    "pycharm": {
     "name": "#%%\n"
    }
   },
   "outputs": [],
   "source": [
    "warnings.simplefilter(action=\"ignore\", category=SettingWithCopyWarning)\n",
    "warnings.simplefilter(action='ignore', category=FutureWarning)"
   ]
  },
  {
   "cell_type": "code",
   "execution_count": 4,
   "metadata": {},
   "outputs": [],
   "source": [
    "today = datetime.datetime.today().date()\n",
    "s_date = '2021-12-31'\n",
    "nyse = mcal.get_calendar('NYSE') # set up calendar\n",
    "market_days = nyse.valid_days(start_date=s_date, end_date=today).date # get valid market days"
   ]
  },
  {
   "cell_type": "code",
   "execution_count": 5,
   "metadata": {
    "collapsed": false,
    "jupyter": {
     "outputs_hidden": false
    },
    "pycharm": {
     "name": "#%%\n"
    }
   },
   "outputs": [],
   "source": [
    "def create_initials():\n",
    "    \"\"\"\n",
    "    creates the initial allocations using the provided CSV\n",
    "    :return: a pandas df of initial allocations\n",
    "    \"\"\"\n",
    "    inital_allocs = pd.read_csv('assets/init_alloc.csv', index_col='stocks') # read in initial allc csv\n",
    "    inital_allocs = inital_allocs*1000000 # convert to $ value\n",
    "    stocks = list(inital_allocs.index) # put all stocks in list\n",
    "    px_dat = [] # px data for day 0\n",
    "    for stock in stocks:# loop through all stocks\n",
    "        k = si.get_data(stock, start_date='2021-12-31', end_date='2022-01-01', interval='1d') # request relevant info\n",
    "        px = k['close'].iloc[0] # take only the closing px on the day\n",
    "        px_dat.append(px) # append to the list\n",
    "    inital_allocs['px_dat'] = px_dat # add px data to alloc df\n",
    "    init_shares = inital_allocs.floordiv(inital_allocs['px_dat'].to_numpy(), axis=0) # ensures\n",
    "    init_shares['px_dat'] = px_dat\n",
    "    init_shares.to_csv(\"assets/shares.csv\", index = True)\n",
    "    return init_shares"
   ]
  },
  {
   "cell_type": "code",
   "execution_count": 6,
   "metadata": {
    "collapsed": false,
    "jupyter": {
     "outputs_hidden": false
    },
    "pycharm": {
     "name": "#%%\n"
    }
   },
   "outputs": [
    {
     "data": {
      "text/plain": "        Anish  Emily  Paul  Kirby  Hosegood  Leong  Olivia  Brokaw  Eric H  \\\nstocks                                                                       \nRIVN      0.0    0.0   0.0    0.0       0.0    0.0     0.0   964.0     0.0   \nLCID      0.0    0.0   0.0    0.0       0.0    0.0     0.0  2628.0     0.0   \nAPPS      0.0    0.0   0.0    0.0       0.0    0.0     0.0  1639.0     0.0   \nBUR       0.0    0.0   0.0    0.0       0.0    0.0     0.0  9469.0     0.0   \nFIGS      0.0    0.0   0.0    0.0       0.0    0.0     0.0  3628.0     0.0   \n...       ...    ...   ...    ...       ...    ...     ...     ...     ...   \nNIO       0.0    0.0   0.0    0.0       0.0    0.0     0.0     0.0     0.0   \nSNAP      0.0    0.0   0.0    0.0       0.0    0.0     0.0     0.0     0.0   \nHUT       0.0    0.0   0.0    0.0       0.0    0.0     0.0     0.0     0.0   \nUBER      0.0    0.0   0.0    0.0       0.0    0.0     0.0     0.0     0.0   \nSBUX      0.0    0.0   0.0    0.0       0.0    0.0     0.0     0.0     0.0   \n\n        Kyle Cross  ...  Baldridge   Rubyann  Mac  Madison  Karsa  Sergio  \\\nstocks              ...                                                     \nRIVN           0.0  ...         0.0      0.0  0.0      0.0    0.0     0.0   \nLCID           0.0  ...         0.0      0.0  0.0      0.0    0.0     0.0   \nAPPS        4099.0  ...         0.0      0.0  0.0      0.0    0.0     0.0   \nBUR         4734.0  ...         0.0      0.0  0.0      0.0    0.0     0.0   \nFIGS           0.0  ...         0.0      0.0  0.0      0.0    0.0     0.0   \n...            ...  ...         ...      ...  ...      ...    ...     ...   \nNIO            0.0  ...         0.0      0.0  0.0      0.0    0.0     0.0   \nSNAP           0.0  ...         0.0      0.0  0.0      0.0    0.0     0.0   \nHUT            0.0  ...         0.0      0.0  0.0      0.0    0.0     0.0   \nUBER           0.0  ...         0.0      0.0  0.0      0.0    0.0     0.0   \nSBUX           0.0  ...         0.0      0.0  0.0      0.0    0.0     0.0   \n\n        Daniel K  Candice   Debbie      px_dat  \nstocks                                          \nRIVN         0.0      0.0      0.0  103.690002  \nLCID         0.0      0.0      0.0   38.049999  \nAPPS         0.0      0.0      0.0   60.990002  \nBUR          0.0      0.0      0.0   10.560000  \nFIGS         0.0      0.0      0.0   27.559999  \n...          ...      ...      ...         ...  \nNIO          0.0   3156.0      0.0   31.680000  \nSNAP         0.0      0.0   2126.0   47.029999  \nHUT          0.0      0.0  12738.0    7.850000  \nUBER         0.0      0.0   2384.0   41.930000  \nSBUX         0.0      0.0    854.0  116.970001  \n\n[150 rows x 28 columns]",
      "text/html": "<div>\n<style scoped>\n    .dataframe tbody tr th:only-of-type {\n        vertical-align: middle;\n    }\n\n    .dataframe tbody tr th {\n        vertical-align: top;\n    }\n\n    .dataframe thead th {\n        text-align: right;\n    }\n</style>\n<table border=\"1\" class=\"dataframe\">\n  <thead>\n    <tr style=\"text-align: right;\">\n      <th></th>\n      <th>Anish</th>\n      <th>Emily</th>\n      <th>Paul</th>\n      <th>Kirby</th>\n      <th>Hosegood</th>\n      <th>Leong</th>\n      <th>Olivia</th>\n      <th>Brokaw</th>\n      <th>Eric H</th>\n      <th>Kyle Cross</th>\n      <th>...</th>\n      <th>Baldridge</th>\n      <th>Rubyann</th>\n      <th>Mac</th>\n      <th>Madison</th>\n      <th>Karsa</th>\n      <th>Sergio</th>\n      <th>Daniel K</th>\n      <th>Candice</th>\n      <th>Debbie</th>\n      <th>px_dat</th>\n    </tr>\n    <tr>\n      <th>stocks</th>\n      <th></th>\n      <th></th>\n      <th></th>\n      <th></th>\n      <th></th>\n      <th></th>\n      <th></th>\n      <th></th>\n      <th></th>\n      <th></th>\n      <th></th>\n      <th></th>\n      <th></th>\n      <th></th>\n      <th></th>\n      <th></th>\n      <th></th>\n      <th></th>\n      <th></th>\n      <th></th>\n      <th></th>\n    </tr>\n  </thead>\n  <tbody>\n    <tr>\n      <th>RIVN</th>\n      <td>0.0</td>\n      <td>0.0</td>\n      <td>0.0</td>\n      <td>0.0</td>\n      <td>0.0</td>\n      <td>0.0</td>\n      <td>0.0</td>\n      <td>964.0</td>\n      <td>0.0</td>\n      <td>0.0</td>\n      <td>...</td>\n      <td>0.0</td>\n      <td>0.0</td>\n      <td>0.0</td>\n      <td>0.0</td>\n      <td>0.0</td>\n      <td>0.0</td>\n      <td>0.0</td>\n      <td>0.0</td>\n      <td>0.0</td>\n      <td>103.690002</td>\n    </tr>\n    <tr>\n      <th>LCID</th>\n      <td>0.0</td>\n      <td>0.0</td>\n      <td>0.0</td>\n      <td>0.0</td>\n      <td>0.0</td>\n      <td>0.0</td>\n      <td>0.0</td>\n      <td>2628.0</td>\n      <td>0.0</td>\n      <td>0.0</td>\n      <td>...</td>\n      <td>0.0</td>\n      <td>0.0</td>\n      <td>0.0</td>\n      <td>0.0</td>\n      <td>0.0</td>\n      <td>0.0</td>\n      <td>0.0</td>\n      <td>0.0</td>\n      <td>0.0</td>\n      <td>38.049999</td>\n    </tr>\n    <tr>\n      <th>APPS</th>\n      <td>0.0</td>\n      <td>0.0</td>\n      <td>0.0</td>\n      <td>0.0</td>\n      <td>0.0</td>\n      <td>0.0</td>\n      <td>0.0</td>\n      <td>1639.0</td>\n      <td>0.0</td>\n      <td>4099.0</td>\n      <td>...</td>\n      <td>0.0</td>\n      <td>0.0</td>\n      <td>0.0</td>\n      <td>0.0</td>\n      <td>0.0</td>\n      <td>0.0</td>\n      <td>0.0</td>\n      <td>0.0</td>\n      <td>0.0</td>\n      <td>60.990002</td>\n    </tr>\n    <tr>\n      <th>BUR</th>\n      <td>0.0</td>\n      <td>0.0</td>\n      <td>0.0</td>\n      <td>0.0</td>\n      <td>0.0</td>\n      <td>0.0</td>\n      <td>0.0</td>\n      <td>9469.0</td>\n      <td>0.0</td>\n      <td>4734.0</td>\n      <td>...</td>\n      <td>0.0</td>\n      <td>0.0</td>\n      <td>0.0</td>\n      <td>0.0</td>\n      <td>0.0</td>\n      <td>0.0</td>\n      <td>0.0</td>\n      <td>0.0</td>\n      <td>0.0</td>\n      <td>10.560000</td>\n    </tr>\n    <tr>\n      <th>FIGS</th>\n      <td>0.0</td>\n      <td>0.0</td>\n      <td>0.0</td>\n      <td>0.0</td>\n      <td>0.0</td>\n      <td>0.0</td>\n      <td>0.0</td>\n      <td>3628.0</td>\n      <td>0.0</td>\n      <td>0.0</td>\n      <td>...</td>\n      <td>0.0</td>\n      <td>0.0</td>\n      <td>0.0</td>\n      <td>0.0</td>\n      <td>0.0</td>\n      <td>0.0</td>\n      <td>0.0</td>\n      <td>0.0</td>\n      <td>0.0</td>\n      <td>27.559999</td>\n    </tr>\n    <tr>\n      <th>...</th>\n      <td>...</td>\n      <td>...</td>\n      <td>...</td>\n      <td>...</td>\n      <td>...</td>\n      <td>...</td>\n      <td>...</td>\n      <td>...</td>\n      <td>...</td>\n      <td>...</td>\n      <td>...</td>\n      <td>...</td>\n      <td>...</td>\n      <td>...</td>\n      <td>...</td>\n      <td>...</td>\n      <td>...</td>\n      <td>...</td>\n      <td>...</td>\n      <td>...</td>\n      <td>...</td>\n    </tr>\n    <tr>\n      <th>NIO</th>\n      <td>0.0</td>\n      <td>0.0</td>\n      <td>0.0</td>\n      <td>0.0</td>\n      <td>0.0</td>\n      <td>0.0</td>\n      <td>0.0</td>\n      <td>0.0</td>\n      <td>0.0</td>\n      <td>0.0</td>\n      <td>...</td>\n      <td>0.0</td>\n      <td>0.0</td>\n      <td>0.0</td>\n      <td>0.0</td>\n      <td>0.0</td>\n      <td>0.0</td>\n      <td>0.0</td>\n      <td>3156.0</td>\n      <td>0.0</td>\n      <td>31.680000</td>\n    </tr>\n    <tr>\n      <th>SNAP</th>\n      <td>0.0</td>\n      <td>0.0</td>\n      <td>0.0</td>\n      <td>0.0</td>\n      <td>0.0</td>\n      <td>0.0</td>\n      <td>0.0</td>\n      <td>0.0</td>\n      <td>0.0</td>\n      <td>0.0</td>\n      <td>...</td>\n      <td>0.0</td>\n      <td>0.0</td>\n      <td>0.0</td>\n      <td>0.0</td>\n      <td>0.0</td>\n      <td>0.0</td>\n      <td>0.0</td>\n      <td>0.0</td>\n      <td>2126.0</td>\n      <td>47.029999</td>\n    </tr>\n    <tr>\n      <th>HUT</th>\n      <td>0.0</td>\n      <td>0.0</td>\n      <td>0.0</td>\n      <td>0.0</td>\n      <td>0.0</td>\n      <td>0.0</td>\n      <td>0.0</td>\n      <td>0.0</td>\n      <td>0.0</td>\n      <td>0.0</td>\n      <td>...</td>\n      <td>0.0</td>\n      <td>0.0</td>\n      <td>0.0</td>\n      <td>0.0</td>\n      <td>0.0</td>\n      <td>0.0</td>\n      <td>0.0</td>\n      <td>0.0</td>\n      <td>12738.0</td>\n      <td>7.850000</td>\n    </tr>\n    <tr>\n      <th>UBER</th>\n      <td>0.0</td>\n      <td>0.0</td>\n      <td>0.0</td>\n      <td>0.0</td>\n      <td>0.0</td>\n      <td>0.0</td>\n      <td>0.0</td>\n      <td>0.0</td>\n      <td>0.0</td>\n      <td>0.0</td>\n      <td>...</td>\n      <td>0.0</td>\n      <td>0.0</td>\n      <td>0.0</td>\n      <td>0.0</td>\n      <td>0.0</td>\n      <td>0.0</td>\n      <td>0.0</td>\n      <td>0.0</td>\n      <td>2384.0</td>\n      <td>41.930000</td>\n    </tr>\n    <tr>\n      <th>SBUX</th>\n      <td>0.0</td>\n      <td>0.0</td>\n      <td>0.0</td>\n      <td>0.0</td>\n      <td>0.0</td>\n      <td>0.0</td>\n      <td>0.0</td>\n      <td>0.0</td>\n      <td>0.0</td>\n      <td>0.0</td>\n      <td>...</td>\n      <td>0.0</td>\n      <td>0.0</td>\n      <td>0.0</td>\n      <td>0.0</td>\n      <td>0.0</td>\n      <td>0.0</td>\n      <td>0.0</td>\n      <td>0.0</td>\n      <td>854.0</td>\n      <td>116.970001</td>\n    </tr>\n  </tbody>\n</table>\n<p>150 rows × 28 columns</p>\n</div>"
     },
     "execution_count": 6,
     "metadata": {},
     "output_type": "execute_result"
    }
   ],
   "source": [
    "create_initials()"
   ]
  },
  {
   "cell_type": "code",
   "execution_count": 7,
   "metadata": {},
   "outputs": [],
   "source": [
    "def update_stocklist(stocks_in=[], stocks_out=[]):\n",
    "    \"\"\"\n",
    "    create a security master file\n",
    "    :param stocks_in: stocks that are going into portfolios.\n",
    "    :param stocks_out: Stocks comming out of portfolios\n",
    "    :return:\n",
    "    \"\"\"\n",
    "    try: #try to do the following\n",
    "        with open('assets/stock_list.pkl', 'rb') as f: # open the stock list pickle file\n",
    "            stock_list = pickle.load(f) # load the file\n",
    "        new = [] # this is a new list of stocks\n",
    "        for s in stock_list: # for every stock in the list of existing stocks\n",
    "            if s not in stocks_out: # if the stock is not in the out list\n",
    "                new.append(s) # keep the stock in the master stock list\n",
    "        for t in stocks_in: # for every stock in the list of new stocks\n",
    "            if t not in new: # if the stock is NOT in the master already\n",
    "                new.append(t) # add it\n",
    "        with open('assets/stock_list.pkl', 'wb') as f: # re-open the pickle file\n",
    "            pickle.dump(new, f) # save it\n",
    "    except: #otherwise\n",
    "        with open('assets/stock_list.pkl', 'wb') as f: # just create a new master using the new assets\n",
    "            pickle.dump(stocks_in, f) # save it\n",
    "    return\n",
    "\n",
    "\n",
    "\n"
   ]
  },
  {
   "cell_type": "code",
   "execution_count": 36,
   "metadata": {
    "collapsed": false,
    "jupyter": {
     "outputs_hidden": false
    },
    "pycharm": {
     "name": "#%%\n"
    }
   },
   "outputs": [],
   "source": [
    "update_stocklist(stocks_in=['SNAP', 'HUT', 'UBER', 'SBUX'], stocks_out=[])"
   ]
  },
  {
   "cell_type": "code",
   "execution_count": 8,
   "metadata": {},
   "outputs": [],
   "source": [
    "def update_px():\n",
    "    \"\"\"\n",
    "    update the prices of the stocks in the system\n",
    "    :return:\n",
    "    \"\"\"\n",
    "    with open('assets/stock_list.pkl', 'rb') as f: # open tha master stock list\n",
    "        stock_list = pickle.load(f) # load into the system\n",
    "    today = datetime.datetime.today().date().strftime('%Y-%m-%d') # set the date\n",
    "    # for every stock in the system get stock price data and save to a csv\n",
    "    for stock in tqdm.tqdm(stock_list):\n",
    "        k = si.get_data(stock, start_date='2021-12-31', end_date=today, interval='1d') # request relevant info\n",
    "        k.to_csv('assets/px_dat/{}_px.csv'.format(stock))\n",
    "    return"
   ]
  },
  {
   "cell_type": "code",
   "execution_count": 8,
   "metadata": {
    "collapsed": false,
    "jupyter": {
     "outputs_hidden": false
    },
    "pycharm": {
     "name": "#%%\n"
    }
   },
   "outputs": [],
   "source": []
  },
  {
   "cell_type": "code",
   "execution_count": 9,
   "metadata": {},
   "outputs": [],
   "source": [
    "def update_bm():\n",
    "    \"\"\"\n",
    "    update the benchmark data\n",
    "    :return:\n",
    "    \"\"\"\n",
    "    with open('assets/bm_list.pkl', 'rb') as f: # open the BM master list\n",
    "        stock_list = pickle.load(f) # load into the system\n",
    "    today = datetime.datetime.today().date().strftime('%Y-%m-%d') # today's date\n",
    "    #for every stock in the system get stock price data and save to a csv\n",
    "    for stock in tqdm.tqdm(stock_list):\n",
    "        k = si.get_data(stock, start_date='2021-12-31', end_date=today, interval='1d') # request relevant info\n",
    "        k.to_csv('assets/bm_dat/{}_px.csv'.format(stock))\n",
    "    return"
   ]
  },
  {
   "cell_type": "code",
   "execution_count": 10,
   "metadata": {},
   "outputs": [],
   "source": [
    "def update_divs():\n",
    "    \"\"\"\n",
    "    update dividend data for all stocks\n",
    "    :return:\n",
    "    \"\"\"\n",
    "    with open('assets/stock_list.pkl', 'rb') as f: # open tha master stock list\n",
    "        stock_list = pickle.load(f) # load into the system\n",
    "    today = datetime.datetime.today().date().strftime('%Y-%m-%d') # set the date\n",
    "   # for every stock in the system get stock dividend data and save to a csv\n",
    "    for stock in tqdm.tqdm(stock_list):\n",
    "        k = si.get_dividends(stock, start_date='2021-12-31', end_date=today) # request relevant info\n",
    "        k.to_csv('assets/dividends/{}_div.csv'.format(stock))\n",
    "    return"
   ]
  },
  {
   "cell_type": "code",
   "execution_count": 44,
   "outputs": [
    {
     "name": "stderr",
     "output_type": "stream",
     "text": [
      "100%|██████████| 150/150 [00:19<00:00,  7.58it/s]\n"
     ]
    }
   ],
   "source": [
    "update_px()"
   ],
   "metadata": {
    "collapsed": false,
    "pycharm": {
     "name": "#%%\n"
    }
   }
  },
  {
   "cell_type": "code",
   "execution_count": 46,
   "metadata": {},
   "outputs": [
    {
     "name": "stderr",
     "output_type": "stream",
     "text": [
      "100%|██████████| 150/150 [00:17<00:00,  8.43it/s]\n"
     ]
    }
   ],
   "source": [
    "update_divs()"
   ]
  },
  {
   "cell_type": "code",
   "execution_count": 47,
   "metadata": {},
   "outputs": [
    {
     "name": "stderr",
     "output_type": "stream",
     "text": [
      "100%|██████████| 8/8 [00:01<00:00,  7.65it/s]\n"
     ]
    }
   ],
   "source": [
    "update_bm()\n"
   ]
  },
  {
   "cell_type": "code",
   "execution_count": 48,
   "outputs": [
    {
     "data": {
      "text/plain": "            Shares Cost Per Share      Cost Basis Current Price  \\\nAMZN          29.0    3334.340088    96695.862549   3334.340088   \nHD           240.0      415.01001    99602.402344     415.01001   \nPFE         1693.0      59.049999    99971.648708     59.049999   \nPYPL         530.0     188.580002    99947.400970    188.580002   \nNKE          599.0     166.669998    99835.328903    166.669998   \nLUV         2334.0          42.84    99988.560356         42.84   \nSNAP        2126.0      47.029999    99985.777405     47.029999   \nHUT        12738.0           7.85    99993.298785          7.85   \nUBER        2384.0          41.93    99961.120728         41.93   \nSBUX         854.0     116.970001    99892.381042    116.970001   \nCash   4126.218209            1.0     4126.218209           1.0   \nTotal                              1000000.000000                 \n\n       As of 2021-12-31  Return  \nAMZN       96695.862549     0.0  \nHD         99602.402344     0.0  \nPFE        99971.648708     0.0  \nPYPL       99947.400970     0.0  \nNKE        99835.328903     0.0  \nLUV        99988.560356     0.0  \nSNAP       99985.777405     0.0  \nHUT        99993.298785     0.0  \nUBER       99961.120728     0.0  \nSBUX       99892.381042     0.0  \nCash        4126.218209     0.0  \nTotal    1000000.000000     0.0  ",
      "text/html": "<div>\n<style scoped>\n    .dataframe tbody tr th:only-of-type {\n        vertical-align: middle;\n    }\n\n    .dataframe tbody tr th {\n        vertical-align: top;\n    }\n\n    .dataframe thead th {\n        text-align: right;\n    }\n</style>\n<table border=\"1\" class=\"dataframe\">\n  <thead>\n    <tr style=\"text-align: right;\">\n      <th></th>\n      <th>Shares</th>\n      <th>Cost Per Share</th>\n      <th>Cost Basis</th>\n      <th>Current Price</th>\n      <th>As of 2021-12-31</th>\n      <th>Return</th>\n    </tr>\n  </thead>\n  <tbody>\n    <tr>\n      <th>AMZN</th>\n      <td>29.0</td>\n      <td>3334.340088</td>\n      <td>96695.862549</td>\n      <td>3334.340088</td>\n      <td>96695.862549</td>\n      <td>0.0</td>\n    </tr>\n    <tr>\n      <th>HD</th>\n      <td>240.0</td>\n      <td>415.01001</td>\n      <td>99602.402344</td>\n      <td>415.01001</td>\n      <td>99602.402344</td>\n      <td>0.0</td>\n    </tr>\n    <tr>\n      <th>PFE</th>\n      <td>1693.0</td>\n      <td>59.049999</td>\n      <td>99971.648708</td>\n      <td>59.049999</td>\n      <td>99971.648708</td>\n      <td>0.0</td>\n    </tr>\n    <tr>\n      <th>PYPL</th>\n      <td>530.0</td>\n      <td>188.580002</td>\n      <td>99947.400970</td>\n      <td>188.580002</td>\n      <td>99947.400970</td>\n      <td>0.0</td>\n    </tr>\n    <tr>\n      <th>NKE</th>\n      <td>599.0</td>\n      <td>166.669998</td>\n      <td>99835.328903</td>\n      <td>166.669998</td>\n      <td>99835.328903</td>\n      <td>0.0</td>\n    </tr>\n    <tr>\n      <th>LUV</th>\n      <td>2334.0</td>\n      <td>42.84</td>\n      <td>99988.560356</td>\n      <td>42.84</td>\n      <td>99988.560356</td>\n      <td>0.0</td>\n    </tr>\n    <tr>\n      <th>SNAP</th>\n      <td>2126.0</td>\n      <td>47.029999</td>\n      <td>99985.777405</td>\n      <td>47.029999</td>\n      <td>99985.777405</td>\n      <td>0.0</td>\n    </tr>\n    <tr>\n      <th>HUT</th>\n      <td>12738.0</td>\n      <td>7.85</td>\n      <td>99993.298785</td>\n      <td>7.85</td>\n      <td>99993.298785</td>\n      <td>0.0</td>\n    </tr>\n    <tr>\n      <th>UBER</th>\n      <td>2384.0</td>\n      <td>41.93</td>\n      <td>99961.120728</td>\n      <td>41.93</td>\n      <td>99961.120728</td>\n      <td>0.0</td>\n    </tr>\n    <tr>\n      <th>SBUX</th>\n      <td>854.0</td>\n      <td>116.970001</td>\n      <td>99892.381042</td>\n      <td>116.970001</td>\n      <td>99892.381042</td>\n      <td>0.0</td>\n    </tr>\n    <tr>\n      <th>Cash</th>\n      <td>4126.218209</td>\n      <td>1.0</td>\n      <td>4126.218209</td>\n      <td>1.0</td>\n      <td>4126.218209</td>\n      <td>0.0</td>\n    </tr>\n    <tr>\n      <th>Total</th>\n      <td></td>\n      <td></td>\n      <td>1000000.000000</td>\n      <td></td>\n      <td>1000000.000000</td>\n      <td>0.0</td>\n    </tr>\n  </tbody>\n</table>\n</div>"
     },
     "execution_count": 48,
     "metadata": {},
     "output_type": "execute_result"
    }
   ],
   "source": [
    "shares = pd.read_csv('assets\\shares.csv', index_col = 0)\n",
    "trades = shares['Debbie']\n",
    "trades = trades[trades>0].to_dict()\n",
    "trades\n",
    "generate_snap('Debbie', date = '2021-12-31', trades = trades, cash = 1000000)"
   ],
   "metadata": {
    "collapsed": false,
    "pycharm": {
     "name": "#%%\n"
    }
   }
  },
  {
   "cell_type": "code",
   "execution_count": 14,
   "metadata": {
    "collapsed": false,
    "jupyter": {
     "outputs_hidden": false
    },
    "pycharm": {
     "name": "#%%\n"
    }
   },
   "outputs": [],
   "source": [
    "def generate_snap(name, date, trades = {}, cash = 1000000):\n",
    "    \"\"\"\n",
    "    creates a portfolio appraisal\n",
    "    :param name: <str> name of the player\n",
    "    :param date: <str> the date in question format is YYYY-MM-DD\n",
    "    :param trades: <dict> list of trades to execute\n",
    "    :return: <df> appraisal\n",
    "    \"\"\"\n",
    "    # initial trade\n",
    "    if date == '2021-12-31': # assuming its the initial trade day:\n",
    "        position = pd.DataFrame(trades, index=[\"Shares\"]).T # Create the initial positions\n",
    "        px = [pd.read_csv('assets\\px_dat\\{}_px.csv'.format(i), index_col=0).loc[date]['close'] for i in position.index] # read the price data\n",
    "        position['Cost Per Share'] = px # add price data to the initial positions df\n",
    "        position['Cost Basis'] = position['Cost Per Share'] * position['Shares'] # calculate cost basis\n",
    "        position['Current Price'] = px # current px is also the close in this case\n",
    "        position['As of {}'.format(date)] = position['Current Price'] * position['Shares'] # calculate currenc vlaue\n",
    "        position['Return'] = (position['As of {}'.format(date)]/position['Cost Basis'])-1 # calculate position returns\n",
    "        divs = [] # set up dividend list\n",
    "        # get dividends\n",
    "        for stock in position.index: # loop through stocks\n",
    "            d_dat = pd.read_csv('assets\\dividends\\{}_div.csv'.format(stock), index_col=0) # get div data\n",
    "            d_dat.index = pd.to_datetime(d_dat.index) # set dates as datetime\n",
    "            d_dat = d_dat[d_dat.index==pd.to_datetime(date)] # isolate today's date\n",
    "            if len(d_dat)>0: # if dividend data exists\n",
    "                divs.append(d_dat['dividend'].loc[pd.to_datetime(date)]) # add it to the divs list\n",
    "            else:\n",
    "                divs.append(0) # otherwise just add 0\n",
    "        div_pay = np.dot(position['Shares'], np.array(divs))\n",
    "        new_cash = cash - np.sum(position['As of {}'.format(date)]) + div_pay #  calculate the new cash position\n",
    "        cash_pos = pd.DataFrame({\"Shares\":new_cash, \"Cost Per Share\": 1, \"Cost Basis\" : new_cash,\n",
    "                                 \"Current Price\": 1, 'As of {}'.format(date): new_cash, \"Return\":0}, index = [\"Cash\"]) # create cash line\n",
    "        position = pd.concat([position, cash_pos]) # combine cash line with positions\n",
    "        total_line = pd.DataFrame({'Cost Basis': position['Cost Basis'].sum(),\n",
    "                                   'As of {}'.format(date): position['As of {}'.format(date)].sum()}, index = [\"Total\"])# create total line\n",
    "        total_line['Return'] = (total_line['As of {}'.format(date)]/total_line['Cost Basis'])-1 # calculate portfolio total return (like this for day one only)\n",
    "        position = pd.concat([position, total_line]) # combine total with positions\n",
    "        position = position.fillna(\"\") # fill all nas with white space\n",
    "        position.to_csv('assets/port_apps/{}_apr_{}.csv'.format(name, date)) # create csv\n",
    "    else:\n",
    "        loc = np.where(market_days== pd.to_datetime(date))[0][0] # finde the location of todays date in the market days calendar\n",
    "        previous_loc = loc-1 # go back one day\n",
    "        prev_date = market_days[previous_loc].strftime(\"%Y-%m-%d\") # get yesterday's date\n",
    "        position = pd.read_csv(\"assets/port_apps/{}_apr_{}.csv\".format(name, prev_date),index_col = 0) # get the previous apraisal\n",
    "        previous_cash = position.loc['Cash']['As of {}'.format(prev_date)] # store the cash value\n",
    "        previous_port_val = position['As of {}'.format(prev_date)].iloc[:-1].sum()\n",
    "        px = [pd.read_csv('assets\\px_dat\\{}_px.csv'.format(i), index_col=0).loc[date]['close'] for i in position.index[:-2]] # read the price data\n",
    "        px.append(1) #append for cash\n",
    "        px.append('') # append for total\n",
    "        position['Current Price'] = px # current px\n",
    "        position['As of {}'.format(date)] = position['Current Price'] * position['Shares'] # calculate currenc vlaue\n",
    "        position['Return'] = (position['As of {}'.format(date)]/position['Cost Basis'])-1 # calculate position returns\n",
    "        divs = [] # set up dividend list\n",
    "        # get dividends\n",
    "        for stock in position.index[:-2]: # loop through stocks\n",
    "            d_dat = pd.read_csv('assets\\dividends\\{}_div.csv'.format(stock), index_col=0) # get div data\n",
    "            d_dat.index = pd.to_datetime(d_dat.index) # set dates as datetime\n",
    "            d_dat = d_dat[d_dat.index==pd.to_datetime(date)] # isolate today's date\n",
    "            if len(d_dat)>0: # if dividend data exists\n",
    "                divs.append(d_dat['dividend'].loc[pd.to_datetime(date)]) # add it to the divs list\n",
    "            else:\n",
    "                divs.append(0) # otherwise just add 0\n",
    "        div_pay = np.dot(position['Shares'].iloc[:-2], np.array(divs))\n",
    "        new_cash = previous_cash+div_pay\n",
    "        if len(trades.keys())>0:\n",
    "            new_position = pd.DataFrame(trades, index=[\"Shares\"]).T # Create the initial positions\n",
    "            px_new = [pd.read_csv('assets\\px_dat\\{}_px.csv'.format(i), index_col=0).loc[date]['close'] for i in new_position.index] # read the price data\n",
    "            new_position['Cost Per Share'] = px_new # add price data to the initial positions df\n",
    "            new_position['Cost Basis'] = new_position['Cost Per Share'] * new_position['Shares'] # calculate cost basis\n",
    "            new_position['Current Price'] = px_new # current px is also the close in this case\n",
    "            new_position['As of {}'.format(date)] = new_position['Current Price'] * new_position['Shares'] # calculate currenc vlaue\n",
    "            if new_cash - new_position['As of {}'.format(date)].sum() > 0: # make sure new cash is greater than 0\n",
    "                new_cash = new_cash - new_position['As of {}'.format(date)].sum() # adjust cash for new positions\n",
    "                new_apr = pd.concat([position.iloc[:-2], new_position]) # combine old positions with new\n",
    "                new_apr = new_apr.drop(['As of {}'.format(prev_date)], axis = 1) # remove old value\n",
    "                updated_apr = pd.DataFrame() # this is the new appraisal df\n",
    "                for stock in new_apr.index.unique(): # loop through the stocks\n",
    "                    df = new_apr[new_apr.index==stock] # isolate stock lines\n",
    "                    if len(df)<2: # if there is only one line just send that to the new df\n",
    "                        updated_apr = pd.concat([updated_apr, df])\n",
    "                    else:\n",
    "                        post_ex_shares = df['Shares'].sum() # add shares\n",
    "                        post_ex_cost_basis = df['Cost Basis'].sum() # combine cost basis\n",
    "                        post_ex_as_of = df['As of {}'.format(date)].sum() # combine values\n",
    "                        post_ex_cost_per = post_ex_cost_basis/post_ex_shares # back out per share cost\n",
    "                        post_ex_cur = post_ex_as_of/post_ex_shares # share value\n",
    "                        to_apr = pd.DataFrame({\"Shares\":post_ex_shares, \"Cost Per Share\":post_ex_cost_per,\n",
    "                                               \"Cost Basis\": post_ex_cost_basis, \"Current Price\": post_ex_cur,\n",
    "                                               'As of {}'.format(date): post_ex_as_of}, index=[stock]) # create the df line\n",
    "                        updated_apr = pd.concat([updated_apr, to_apr]) # add the new position to the apr\n",
    "                position = updated_apr.copy(deep = True) # this is now the new position\n",
    "            else:\n",
    "                pass\n",
    "        else:\n",
    "            position = position.iloc[:-2]\n",
    "            position = position.drop(['As of {}'.format(prev_date)], axis = 1)\n",
    "        position['Return'] = (position['As of {}'.format(date)]/position['Cost Basis'])-1 # calculate position returns\n",
    "        cash_pos = pd.DataFrame({\"Shares\":new_cash, \"Cost Per Share\": 1, \"Cost Basis\" : new_cash,\n",
    "                                 \"Current Price\": 1, 'As of {}'.format(date): new_cash, \"Return\":0}, index = [\"Cash\"]) # create cash line\n",
    "        position = pd.concat([position, cash_pos]) # combine cash line with positions\n",
    "        total_line = pd.DataFrame({'Cost Basis': position['Cost Basis'].sum(),\n",
    "                                   'As of {}'.format(date): position['As of {}'.format(date)].sum()}, index = [\"Total\"])# create total line\n",
    "        total_line['Return'] = (total_line['As of {}'.format(date)]/1000000)-1 # calculate portfolio total return (like this for day one only)\n",
    "        position = pd.concat([position, total_line]) # combine total with positions\n",
    "        position = position.fillna(\"\") # fill all nas with white space\n",
    "        position.to_csv('assets/port_apps/{}_apr_{}.csv'.format(name, date)) # create csv\n",
    "        position= position.reset_index()\n",
    "        sh = gc.open(\"sc_aps\")\n",
    "        try:\n",
    "            worksheet = sh.worksheet('{}_apr'.format(name))\n",
    "        except:\n",
    "            worksheet = sh.add_worksheet('{}_apr'.format(name), 100, 100)\n",
    "        worksheet.update([position.columns.values.tolist()] + position.values.tolist())\n",
    "\n",
    "\n",
    "    return position\n",
    "\n"
   ]
  },
  {
   "cell_type": "code",
   "execution_count": 15,
   "metadata": {
    "collapsed": false,
    "jupyter": {
     "outputs_hidden": false
    },
    "pycharm": {
     "name": "#%%\n"
    }
   },
   "outputs": [],
   "source": [
    "# update performance\n",
    "def update_perf(name):\n",
    "    apr_path = \"assets/port_apps\" # path to appraisal file\n",
    "    apr_list = os.listdir(apr_path) # create list of apraisals\n",
    "    relev_files = [i for i in apr_list if i.split(\"_\")[0]==name]\n",
    "    dates = []\n",
    "    values = []\n",
    "    for file in relev_files:\n",
    "        df = pd.read_csv('{}/{}'.format(apr_path,file), index_col=0)\n",
    "        date = file.split(\"_\")[-1]\n",
    "        date = date.split(\".\")[0]\n",
    "        dates.append(date)\n",
    "        val = df[\"As of {}\".format(date)].loc['Total']\n",
    "        values.append(val)\n",
    "    perf_file = pd.DataFrame({\"Date\":dates, \"Value\": values})\n",
    "    perf_file['Daily Return']=perf_file['Value'].pct_change().fillna(0)\n",
    "    perf_file['Total Return'] = (perf_file['Value']/perf_file['Value'].iloc[0])-1\n",
    "    bm_key = pd.read_csv(\"assets/Player_bm.csv\", index_col=0)\n",
    "    bm = bm_key[bm_key[\"Name\"]==name][\"Benchmark\"].iloc[0]\n",
    "    bm_px = pd.read_csv(\"assets/bm_dat/{}_px.csv\".format(bm), index_col=0)\n",
    "    bm_px = bm_px.filter(['adjclose'])\n",
    "    bm_px['{} Daily Return'.format(bm)] = bm_px['adjclose'].pct_change().fillna(0)\n",
    "    bm_px['{} Total Return'.format(bm)] = (bm_px['adjclose']/bm_px['adjclose'].iloc[0])-1\n",
    "    perf_file=perf_file.set_index('Date').join(bm_px)\n",
    "    perf_file.to_csv(\"assets/performance/{}_perf.csv\".format(name))\n",
    "    sh = gc.open(\"sc_perf\")\n",
    "    try:\n",
    "        worksheet = sh.worksheet('{}_perf'.format(name))\n",
    "    except:\n",
    "        worksheet = sh.add_worksheet('{}_perf'.format(name), 500, 500)\n",
    "    worksheet.update([perf_file.columns.values.tolist()] + perf_file.values.tolist())\n",
    "\n",
    "\n",
    "\n",
    "    return perf_file\n"
   ]
  },
  {
   "cell_type": "code",
   "execution_count": 60,
   "metadata": {
    "collapsed": false,
    "jupyter": {
     "outputs_hidden": false
    },
    "pycharm": {
     "name": "#%%\n"
    }
   },
   "outputs": [
    {
     "data": {
      "text/plain": "        Player     1-Day     5-Day  One Month  One Quarter  Since Inception  \\\n0      Melinda  0.004155  0.020162   0.057694     0.057945         0.057945   \n1        Westy  0.011351  0.032006   0.087276     0.027170         0.027170   \n2        Karsa  0.036143  0.058110   0.015740    -0.011625        -0.011625   \n3       Olivia  0.022836  0.026521   0.060605    -0.022146        -0.022146   \n4        Kirby  0.012813  0.049174   0.118293    -0.026173        -0.026173   \n5       Eric H  0.004921  0.031360   0.090846    -0.026531        -0.026531   \n6         Nour  0.017486  0.029463   0.061642    -0.043053        -0.043053   \n7      Rubyann  0.025937  0.027866   0.019473    -0.054244        -0.054244   \n8           AK  0.009655  0.002573   0.057101    -0.062970        -0.062970   \n9   Baldridge   0.031575  0.018970   0.059825    -0.075307        -0.075307   \n10    Daniel K  0.019862  0.029820   0.048456    -0.079894        -0.079894   \n11         Mac  0.024635  0.029760  -0.010409    -0.098185        -0.098185   \n12       Jon T  0.019429  0.036799   0.084038    -0.103451        -0.103451   \n13   Weinstein  0.033420  0.065006   0.071299    -0.107800        -0.107800   \n14      Sergio  0.024645  0.016785   0.067743    -0.109110        -0.109110   \n15       Anish  0.019164  0.009958   0.050105    -0.117982        -0.117982   \n16        Paul  0.027479  0.024750  -0.017450    -0.128351        -0.128351   \n17     Madison  0.019766  0.036462   0.077357    -0.151374        -0.151374   \n18      Debbie  0.020773  0.034320   0.033786    -0.152370        -0.152370   \n19      Brokaw  0.042013  0.056705   0.051271    -0.165241        -0.165241   \n20       Emily  0.025305  0.019753  -0.005981    -0.170237        -0.170237   \n21       Leong  0.030430  0.028245   0.019007    -0.175735        -0.175735   \n22      Farrah  0.032035  0.061985   0.053994    -0.179823        -0.179823   \n23     Candice  0.028457 -0.014340  -0.056615    -0.206529        -0.206529   \n24    Hosegood  0.069828  0.055209  -0.013286    -0.221261        -0.221261   \n25         Bob  0.033531  0.046132   0.069353    -0.223383        -0.223383   \n26  Kyle Cross  0.055918  0.013619  -0.040138    -0.297173        -0.297173   \n\n   Benchmark Ticker  Benchmark Return Status  \n0              VLUE         -0.009839      💸  \n1               IVW         -0.060437      💸  \n2               IYC         -0.077938      💸  \n3               IVW         -0.060437      💸  \n4               IVW         -0.060437      💸  \n5               IVV         -0.024697      😒  \n6               IVW         -0.060437      😒  \n7               IVW         -0.060437      😒  \n8              MTUM         -0.047774      😒  \n9               IWM         -0.046410      😒  \n10             QUAL         -0.053385      😒  \n11             VLUE         -0.009839      😒  \n12              IVW         -0.060437      😒  \n13              IYC         -0.077938      😒  \n14              IVW         -0.060437      😒  \n15              IVW         -0.060437      😒  \n16              IVW         -0.060437      😒  \n17              IVW         -0.060437      😒  \n18              IVW         -0.060437      😒  \n19              IVW         -0.060437      😒  \n20              IYW         -0.072537      😒  \n21              IYC         -0.077938      😒  \n22              IVW         -0.060437      💩  \n23              IVV         -0.024697      💩  \n24              IWM         -0.046410      💩  \n25              IYW         -0.072537      💩  \n26              IWM         -0.046410      💩  ",
      "text/html": "<div>\n<style scoped>\n    .dataframe tbody tr th:only-of-type {\n        vertical-align: middle;\n    }\n\n    .dataframe tbody tr th {\n        vertical-align: top;\n    }\n\n    .dataframe thead th {\n        text-align: right;\n    }\n</style>\n<table border=\"1\" class=\"dataframe\">\n  <thead>\n    <tr style=\"text-align: right;\">\n      <th></th>\n      <th>Player</th>\n      <th>1-Day</th>\n      <th>5-Day</th>\n      <th>One Month</th>\n      <th>One Quarter</th>\n      <th>Since Inception</th>\n      <th>Benchmark Ticker</th>\n      <th>Benchmark Return</th>\n      <th>Status</th>\n    </tr>\n  </thead>\n  <tbody>\n    <tr>\n      <th>0</th>\n      <td>Melinda</td>\n      <td>0.004155</td>\n      <td>0.020162</td>\n      <td>0.057694</td>\n      <td>0.057945</td>\n      <td>0.057945</td>\n      <td>VLUE</td>\n      <td>-0.009839</td>\n      <td>💸</td>\n    </tr>\n    <tr>\n      <th>1</th>\n      <td>Westy</td>\n      <td>0.011351</td>\n      <td>0.032006</td>\n      <td>0.087276</td>\n      <td>0.027170</td>\n      <td>0.027170</td>\n      <td>IVW</td>\n      <td>-0.060437</td>\n      <td>💸</td>\n    </tr>\n    <tr>\n      <th>2</th>\n      <td>Karsa</td>\n      <td>0.036143</td>\n      <td>0.058110</td>\n      <td>0.015740</td>\n      <td>-0.011625</td>\n      <td>-0.011625</td>\n      <td>IYC</td>\n      <td>-0.077938</td>\n      <td>💸</td>\n    </tr>\n    <tr>\n      <th>3</th>\n      <td>Olivia</td>\n      <td>0.022836</td>\n      <td>0.026521</td>\n      <td>0.060605</td>\n      <td>-0.022146</td>\n      <td>-0.022146</td>\n      <td>IVW</td>\n      <td>-0.060437</td>\n      <td>💸</td>\n    </tr>\n    <tr>\n      <th>4</th>\n      <td>Kirby</td>\n      <td>0.012813</td>\n      <td>0.049174</td>\n      <td>0.118293</td>\n      <td>-0.026173</td>\n      <td>-0.026173</td>\n      <td>IVW</td>\n      <td>-0.060437</td>\n      <td>💸</td>\n    </tr>\n    <tr>\n      <th>5</th>\n      <td>Eric H</td>\n      <td>0.004921</td>\n      <td>0.031360</td>\n      <td>0.090846</td>\n      <td>-0.026531</td>\n      <td>-0.026531</td>\n      <td>IVV</td>\n      <td>-0.024697</td>\n      <td>😒</td>\n    </tr>\n    <tr>\n      <th>6</th>\n      <td>Nour</td>\n      <td>0.017486</td>\n      <td>0.029463</td>\n      <td>0.061642</td>\n      <td>-0.043053</td>\n      <td>-0.043053</td>\n      <td>IVW</td>\n      <td>-0.060437</td>\n      <td>😒</td>\n    </tr>\n    <tr>\n      <th>7</th>\n      <td>Rubyann</td>\n      <td>0.025937</td>\n      <td>0.027866</td>\n      <td>0.019473</td>\n      <td>-0.054244</td>\n      <td>-0.054244</td>\n      <td>IVW</td>\n      <td>-0.060437</td>\n      <td>😒</td>\n    </tr>\n    <tr>\n      <th>8</th>\n      <td>AK</td>\n      <td>0.009655</td>\n      <td>0.002573</td>\n      <td>0.057101</td>\n      <td>-0.062970</td>\n      <td>-0.062970</td>\n      <td>MTUM</td>\n      <td>-0.047774</td>\n      <td>😒</td>\n    </tr>\n    <tr>\n      <th>9</th>\n      <td>Baldridge</td>\n      <td>0.031575</td>\n      <td>0.018970</td>\n      <td>0.059825</td>\n      <td>-0.075307</td>\n      <td>-0.075307</td>\n      <td>IWM</td>\n      <td>-0.046410</td>\n      <td>😒</td>\n    </tr>\n    <tr>\n      <th>10</th>\n      <td>Daniel K</td>\n      <td>0.019862</td>\n      <td>0.029820</td>\n      <td>0.048456</td>\n      <td>-0.079894</td>\n      <td>-0.079894</td>\n      <td>QUAL</td>\n      <td>-0.053385</td>\n      <td>😒</td>\n    </tr>\n    <tr>\n      <th>11</th>\n      <td>Mac</td>\n      <td>0.024635</td>\n      <td>0.029760</td>\n      <td>-0.010409</td>\n      <td>-0.098185</td>\n      <td>-0.098185</td>\n      <td>VLUE</td>\n      <td>-0.009839</td>\n      <td>😒</td>\n    </tr>\n    <tr>\n      <th>12</th>\n      <td>Jon T</td>\n      <td>0.019429</td>\n      <td>0.036799</td>\n      <td>0.084038</td>\n      <td>-0.103451</td>\n      <td>-0.103451</td>\n      <td>IVW</td>\n      <td>-0.060437</td>\n      <td>😒</td>\n    </tr>\n    <tr>\n      <th>13</th>\n      <td>Weinstein</td>\n      <td>0.033420</td>\n      <td>0.065006</td>\n      <td>0.071299</td>\n      <td>-0.107800</td>\n      <td>-0.107800</td>\n      <td>IYC</td>\n      <td>-0.077938</td>\n      <td>😒</td>\n    </tr>\n    <tr>\n      <th>14</th>\n      <td>Sergio</td>\n      <td>0.024645</td>\n      <td>0.016785</td>\n      <td>0.067743</td>\n      <td>-0.109110</td>\n      <td>-0.109110</td>\n      <td>IVW</td>\n      <td>-0.060437</td>\n      <td>😒</td>\n    </tr>\n    <tr>\n      <th>15</th>\n      <td>Anish</td>\n      <td>0.019164</td>\n      <td>0.009958</td>\n      <td>0.050105</td>\n      <td>-0.117982</td>\n      <td>-0.117982</td>\n      <td>IVW</td>\n      <td>-0.060437</td>\n      <td>😒</td>\n    </tr>\n    <tr>\n      <th>16</th>\n      <td>Paul</td>\n      <td>0.027479</td>\n      <td>0.024750</td>\n      <td>-0.017450</td>\n      <td>-0.128351</td>\n      <td>-0.128351</td>\n      <td>IVW</td>\n      <td>-0.060437</td>\n      <td>😒</td>\n    </tr>\n    <tr>\n      <th>17</th>\n      <td>Madison</td>\n      <td>0.019766</td>\n      <td>0.036462</td>\n      <td>0.077357</td>\n      <td>-0.151374</td>\n      <td>-0.151374</td>\n      <td>IVW</td>\n      <td>-0.060437</td>\n      <td>😒</td>\n    </tr>\n    <tr>\n      <th>18</th>\n      <td>Debbie</td>\n      <td>0.020773</td>\n      <td>0.034320</td>\n      <td>0.033786</td>\n      <td>-0.152370</td>\n      <td>-0.152370</td>\n      <td>IVW</td>\n      <td>-0.060437</td>\n      <td>😒</td>\n    </tr>\n    <tr>\n      <th>19</th>\n      <td>Brokaw</td>\n      <td>0.042013</td>\n      <td>0.056705</td>\n      <td>0.051271</td>\n      <td>-0.165241</td>\n      <td>-0.165241</td>\n      <td>IVW</td>\n      <td>-0.060437</td>\n      <td>😒</td>\n    </tr>\n    <tr>\n      <th>20</th>\n      <td>Emily</td>\n      <td>0.025305</td>\n      <td>0.019753</td>\n      <td>-0.005981</td>\n      <td>-0.170237</td>\n      <td>-0.170237</td>\n      <td>IYW</td>\n      <td>-0.072537</td>\n      <td>😒</td>\n    </tr>\n    <tr>\n      <th>21</th>\n      <td>Leong</td>\n      <td>0.030430</td>\n      <td>0.028245</td>\n      <td>0.019007</td>\n      <td>-0.175735</td>\n      <td>-0.175735</td>\n      <td>IYC</td>\n      <td>-0.077938</td>\n      <td>😒</td>\n    </tr>\n    <tr>\n      <th>22</th>\n      <td>Farrah</td>\n      <td>0.032035</td>\n      <td>0.061985</td>\n      <td>0.053994</td>\n      <td>-0.179823</td>\n      <td>-0.179823</td>\n      <td>IVW</td>\n      <td>-0.060437</td>\n      <td>💩</td>\n    </tr>\n    <tr>\n      <th>23</th>\n      <td>Candice</td>\n      <td>0.028457</td>\n      <td>-0.014340</td>\n      <td>-0.056615</td>\n      <td>-0.206529</td>\n      <td>-0.206529</td>\n      <td>IVV</td>\n      <td>-0.024697</td>\n      <td>💩</td>\n    </tr>\n    <tr>\n      <th>24</th>\n      <td>Hosegood</td>\n      <td>0.069828</td>\n      <td>0.055209</td>\n      <td>-0.013286</td>\n      <td>-0.221261</td>\n      <td>-0.221261</td>\n      <td>IWM</td>\n      <td>-0.046410</td>\n      <td>💩</td>\n    </tr>\n    <tr>\n      <th>25</th>\n      <td>Bob</td>\n      <td>0.033531</td>\n      <td>0.046132</td>\n      <td>0.069353</td>\n      <td>-0.223383</td>\n      <td>-0.223383</td>\n      <td>IYW</td>\n      <td>-0.072537</td>\n      <td>💩</td>\n    </tr>\n    <tr>\n      <th>26</th>\n      <td>Kyle Cross</td>\n      <td>0.055918</td>\n      <td>0.013619</td>\n      <td>-0.040138</td>\n      <td>-0.297173</td>\n      <td>-0.297173</td>\n      <td>IWM</td>\n      <td>-0.046410</td>\n      <td>💩</td>\n    </tr>\n  </tbody>\n</table>\n</div>"
     },
     "execution_count": 60,
     "metadata": {},
     "output_type": "execute_result"
    }
   ],
   "source": [
    "def update_league_tab():\n",
    "    path = \"assets/performance\"\n",
    "    perf_list = os.listdir(path)\n",
    "    names = []\n",
    "    one_day = []\n",
    "    five_day = []\n",
    "    one_month = []\n",
    "    qtr = []\n",
    "    s_inc = []\n",
    "    bm_names = []\n",
    "    bm = []\n",
    "    for doc in perf_list:\n",
    "        names.append(doc.split('_')[0])\n",
    "        rets = pd.read_csv(\"{}/{}\".format(path,doc))\n",
    "        bm_name= rets.columns[-1].split(\" \")[0]\n",
    "        bm_names.append(bm_name)\n",
    "        one_day.append(rets['Daily Return'].iloc[-1])\n",
    "        try:\n",
    "            fiv = np.prod(rets['Daily Return'].iloc[-5:] + 1)-1\n",
    "        except:\n",
    "            fiv = np.prod(rets['Daily Return'] + 1)-1\n",
    "        try:\n",
    "            mth = np.prod(rets['Daily Return'].iloc[-21:] + 1)-1\n",
    "        except:\n",
    "            mth = np.prod(rets['Daily Return'] + 1)-1\n",
    "        try:\n",
    "            qt = np.prod(rets['Daily Return'].iloc[-63:] + 1)-1\n",
    "        except:\n",
    "            qt = np.prod(rets['Daily Return'] + 1)-1\n",
    "        si = np.prod(rets['Daily Return'] + 1)-1\n",
    "        bms = rets['{} Total Return'.format(bm_name)].iloc[-1]\n",
    "        five_day.append(fiv)\n",
    "        one_month.append(mth)\n",
    "        qtr.append(qt)\n",
    "        s_inc.append(si)\n",
    "        bm.append(bms)\n",
    "    league = pd.DataFrame({\"Player\":names, \"1-Day\":one_day, \"5-Day\":five_day, \"One Month\":one_month,\n",
    "                          \"One Quarter\":qtr, \"Since Inception\":s_inc, \"Benchmark Ticker\":bm_names,\"Benchmark Return\":bm})\n",
    "    league = league.sort_values(['Since Inception'], ascending=False)\n",
    "    stars = [emoji.emojize(\":money_with_wings:\", language='alias') for i in range(0,5)]\n",
    "    poop = [emoji.emojize(\":poop:\", language='alias') for i in range(0,5)]\n",
    "    unam = [emoji.emojize(\":unamused:\", language='alias') for i in range(0,17)]\n",
    "    status = stars+unam+poop\n",
    "    league['Status'] = status\n",
    "    league = league.reset_index(drop=True)\n",
    "    date = rets['Date'].iloc[-1]\n",
    "    league.to_csv(\"league_{}.csv\".format(date))\n",
    "    sh = gc.open(\"league\")\n",
    "    try:\n",
    "        worksheet = sh.worksheet('league')\n",
    "    except:\n",
    "        worksheet = sh.add_worksheet('league', 500, 500)\n",
    "    worksheet.update([league.columns.values.tolist()] + league.values.tolist())\n",
    "\n",
    "\n",
    "    return league\n",
    "\n",
    "update_league_tab()\n"
   ]
  },
  {
   "cell_type": "code",
   "execution_count": 56,
   "metadata": {
    "collapsed": false,
    "jupyter": {
     "outputs_hidden": false
    },
    "pycharm": {
     "name": "#%%\n"
    }
   },
   "outputs": [],
   "source": [
    "# create_updates\n",
    "port_shares = pd.read_csv('assets/shares.csv',index_col=0) # read the shares csv into the system\n",
    "date = market_days[-2]\n",
    "date = date.strftime(\"%Y-%m-%d\")\n",
    "for name in port_shares.columns[:-1]:\n",
    "    time.sleep(2)\n",
    "    generate_snap(name=name, date=date, cash=0)\n",
    "\n",
    "for name in port_shares.columns[:-1]:\n",
    "    time.sleep(2)\n",
    "    update_perf(name)\n"
   ]
  },
  {
   "cell_type": "code",
   "execution_count": 59,
   "outputs": [],
   "source": [
    "for d in market_days[-3:-1]:\n",
    "    time.sleep(2)\n",
    "    d = d.strftime(\"%Y-%m-%d\")\n",
    "    generate_snap(name='Debbie', date=d)\n",
    "    time.sleep(1)\n",
    "    update_perf(\"Debbie\")"
   ],
   "metadata": {
    "collapsed": false,
    "pycharm": {
     "name": "#%%\n"
    }
   }
  },
  {
   "cell_type": "code",
   "execution_count": 20,
   "metadata": {
    "collapsed": false,
    "jupyter": {
     "outputs_hidden": false
    },
    "pycharm": {
     "name": "#%%\n"
    }
   },
   "outputs": [],
   "source": [
    "#id_bms for all\n",
    "#names = [name for name in port_shares.columns[:-1]]\n",
    "#bms = [id_bm(name) for name in port_shares.columns[:-1]]\n",
    "#bm_df = pd.DataFrame({\"Name\": names, \"Benchmark\":bms})\n",
    "#bm_df.to_csv(\"assets/Player_bm.csv\")\n"
   ]
  },
  {
   "cell_type": "markdown",
   "metadata": {},
   "source": []
  },
  {
   "cell_type": "code",
   "execution_count": 19,
   "metadata": {
    "collapsed": false,
    "jupyter": {
     "outputs_hidden": false
    },
    "pycharm": {
     "name": "#%%\n"
    }
   },
   "outputs": [],
   "source": [
    "def id_bm(name):\n",
    "    \"\"\"\n",
    "    gets benchmark for port\n",
    "    \"\"\"\n",
    "    port_shares = pd.read_csv('assets/shares.csv',index_col=0)  # read in portfolio data\n",
    "    bm_dat = pd.read_csv('assets/bm_dat.csv', index_col = 0) # read bm_data\n",
    "    port = port_shares[name].to_frame() # isolate the portfolio in question\n",
    "    port = port[port[name]!=0] # eliminate every row that equals 0\n",
    "    holdings = set(port.index) # create a set of holdings\n",
    "    overlap = [] # overlaping list\n",
    "    for b in bm_dat.columns[:-1]: # go through the benchmarks and look for overlaps\n",
    "        stk = bm_dat[b].to_frame()\n",
    "        stk = stk[stk[b]!=0]\n",
    "        b_hold = set(stk.index)\n",
    "        over = holdings & b_hold\n",
    "        overlap.append((b, len(over)))\n",
    "    overlap.sort(key=lambda x: x[1], reverse = True) # sort the overlap list by most to least overlap\n",
    "    finalists = overlap[0:1] # chose finalists\n",
    "    # chose the etf in question as a bm.\n",
    "    if finalists[0][1]== 0:\n",
    "        bm = bm_dat.columns[-1]\n",
    "    else:\n",
    "        bm = finalists[0][0]\n",
    "\n",
    "\n",
    "\n",
    "    return bm"
   ]
  },
  {
   "cell_type": "code",
   "execution_count": 59,
   "metadata": {
    "collapsed": false,
    "jupyter": {
     "outputs_hidden": false
    },
    "pycharm": {
     "name": "#%%\n"
    }
   },
   "outputs": [
    {
     "data": {
      "text/plain": [
       "'IVW'"
      ]
     },
     "execution_count": 59,
     "metadata": {},
     "output_type": "execute_result"
    }
   ],
   "source": [
    "id_bm(\"Anish\")"
   ]
  },
  {
   "cell_type": "code",
   "execution_count": 61,
   "metadata": {
    "collapsed": false,
    "jupyter": {
     "outputs_hidden": false
    },
    "pycharm": {
     "name": "#%%\n"
    }
   },
   "outputs": [
    {
     "data": {
      "text/plain": [
       "['QUAL', 'MTUM', 'VLUE', 'IWM', 'IVW', 'IYW', 'IYC', 'IVV']"
      ]
     },
     "execution_count": 61,
     "metadata": {},
     "output_type": "execute_result"
    }
   ],
   "source": []
  },
  {
   "cell_type": "code",
   "execution_count": 67,
   "metadata": {
    "collapsed": false,
    "jupyter": {
     "outputs_hidden": false
    },
    "pycharm": {
     "name": "#%%\n"
    }
   },
   "outputs": [
    {
     "data": {
      "text/html": [
       "<div>\n",
       "<style scoped>\n",
       "    .dataframe tbody tr th:only-of-type {\n",
       "        vertical-align: middle;\n",
       "    }\n",
       "\n",
       "    .dataframe tbody tr th {\n",
       "        vertical-align: top;\n",
       "    }\n",
       "\n",
       "    .dataframe thead th {\n",
       "        text-align: right;\n",
       "    }\n",
       "</style>\n",
       "<table border=\"1\" class=\"dataframe\">\n",
       "  <thead>\n",
       "    <tr style=\"text-align: right;\">\n",
       "      <th></th>\n",
       "      <th>stock</th>\n",
       "      <th>QUAL</th>\n",
       "      <th>MTUM</th>\n",
       "      <th>VLUE</th>\n",
       "      <th>IWM</th>\n",
       "      <th>IVW</th>\n",
       "      <th>IYW</th>\n",
       "      <th>IYC</th>\n",
       "      <th>IVV</th>\n",
       "    </tr>\n",
       "  </thead>\n",
       "  <tbody>\n",
       "    <tr>\n",
       "      <th>0</th>\n",
       "      <td>T</td>\n",
       "      <td>0.00000</td>\n",
       "      <td>0.00000</td>\n",
       "      <td>7.19575</td>\n",
       "      <td>0.00000</td>\n",
       "      <td>0.00000</td>\n",
       "      <td>0.00000</td>\n",
       "      <td>0.00000</td>\n",
       "      <td>0.46190</td>\n",
       "    </tr>\n",
       "    <tr>\n",
       "      <th>1</th>\n",
       "      <td>INTC</td>\n",
       "      <td>1.18210</td>\n",
       "      <td>0.00000</td>\n",
       "      <td>5.64419</td>\n",
       "      <td>0.00000</td>\n",
       "      <td>0.00000</td>\n",
       "      <td>1.93978</td>\n",
       "      <td>0.00000</td>\n",
       "      <td>0.49526</td>\n",
       "    </tr>\n",
       "    <tr>\n",
       "      <th>2</th>\n",
       "      <td>MU</td>\n",
       "      <td>0.00000</td>\n",
       "      <td>0.00000</td>\n",
       "      <td>4.03235</td>\n",
       "      <td>0.00000</td>\n",
       "      <td>0.00000</td>\n",
       "      <td>1.08384</td>\n",
       "      <td>0.00000</td>\n",
       "      <td>0.27464</td>\n",
       "    </tr>\n",
       "    <tr>\n",
       "      <th>3</th>\n",
       "      <td>CSCO</td>\n",
       "      <td>1.66228</td>\n",
       "      <td>0.00000</td>\n",
       "      <td>3.68796</td>\n",
       "      <td>0.00000</td>\n",
       "      <td>0.59213</td>\n",
       "      <td>0.00000</td>\n",
       "      <td>0.00000</td>\n",
       "      <td>0.65348</td>\n",
       "    </tr>\n",
       "    <tr>\n",
       "      <th>4</th>\n",
       "      <td>F</td>\n",
       "      <td>0.00000</td>\n",
       "      <td>1.00559</td>\n",
       "      <td>3.04572</td>\n",
       "      <td>0.00000</td>\n",
       "      <td>0.00000</td>\n",
       "      <td>0.00000</td>\n",
       "      <td>1.33617</td>\n",
       "      <td>0.19237</td>\n",
       "    </tr>\n",
       "    <tr>\n",
       "      <th>...</th>\n",
       "      <td>...</td>\n",
       "      <td>...</td>\n",
       "      <td>...</td>\n",
       "      <td>...</td>\n",
       "      <td>...</td>\n",
       "      <td>...</td>\n",
       "      <td>...</td>\n",
       "      <td>...</td>\n",
       "      <td>...</td>\n",
       "    </tr>\n",
       "    <tr>\n",
       "      <th>3010</th>\n",
       "      <td>CHWY</td>\n",
       "      <td>0.00000</td>\n",
       "      <td>0.00000</td>\n",
       "      <td>0.00000</td>\n",
       "      <td>0.00000</td>\n",
       "      <td>0.00000</td>\n",
       "      <td>0.00000</td>\n",
       "      <td>0.00000</td>\n",
       "      <td>0.00000</td>\n",
       "    </tr>\n",
       "    <tr>\n",
       "      <th>3011</th>\n",
       "      <td>USD</td>\n",
       "      <td>0.00000</td>\n",
       "      <td>0.00000</td>\n",
       "      <td>0.00000</td>\n",
       "      <td>0.05323</td>\n",
       "      <td>0.04958</td>\n",
       "      <td>0.05267</td>\n",
       "      <td>0.02993</td>\n",
       "      <td>0.11133</td>\n",
       "    </tr>\n",
       "    <tr>\n",
       "      <th>3012</th>\n",
       "      <td>SOFI</td>\n",
       "      <td>0.00000</td>\n",
       "      <td>0.00000</td>\n",
       "      <td>0.00000</td>\n",
       "      <td>0.00000</td>\n",
       "      <td>0.00000</td>\n",
       "      <td>0.00000</td>\n",
       "      <td>0.00000</td>\n",
       "      <td>0.00000</td>\n",
       "    </tr>\n",
       "    <tr>\n",
       "      <th>3013</th>\n",
       "      <td>LCID</td>\n",
       "      <td>0.00000</td>\n",
       "      <td>0.00000</td>\n",
       "      <td>0.00000</td>\n",
       "      <td>0.00000</td>\n",
       "      <td>0.00000</td>\n",
       "      <td>0.00000</td>\n",
       "      <td>0.00000</td>\n",
       "      <td>0.00000</td>\n",
       "    </tr>\n",
       "    <tr>\n",
       "      <th>3014</th>\n",
       "      <td>HOOD</td>\n",
       "      <td>0.00000</td>\n",
       "      <td>0.00000</td>\n",
       "      <td>0.00000</td>\n",
       "      <td>0.00000</td>\n",
       "      <td>0.00000</td>\n",
       "      <td>0.00000</td>\n",
       "      <td>0.00000</td>\n",
       "      <td>0.00000</td>\n",
       "    </tr>\n",
       "  </tbody>\n",
       "</table>\n",
       "<p>3015 rows × 9 columns</p>\n",
       "</div>"
      ],
      "text/plain": [
       "     stock     QUAL     MTUM     VLUE      IWM      IVW      IYW      IYC  \\\n",
       "0        T  0.00000  0.00000  7.19575  0.00000  0.00000  0.00000  0.00000   \n",
       "1     INTC  1.18210  0.00000  5.64419  0.00000  0.00000  1.93978  0.00000   \n",
       "2       MU  0.00000  0.00000  4.03235  0.00000  0.00000  1.08384  0.00000   \n",
       "3     CSCO  1.66228  0.00000  3.68796  0.00000  0.59213  0.00000  0.00000   \n",
       "4        F  0.00000  1.00559  3.04572  0.00000  0.00000  0.00000  1.33617   \n",
       "...    ...      ...      ...      ...      ...      ...      ...      ...   \n",
       "3010  CHWY  0.00000  0.00000  0.00000  0.00000  0.00000  0.00000  0.00000   \n",
       "3011   USD  0.00000  0.00000  0.00000  0.05323  0.04958  0.05267  0.02993   \n",
       "3012  SOFI  0.00000  0.00000  0.00000  0.00000  0.00000  0.00000  0.00000   \n",
       "3013  LCID  0.00000  0.00000  0.00000  0.00000  0.00000  0.00000  0.00000   \n",
       "3014  HOOD  0.00000  0.00000  0.00000  0.00000  0.00000  0.00000  0.00000   \n",
       "\n",
       "          IVV  \n",
       "0     0.46190  \n",
       "1     0.49526  \n",
       "2     0.27464  \n",
       "3     0.65348  \n",
       "4     0.19237  \n",
       "...       ...  \n",
       "3010  0.00000  \n",
       "3011  0.11133  \n",
       "3012  0.00000  \n",
       "3013  0.00000  \n",
       "3014  0.00000  \n",
       "\n",
       "[3015 rows x 9 columns]"
      ]
     },
     "execution_count": 67,
     "metadata": {},
     "output_type": "execute_result"
    }
   ],
   "source": []
  },
  {
   "cell_type": "code",
   "execution_count": 70,
   "metadata": {
    "collapsed": false,
    "jupyter": {
     "outputs_hidden": false
    },
    "pycharm": {
     "name": "#%%\n"
    }
   },
   "outputs": [
    {
     "data": {
      "text/html": [
       "<div>\n",
       "<style scoped>\n",
       "    .dataframe tbody tr th:only-of-type {\n",
       "        vertical-align: middle;\n",
       "    }\n",
       "\n",
       "    .dataframe tbody tr th {\n",
       "        vertical-align: top;\n",
       "    }\n",
       "\n",
       "    .dataframe thead th {\n",
       "        text-align: right;\n",
       "    }\n",
       "</style>\n",
       "<table border=\"1\" class=\"dataframe\">\n",
       "  <thead>\n",
       "    <tr style=\"text-align: right;\">\n",
       "      <th></th>\n",
       "      <th>Name</th>\n",
       "      <th>Benchmark</th>\n",
       "    </tr>\n",
       "  </thead>\n",
       "  <tbody>\n",
       "    <tr>\n",
       "      <th>0</th>\n",
       "      <td>Anish</td>\n",
       "      <td>IVW</td>\n",
       "    </tr>\n",
       "    <tr>\n",
       "      <th>1</th>\n",
       "      <td>Emily</td>\n",
       "      <td>IYW</td>\n",
       "    </tr>\n",
       "    <tr>\n",
       "      <th>2</th>\n",
       "      <td>Paul</td>\n",
       "      <td>IVW</td>\n",
       "    </tr>\n",
       "    <tr>\n",
       "      <th>3</th>\n",
       "      <td>Kirby</td>\n",
       "      <td>IVW</td>\n",
       "    </tr>\n",
       "    <tr>\n",
       "      <th>4</th>\n",
       "      <td>Hosegood</td>\n",
       "      <td>IWM</td>\n",
       "    </tr>\n",
       "    <tr>\n",
       "      <th>5</th>\n",
       "      <td>Leong</td>\n",
       "      <td>IYC</td>\n",
       "    </tr>\n",
       "    <tr>\n",
       "      <th>6</th>\n",
       "      <td>Olivia</td>\n",
       "      <td>IVW</td>\n",
       "    </tr>\n",
       "    <tr>\n",
       "      <th>7</th>\n",
       "      <td>Brokaw</td>\n",
       "      <td>IVW</td>\n",
       "    </tr>\n",
       "    <tr>\n",
       "      <th>8</th>\n",
       "      <td>Eric H</td>\n",
       "      <td>IVV</td>\n",
       "    </tr>\n",
       "    <tr>\n",
       "      <th>9</th>\n",
       "      <td>Kyle Cross</td>\n",
       "      <td>IWM</td>\n",
       "    </tr>\n",
       "    <tr>\n",
       "      <th>10</th>\n",
       "      <td>Bob</td>\n",
       "      <td>IYW</td>\n",
       "    </tr>\n",
       "    <tr>\n",
       "      <th>11</th>\n",
       "      <td>Weinstein</td>\n",
       "      <td>IYC</td>\n",
       "    </tr>\n",
       "    <tr>\n",
       "      <th>12</th>\n",
       "      <td>AK</td>\n",
       "      <td>MTUM</td>\n",
       "    </tr>\n",
       "    <tr>\n",
       "      <th>13</th>\n",
       "      <td>Nour</td>\n",
       "      <td>IVW</td>\n",
       "    </tr>\n",
       "    <tr>\n",
       "      <th>14</th>\n",
       "      <td>Jon T</td>\n",
       "      <td>IVW</td>\n",
       "    </tr>\n",
       "    <tr>\n",
       "      <th>15</th>\n",
       "      <td>Melinda</td>\n",
       "      <td>VLUE</td>\n",
       "    </tr>\n",
       "    <tr>\n",
       "      <th>16</th>\n",
       "      <td>Westy</td>\n",
       "      <td>IVW</td>\n",
       "    </tr>\n",
       "    <tr>\n",
       "      <th>17</th>\n",
       "      <td>Farrah</td>\n",
       "      <td>IVW</td>\n",
       "    </tr>\n",
       "    <tr>\n",
       "      <th>18</th>\n",
       "      <td>Baldridge</td>\n",
       "      <td>IWM</td>\n",
       "    </tr>\n",
       "    <tr>\n",
       "      <th>19</th>\n",
       "      <td>Rubyann</td>\n",
       "      <td>IVW</td>\n",
       "    </tr>\n",
       "    <tr>\n",
       "      <th>20</th>\n",
       "      <td>Mac</td>\n",
       "      <td>VLUE</td>\n",
       "    </tr>\n",
       "    <tr>\n",
       "      <th>21</th>\n",
       "      <td>Madison</td>\n",
       "      <td>IVW</td>\n",
       "    </tr>\n",
       "    <tr>\n",
       "      <th>22</th>\n",
       "      <td>Karsa</td>\n",
       "      <td>IYC</td>\n",
       "    </tr>\n",
       "    <tr>\n",
       "      <th>23</th>\n",
       "      <td>Sergio</td>\n",
       "      <td>IVW</td>\n",
       "    </tr>\n",
       "    <tr>\n",
       "      <th>24</th>\n",
       "      <td>Daniel K</td>\n",
       "      <td>QUAL</td>\n",
       "    </tr>\n",
       "    <tr>\n",
       "      <th>25</th>\n",
       "      <td>Candice</td>\n",
       "      <td>IVV</td>\n",
       "    </tr>\n",
       "  </tbody>\n",
       "</table>\n",
       "</div>"
      ],
      "text/plain": [
       "          Name Benchmark\n",
       "0        Anish       IVW\n",
       "1        Emily       IYW\n",
       "2         Paul       IVW\n",
       "3        Kirby       IVW\n",
       "4     Hosegood       IWM\n",
       "5        Leong       IYC\n",
       "6       Olivia       IVW\n",
       "7       Brokaw       IVW\n",
       "8       Eric H       IVV\n",
       "9   Kyle Cross       IWM\n",
       "10         Bob       IYW\n",
       "11   Weinstein       IYC\n",
       "12          AK      MTUM\n",
       "13        Nour       IVW\n",
       "14       Jon T       IVW\n",
       "15     Melinda      VLUE\n",
       "16       Westy       IVW\n",
       "17      Farrah       IVW\n",
       "18  Baldridge        IWM\n",
       "19     Rubyann       IVW\n",
       "20         Mac      VLUE\n",
       "21     Madison       IVW\n",
       "22       Karsa       IYC\n",
       "23      Sergio       IVW\n",
       "24    Daniel K      QUAL\n",
       "25     Candice       IVV"
      ]
     },
     "execution_count": 70,
     "metadata": {},
     "output_type": "execute_result"
    }
   ],
   "source": [
    "\n",
    "bm_key"
   ]
  },
  {
   "cell_type": "code",
   "execution_count": 51,
   "metadata": {
    "collapsed": false,
    "jupyter": {
     "outputs_hidden": false
    },
    "pycharm": {
     "name": "#%%\n"
    }
   },
   "outputs": [
    {
     "name": "stdout",
     "output_type": "stream",
     "text": [
      ":poop:\n"
     ]
    }
   ],
   "source": [
    "print(emoji.emojize(':poop:'))"
   ]
  },
  {
   "cell_type": "code",
   "execution_count": 52,
   "metadata": {
    "collapsed": false,
    "jupyter": {
     "outputs_hidden": false
    },
    "pycharm": {
     "name": "#%%\n"
    }
   },
   "outputs": [
    {
     "data": {
      "text/plain": "          Date         Value  Daily Return  Total Return   adjclose  \\\n0   2021-12-31  1.000000e+06      0.000000      0.000000  83.528221   \n1   2022-01-03  1.016174e+06      0.016174      0.016174  84.177124   \n2   2022-01-04  1.002549e+06     -0.013408      0.002549  83.338554   \n3   2022-01-05  9.689505e+05     -0.033513     -0.031049  80.802856   \n4   2022-01-06  9.797765e+05      0.011173     -0.020223  80.573242   \n5   2022-01-07  9.778325e+05     -0.001984     -0.022168  79.794563   \n6   2022-01-10  9.735195e+05     -0.004411     -0.026480  79.854462   \n7   2022-01-11  9.882171e+05      0.015097     -0.011783  80.722984   \n8   2022-01-12  9.822882e+05     -0.006000     -0.017712  81.112328   \n9   2022-01-13  9.647524e+05     -0.017852     -0.035248  79.085770   \n10  2022-01-14  9.602064e+05     -0.004712     -0.039794  79.305397   \n11  2022-01-18  9.310654e+05     -0.030349     -0.068935  77.468513   \n12  2022-01-19  9.197738e+05     -0.012128     -0.080226  76.520126   \n13  2022-01-20  8.895495e+05     -0.032861     -0.110451  75.521820   \n14  2022-01-21  8.718609e+05     -0.019885     -0.128139  73.585098   \n15  2022-01-24  8.806420e+05      0.010072     -0.119358  74.064293   \n16  2022-01-25  8.597752e+05     -0.023695     -0.140225  72.546860   \n17  2022-01-26  8.522244e+05     -0.008782     -0.147776  72.626732   \n18  2022-01-27  8.431546e+05     -0.010642     -0.156845  72.047707   \n19  2022-01-28  8.569623e+05      0.016376     -0.143038  74.493561   \n20  2022-01-31  8.881291e+05      0.036369     -0.111871  76.510139   \n21  2022-02-01  9.015631e+05      0.015126     -0.098437  76.929420   \n22  2022-02-02  8.799497e+05     -0.023973     -0.120050  77.917755   \n23  2022-02-03  8.507355e+05     -0.033200     -0.149264  75.032646   \n24  2022-02-04  8.653279e+05      0.017153     -0.134672  75.971054   \n25  2022-02-07  8.790460e+05      0.015853     -0.120954  75.372070   \n26  2022-02-08  9.065739e+05      0.031316     -0.093426  76.070877   \n27  2022-02-09  9.225307e+05      0.017601     -0.077469  77.478493   \n28  2022-02-10  9.139818e+05     -0.009267     -0.086018  75.751427   \n29  2022-02-11  8.947276e+05     -0.021066     -0.105272  73.575119   \n30  2022-02-14  8.853807e+05     -0.010447     -0.114619  73.565140   \n31  2022-02-15  8.958173e+05      0.011788     -0.104183  75.112511   \n32  2022-02-16  8.906265e+05     -0.005795     -0.109374  75.142456   \n33  2022-02-17  8.624502e+05     -0.031636     -0.137550  73.036041   \n34  2022-02-18  8.501971e+05     -0.014207     -0.149803  72.287308   \n35  2022-02-22  8.413849e+05     -0.010365     -0.158615  71.358887   \n36  2022-02-23  8.193935e+05     -0.026137     -0.180606  69.691711   \n37  2022-02-24  8.307675e+05      0.013881     -0.169232  71.828079   \n38  2022-02-25  8.452427e+05      0.017424     -0.154757  73.006081   \n39  2022-02-28  8.399326e+05     -0.006282     -0.160067  73.125885   \n40  2022-03-01  8.254763e+05     -0.017211     -0.174524  71.957863   \n41  2022-03-02  8.442667e+05      0.022763     -0.155733  73.265648   \n42  2022-03-03  8.274526e+05     -0.019916     -0.172547  72.466995   \n43  2022-03-04  8.189507e+05     -0.010275     -0.181049  71.538582   \n44  2022-03-07  7.797743e+05     -0.047837     -0.220226  68.833168   \n45  2022-03-08  7.844601e+05      0.006009     -0.215540  68.443825   \n46  2022-03-09  8.117840e+05      0.034832     -0.188216  70.999496   \n47  2022-03-10  8.028613e+05     -0.010992     -0.197139  70.470383   \n48  2022-03-11  7.894618e+05     -0.016690     -0.210538  69.202538   \n49  2022-03-14  7.816105e+05     -0.009945     -0.218389  68.214218   \n50  2022-03-15  8.033558e+05      0.027821     -0.196644  70.290695   \n51  2022-03-16  8.293337e+05      0.032337     -0.170666  72.437050   \n52  2022-03-17  8.488804e+05      0.023569     -0.151120  73.405403   \n53  2022-03-18  8.690398e+05      0.023748     -0.130960  74.832985   \n54  2022-03-21  8.632020e+05     -0.006717     -0.136798  74.693222   \n55  2022-03-22  8.733212e+05      0.011723     -0.126679  75.951088   \n56  2022-03-23  8.542595e+05     -0.021827     -0.145740  74.822998   \n57  2022-03-24  8.653650e+05      0.013000     -0.134635  76.260002   \n\n    IVW Daily Return  IVW Total Return  \n0           0.000000          0.000000  \n1           0.007769          0.007769  \n2          -0.009962         -0.002271  \n3          -0.030426         -0.032628  \n4          -0.002842         -0.035377  \n5          -0.009664         -0.044699  \n6           0.000751         -0.043982  \n7           0.010876         -0.033584  \n8           0.004823         -0.028923  \n9          -0.024985         -0.053185  \n10          0.002777         -0.050556  \n11         -0.023162         -0.072547  \n12         -0.012242         -0.083901  \n13         -0.013046         -0.095853  \n14         -0.025645         -0.119039  \n15          0.006512         -0.113302  \n16         -0.020488         -0.131469  \n17          0.001101         -0.130513  \n18         -0.007973         -0.137445  \n19          0.033948         -0.108163  \n20          0.027071         -0.084020  \n21          0.005480         -0.079001  \n22          0.012847         -0.067169  \n23         -0.037028         -0.101709  \n24          0.012507         -0.090474  \n25         -0.007884         -0.097645  \n26          0.009271         -0.089279  \n27          0.018504         -0.072427  \n28         -0.022291         -0.093104  \n29         -0.028730         -0.119159  \n30         -0.000136         -0.119278  \n31          0.021034         -0.100753  \n32          0.000399         -0.100394  \n33         -0.028032         -0.125612  \n34         -0.010252         -0.134576  \n35         -0.012843         -0.145691  \n36         -0.023363         -0.165651  \n37          0.030655         -0.140074  \n38          0.016400         -0.125971  \n39          0.001641         -0.124537  \n40         -0.015973         -0.138520  \n41          0.018174         -0.122864  \n42         -0.010901         -0.132425  \n43         -0.012812         -0.143540  \n44         -0.037818         -0.175929  \n45         -0.005656         -0.180590  \n46          0.037340         -0.149994  \n47         -0.007452         -0.156328  \n48         -0.017991         -0.171507  \n49         -0.014282         -0.183339  \n50          0.030441         -0.158480  \n51          0.030535         -0.132784  \n52          0.013368         -0.121190  \n53          0.019448         -0.104099  \n54         -0.001868         -0.105773  \n55          0.016840         -0.090713  \n56         -0.014853         -0.104219  \n57          0.019205         -0.087015  ",
      "text/html": "<div>\n<style scoped>\n    .dataframe tbody tr th:only-of-type {\n        vertical-align: middle;\n    }\n\n    .dataframe tbody tr th {\n        vertical-align: top;\n    }\n\n    .dataframe thead th {\n        text-align: right;\n    }\n</style>\n<table border=\"1\" class=\"dataframe\">\n  <thead>\n    <tr style=\"text-align: right;\">\n      <th></th>\n      <th>Date</th>\n      <th>Value</th>\n      <th>Daily Return</th>\n      <th>Total Return</th>\n      <th>adjclose</th>\n      <th>IVW Daily Return</th>\n      <th>IVW Total Return</th>\n    </tr>\n  </thead>\n  <tbody>\n    <tr>\n      <th>0</th>\n      <td>2021-12-31</td>\n      <td>1.000000e+06</td>\n      <td>0.000000</td>\n      <td>0.000000</td>\n      <td>83.528221</td>\n      <td>0.000000</td>\n      <td>0.000000</td>\n    </tr>\n    <tr>\n      <th>1</th>\n      <td>2022-01-03</td>\n      <td>1.016174e+06</td>\n      <td>0.016174</td>\n      <td>0.016174</td>\n      <td>84.177124</td>\n      <td>0.007769</td>\n      <td>0.007769</td>\n    </tr>\n    <tr>\n      <th>2</th>\n      <td>2022-01-04</td>\n      <td>1.002549e+06</td>\n      <td>-0.013408</td>\n      <td>0.002549</td>\n      <td>83.338554</td>\n      <td>-0.009962</td>\n      <td>-0.002271</td>\n    </tr>\n    <tr>\n      <th>3</th>\n      <td>2022-01-05</td>\n      <td>9.689505e+05</td>\n      <td>-0.033513</td>\n      <td>-0.031049</td>\n      <td>80.802856</td>\n      <td>-0.030426</td>\n      <td>-0.032628</td>\n    </tr>\n    <tr>\n      <th>4</th>\n      <td>2022-01-06</td>\n      <td>9.797765e+05</td>\n      <td>0.011173</td>\n      <td>-0.020223</td>\n      <td>80.573242</td>\n      <td>-0.002842</td>\n      <td>-0.035377</td>\n    </tr>\n    <tr>\n      <th>5</th>\n      <td>2022-01-07</td>\n      <td>9.778325e+05</td>\n      <td>-0.001984</td>\n      <td>-0.022168</td>\n      <td>79.794563</td>\n      <td>-0.009664</td>\n      <td>-0.044699</td>\n    </tr>\n    <tr>\n      <th>6</th>\n      <td>2022-01-10</td>\n      <td>9.735195e+05</td>\n      <td>-0.004411</td>\n      <td>-0.026480</td>\n      <td>79.854462</td>\n      <td>0.000751</td>\n      <td>-0.043982</td>\n    </tr>\n    <tr>\n      <th>7</th>\n      <td>2022-01-11</td>\n      <td>9.882171e+05</td>\n      <td>0.015097</td>\n      <td>-0.011783</td>\n      <td>80.722984</td>\n      <td>0.010876</td>\n      <td>-0.033584</td>\n    </tr>\n    <tr>\n      <th>8</th>\n      <td>2022-01-12</td>\n      <td>9.822882e+05</td>\n      <td>-0.006000</td>\n      <td>-0.017712</td>\n      <td>81.112328</td>\n      <td>0.004823</td>\n      <td>-0.028923</td>\n    </tr>\n    <tr>\n      <th>9</th>\n      <td>2022-01-13</td>\n      <td>9.647524e+05</td>\n      <td>-0.017852</td>\n      <td>-0.035248</td>\n      <td>79.085770</td>\n      <td>-0.024985</td>\n      <td>-0.053185</td>\n    </tr>\n    <tr>\n      <th>10</th>\n      <td>2022-01-14</td>\n      <td>9.602064e+05</td>\n      <td>-0.004712</td>\n      <td>-0.039794</td>\n      <td>79.305397</td>\n      <td>0.002777</td>\n      <td>-0.050556</td>\n    </tr>\n    <tr>\n      <th>11</th>\n      <td>2022-01-18</td>\n      <td>9.310654e+05</td>\n      <td>-0.030349</td>\n      <td>-0.068935</td>\n      <td>77.468513</td>\n      <td>-0.023162</td>\n      <td>-0.072547</td>\n    </tr>\n    <tr>\n      <th>12</th>\n      <td>2022-01-19</td>\n      <td>9.197738e+05</td>\n      <td>-0.012128</td>\n      <td>-0.080226</td>\n      <td>76.520126</td>\n      <td>-0.012242</td>\n      <td>-0.083901</td>\n    </tr>\n    <tr>\n      <th>13</th>\n      <td>2022-01-20</td>\n      <td>8.895495e+05</td>\n      <td>-0.032861</td>\n      <td>-0.110451</td>\n      <td>75.521820</td>\n      <td>-0.013046</td>\n      <td>-0.095853</td>\n    </tr>\n    <tr>\n      <th>14</th>\n      <td>2022-01-21</td>\n      <td>8.718609e+05</td>\n      <td>-0.019885</td>\n      <td>-0.128139</td>\n      <td>73.585098</td>\n      <td>-0.025645</td>\n      <td>-0.119039</td>\n    </tr>\n    <tr>\n      <th>15</th>\n      <td>2022-01-24</td>\n      <td>8.806420e+05</td>\n      <td>0.010072</td>\n      <td>-0.119358</td>\n      <td>74.064293</td>\n      <td>0.006512</td>\n      <td>-0.113302</td>\n    </tr>\n    <tr>\n      <th>16</th>\n      <td>2022-01-25</td>\n      <td>8.597752e+05</td>\n      <td>-0.023695</td>\n      <td>-0.140225</td>\n      <td>72.546860</td>\n      <td>-0.020488</td>\n      <td>-0.131469</td>\n    </tr>\n    <tr>\n      <th>17</th>\n      <td>2022-01-26</td>\n      <td>8.522244e+05</td>\n      <td>-0.008782</td>\n      <td>-0.147776</td>\n      <td>72.626732</td>\n      <td>0.001101</td>\n      <td>-0.130513</td>\n    </tr>\n    <tr>\n      <th>18</th>\n      <td>2022-01-27</td>\n      <td>8.431546e+05</td>\n      <td>-0.010642</td>\n      <td>-0.156845</td>\n      <td>72.047707</td>\n      <td>-0.007973</td>\n      <td>-0.137445</td>\n    </tr>\n    <tr>\n      <th>19</th>\n      <td>2022-01-28</td>\n      <td>8.569623e+05</td>\n      <td>0.016376</td>\n      <td>-0.143038</td>\n      <td>74.493561</td>\n      <td>0.033948</td>\n      <td>-0.108163</td>\n    </tr>\n    <tr>\n      <th>20</th>\n      <td>2022-01-31</td>\n      <td>8.881291e+05</td>\n      <td>0.036369</td>\n      <td>-0.111871</td>\n      <td>76.510139</td>\n      <td>0.027071</td>\n      <td>-0.084020</td>\n    </tr>\n    <tr>\n      <th>21</th>\n      <td>2022-02-01</td>\n      <td>9.015631e+05</td>\n      <td>0.015126</td>\n      <td>-0.098437</td>\n      <td>76.929420</td>\n      <td>0.005480</td>\n      <td>-0.079001</td>\n    </tr>\n    <tr>\n      <th>22</th>\n      <td>2022-02-02</td>\n      <td>8.799497e+05</td>\n      <td>-0.023973</td>\n      <td>-0.120050</td>\n      <td>77.917755</td>\n      <td>0.012847</td>\n      <td>-0.067169</td>\n    </tr>\n    <tr>\n      <th>23</th>\n      <td>2022-02-03</td>\n      <td>8.507355e+05</td>\n      <td>-0.033200</td>\n      <td>-0.149264</td>\n      <td>75.032646</td>\n      <td>-0.037028</td>\n      <td>-0.101709</td>\n    </tr>\n    <tr>\n      <th>24</th>\n      <td>2022-02-04</td>\n      <td>8.653279e+05</td>\n      <td>0.017153</td>\n      <td>-0.134672</td>\n      <td>75.971054</td>\n      <td>0.012507</td>\n      <td>-0.090474</td>\n    </tr>\n    <tr>\n      <th>25</th>\n      <td>2022-02-07</td>\n      <td>8.790460e+05</td>\n      <td>0.015853</td>\n      <td>-0.120954</td>\n      <td>75.372070</td>\n      <td>-0.007884</td>\n      <td>-0.097645</td>\n    </tr>\n    <tr>\n      <th>26</th>\n      <td>2022-02-08</td>\n      <td>9.065739e+05</td>\n      <td>0.031316</td>\n      <td>-0.093426</td>\n      <td>76.070877</td>\n      <td>0.009271</td>\n      <td>-0.089279</td>\n    </tr>\n    <tr>\n      <th>27</th>\n      <td>2022-02-09</td>\n      <td>9.225307e+05</td>\n      <td>0.017601</td>\n      <td>-0.077469</td>\n      <td>77.478493</td>\n      <td>0.018504</td>\n      <td>-0.072427</td>\n    </tr>\n    <tr>\n      <th>28</th>\n      <td>2022-02-10</td>\n      <td>9.139818e+05</td>\n      <td>-0.009267</td>\n      <td>-0.086018</td>\n      <td>75.751427</td>\n      <td>-0.022291</td>\n      <td>-0.093104</td>\n    </tr>\n    <tr>\n      <th>29</th>\n      <td>2022-02-11</td>\n      <td>8.947276e+05</td>\n      <td>-0.021066</td>\n      <td>-0.105272</td>\n      <td>73.575119</td>\n      <td>-0.028730</td>\n      <td>-0.119159</td>\n    </tr>\n    <tr>\n      <th>30</th>\n      <td>2022-02-14</td>\n      <td>8.853807e+05</td>\n      <td>-0.010447</td>\n      <td>-0.114619</td>\n      <td>73.565140</td>\n      <td>-0.000136</td>\n      <td>-0.119278</td>\n    </tr>\n    <tr>\n      <th>31</th>\n      <td>2022-02-15</td>\n      <td>8.958173e+05</td>\n      <td>0.011788</td>\n      <td>-0.104183</td>\n      <td>75.112511</td>\n      <td>0.021034</td>\n      <td>-0.100753</td>\n    </tr>\n    <tr>\n      <th>32</th>\n      <td>2022-02-16</td>\n      <td>8.906265e+05</td>\n      <td>-0.005795</td>\n      <td>-0.109374</td>\n      <td>75.142456</td>\n      <td>0.000399</td>\n      <td>-0.100394</td>\n    </tr>\n    <tr>\n      <th>33</th>\n      <td>2022-02-17</td>\n      <td>8.624502e+05</td>\n      <td>-0.031636</td>\n      <td>-0.137550</td>\n      <td>73.036041</td>\n      <td>-0.028032</td>\n      <td>-0.125612</td>\n    </tr>\n    <tr>\n      <th>34</th>\n      <td>2022-02-18</td>\n      <td>8.501971e+05</td>\n      <td>-0.014207</td>\n      <td>-0.149803</td>\n      <td>72.287308</td>\n      <td>-0.010252</td>\n      <td>-0.134576</td>\n    </tr>\n    <tr>\n      <th>35</th>\n      <td>2022-02-22</td>\n      <td>8.413849e+05</td>\n      <td>-0.010365</td>\n      <td>-0.158615</td>\n      <td>71.358887</td>\n      <td>-0.012843</td>\n      <td>-0.145691</td>\n    </tr>\n    <tr>\n      <th>36</th>\n      <td>2022-02-23</td>\n      <td>8.193935e+05</td>\n      <td>-0.026137</td>\n      <td>-0.180606</td>\n      <td>69.691711</td>\n      <td>-0.023363</td>\n      <td>-0.165651</td>\n    </tr>\n    <tr>\n      <th>37</th>\n      <td>2022-02-24</td>\n      <td>8.307675e+05</td>\n      <td>0.013881</td>\n      <td>-0.169232</td>\n      <td>71.828079</td>\n      <td>0.030655</td>\n      <td>-0.140074</td>\n    </tr>\n    <tr>\n      <th>38</th>\n      <td>2022-02-25</td>\n      <td>8.452427e+05</td>\n      <td>0.017424</td>\n      <td>-0.154757</td>\n      <td>73.006081</td>\n      <td>0.016400</td>\n      <td>-0.125971</td>\n    </tr>\n    <tr>\n      <th>39</th>\n      <td>2022-02-28</td>\n      <td>8.399326e+05</td>\n      <td>-0.006282</td>\n      <td>-0.160067</td>\n      <td>73.125885</td>\n      <td>0.001641</td>\n      <td>-0.124537</td>\n    </tr>\n    <tr>\n      <th>40</th>\n      <td>2022-03-01</td>\n      <td>8.254763e+05</td>\n      <td>-0.017211</td>\n      <td>-0.174524</td>\n      <td>71.957863</td>\n      <td>-0.015973</td>\n      <td>-0.138520</td>\n    </tr>\n    <tr>\n      <th>41</th>\n      <td>2022-03-02</td>\n      <td>8.442667e+05</td>\n      <td>0.022763</td>\n      <td>-0.155733</td>\n      <td>73.265648</td>\n      <td>0.018174</td>\n      <td>-0.122864</td>\n    </tr>\n    <tr>\n      <th>42</th>\n      <td>2022-03-03</td>\n      <td>8.274526e+05</td>\n      <td>-0.019916</td>\n      <td>-0.172547</td>\n      <td>72.466995</td>\n      <td>-0.010901</td>\n      <td>-0.132425</td>\n    </tr>\n    <tr>\n      <th>43</th>\n      <td>2022-03-04</td>\n      <td>8.189507e+05</td>\n      <td>-0.010275</td>\n      <td>-0.181049</td>\n      <td>71.538582</td>\n      <td>-0.012812</td>\n      <td>-0.143540</td>\n    </tr>\n    <tr>\n      <th>44</th>\n      <td>2022-03-07</td>\n      <td>7.797743e+05</td>\n      <td>-0.047837</td>\n      <td>-0.220226</td>\n      <td>68.833168</td>\n      <td>-0.037818</td>\n      <td>-0.175929</td>\n    </tr>\n    <tr>\n      <th>45</th>\n      <td>2022-03-08</td>\n      <td>7.844601e+05</td>\n      <td>0.006009</td>\n      <td>-0.215540</td>\n      <td>68.443825</td>\n      <td>-0.005656</td>\n      <td>-0.180590</td>\n    </tr>\n    <tr>\n      <th>46</th>\n      <td>2022-03-09</td>\n      <td>8.117840e+05</td>\n      <td>0.034832</td>\n      <td>-0.188216</td>\n      <td>70.999496</td>\n      <td>0.037340</td>\n      <td>-0.149994</td>\n    </tr>\n    <tr>\n      <th>47</th>\n      <td>2022-03-10</td>\n      <td>8.028613e+05</td>\n      <td>-0.010992</td>\n      <td>-0.197139</td>\n      <td>70.470383</td>\n      <td>-0.007452</td>\n      <td>-0.156328</td>\n    </tr>\n    <tr>\n      <th>48</th>\n      <td>2022-03-11</td>\n      <td>7.894618e+05</td>\n      <td>-0.016690</td>\n      <td>-0.210538</td>\n      <td>69.202538</td>\n      <td>-0.017991</td>\n      <td>-0.171507</td>\n    </tr>\n    <tr>\n      <th>49</th>\n      <td>2022-03-14</td>\n      <td>7.816105e+05</td>\n      <td>-0.009945</td>\n      <td>-0.218389</td>\n      <td>68.214218</td>\n      <td>-0.014282</td>\n      <td>-0.183339</td>\n    </tr>\n    <tr>\n      <th>50</th>\n      <td>2022-03-15</td>\n      <td>8.033558e+05</td>\n      <td>0.027821</td>\n      <td>-0.196644</td>\n      <td>70.290695</td>\n      <td>0.030441</td>\n      <td>-0.158480</td>\n    </tr>\n    <tr>\n      <th>51</th>\n      <td>2022-03-16</td>\n      <td>8.293337e+05</td>\n      <td>0.032337</td>\n      <td>-0.170666</td>\n      <td>72.437050</td>\n      <td>0.030535</td>\n      <td>-0.132784</td>\n    </tr>\n    <tr>\n      <th>52</th>\n      <td>2022-03-17</td>\n      <td>8.488804e+05</td>\n      <td>0.023569</td>\n      <td>-0.151120</td>\n      <td>73.405403</td>\n      <td>0.013368</td>\n      <td>-0.121190</td>\n    </tr>\n    <tr>\n      <th>53</th>\n      <td>2022-03-18</td>\n      <td>8.690398e+05</td>\n      <td>0.023748</td>\n      <td>-0.130960</td>\n      <td>74.832985</td>\n      <td>0.019448</td>\n      <td>-0.104099</td>\n    </tr>\n    <tr>\n      <th>54</th>\n      <td>2022-03-21</td>\n      <td>8.632020e+05</td>\n      <td>-0.006717</td>\n      <td>-0.136798</td>\n      <td>74.693222</td>\n      <td>-0.001868</td>\n      <td>-0.105773</td>\n    </tr>\n    <tr>\n      <th>55</th>\n      <td>2022-03-22</td>\n      <td>8.733212e+05</td>\n      <td>0.011723</td>\n      <td>-0.126679</td>\n      <td>75.951088</td>\n      <td>0.016840</td>\n      <td>-0.090713</td>\n    </tr>\n    <tr>\n      <th>56</th>\n      <td>2022-03-23</td>\n      <td>8.542595e+05</td>\n      <td>-0.021827</td>\n      <td>-0.145740</td>\n      <td>74.822998</td>\n      <td>-0.014853</td>\n      <td>-0.104219</td>\n    </tr>\n    <tr>\n      <th>57</th>\n      <td>2022-03-24</td>\n      <td>8.653650e+05</td>\n      <td>0.013000</td>\n      <td>-0.134635</td>\n      <td>76.260002</td>\n      <td>0.019205</td>\n      <td>-0.087015</td>\n    </tr>\n  </tbody>\n</table>\n</div>"
     },
     "execution_count": 52,
     "metadata": {},
     "output_type": "execute_result"
    }
   ],
   "source": [
    "df = pd.read_csv(\"assets/performance/Anish_perf.csv\")\n",
    "df"
   ]
  },
  {
   "cell_type": "markdown",
   "metadata": {
    "pycharm": {
     "name": "#%% md\n"
    }
   },
   "source": [
    "port = pd.read_csv('assets/port_apps/{}_{}'.format(name, date))"
   ]
  },
  {
   "cell_type": "code",
   "execution_count": 53,
   "outputs": [],
   "source": [
    "port = pd.read_csv('assets/port_apps/{}_apr_{}.csv'.format('Anish', date))"
   ],
   "metadata": {
    "collapsed": false,
    "pycharm": {
     "name": "#%%\n"
    }
   }
  },
  {
   "cell_type": "code",
   "execution_count": 54,
   "outputs": [],
   "source": [
    "port = port.fillna(\" \")"
   ],
   "metadata": {
    "collapsed": false,
    "pycharm": {
     "name": "#%%\n"
    }
   }
  },
  {
   "cell_type": "code",
   "execution_count": 58,
   "outputs": [],
   "source": [
    "apr_db = gc.create('sc_aps')\n",
    "perf_db = gc.create('sc_perf')"
   ],
   "metadata": {
    "collapsed": false,
    "pycharm": {
     "name": "#%%\n"
    }
   }
  },
  {
   "cell_type": "code",
   "execution_count": 56,
   "outputs": [],
   "source": [
    "worksheet = sh.add_worksheet(\"test\", 100, 100)"
   ],
   "metadata": {
    "collapsed": false,
    "pycharm": {
     "name": "#%%\n"
    }
   }
  },
  {
   "cell_type": "code",
   "execution_count": 28,
   "outputs": [],
   "source": [
    "lg_db = gc.create('league')"
   ],
   "metadata": {
    "collapsed": false,
    "pycharm": {
     "name": "#%%\n"
    }
   }
  },
  {
   "cell_type": "code",
   "execution_count": 56,
   "outputs": [],
   "source": [],
   "metadata": {
    "collapsed": false,
    "pycharm": {
     "name": "#%%\n"
    }
   }
  },
  {
   "cell_type": "code",
   "execution_count": 57,
   "outputs": [
    {
     "data": {
      "text/plain": "{'spreadsheetId': '13gSQL3XfW8p7SDfj_Lv6eWM37gDcVtpkKmb7bY0_WcA',\n 'updatedRange': 'test!A1:G13',\n 'updatedRows': 13,\n 'updatedColumns': 7,\n 'updatedCells': 91}"
     },
     "execution_count": 57,
     "metadata": {},
     "output_type": "execute_result"
    }
   ],
   "source": [
    "worksheet.update([port.columns.values.tolist()] + port.values.tolist(),)"
   ],
   "metadata": {
    "collapsed": false,
    "pycharm": {
     "name": "#%%\n"
    }
   }
  },
  {
   "cell_type": "code",
   "execution_count": null,
   "outputs": [],
   "source": [],
   "metadata": {
    "collapsed": false,
    "pycharm": {
     "name": "#%%\n"
    }
   }
  }
 ],
 "metadata": {
  "kernelspec": {
   "display_name": "Python 3 (ipykernel)",
   "language": "python",
   "name": "python3"
  },
  "language_info": {
   "codemirror_mode": {
    "name": "ipython",
    "version": 3
   },
   "file_extension": ".py",
   "mimetype": "text/x-python",
   "name": "python",
   "nbconvert_exporter": "python",
   "pygments_lexer": "ipython3",
   "version": "3.8.11"
  }
 },
 "nbformat": 4,
 "nbformat_minor": 4
}